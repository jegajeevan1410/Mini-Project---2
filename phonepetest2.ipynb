{
 "cells": [
  {
   "cell_type": "code",
   "execution_count": 1,
   "id": "5859ff14",
   "metadata": {},
   "outputs": [
    {
     "name": "stdout",
     "output_type": "stream",
     "text": [
      "Requirement already satisfied: nbformat in e:\\phonepe\\.venv\\lib\\site-packages (5.10.4)\n",
      "Requirement already satisfied: fastjsonschema>=2.15 in e:\\phonepe\\.venv\\lib\\site-packages (from nbformat) (2.21.1)\n",
      "Requirement already satisfied: jsonschema>=2.6 in e:\\phonepe\\.venv\\lib\\site-packages (from nbformat) (4.23.0)\n",
      "Requirement already satisfied: jupyter-core!=5.0.*,>=4.12 in e:\\phonepe\\.venv\\lib\\site-packages (from nbformat) (5.7.2)\n",
      "Requirement already satisfied: traitlets>=5.1 in e:\\phonepe\\.venv\\lib\\site-packages (from nbformat) (5.14.3)\n",
      "Requirement already satisfied: attrs>=22.2.0 in e:\\phonepe\\.venv\\lib\\site-packages (from jsonschema>=2.6->nbformat) (25.3.0)\n",
      "Requirement already satisfied: jsonschema-specifications>=2023.03.6 in e:\\phonepe\\.venv\\lib\\site-packages (from jsonschema>=2.6->nbformat) (2024.10.1)\n",
      "Requirement already satisfied: referencing>=0.28.4 in e:\\phonepe\\.venv\\lib\\site-packages (from jsonschema>=2.6->nbformat) (0.36.2)\n",
      "Requirement already satisfied: rpds-py>=0.7.1 in e:\\phonepe\\.venv\\lib\\site-packages (from jsonschema>=2.6->nbformat) (0.24.0)\n",
      "Requirement already satisfied: platformdirs>=2.5 in e:\\phonepe\\.venv\\lib\\site-packages (from jupyter-core!=5.0.*,>=4.12->nbformat) (4.3.7)\n",
      "Requirement already satisfied: pywin32>=300 in e:\\phonepe\\.venv\\lib\\site-packages (from jupyter-core!=5.0.*,>=4.12->nbformat) (310)\n",
      "Note: you may need to restart the kernel to use updated packages.\n"
     ]
    },
    {
     "name": "stderr",
     "output_type": "stream",
     "text": [
      "\n",
      "[notice] A new release of pip is available: 25.0.1 -> 25.1.1\n",
      "[notice] To update, run: python.exe -m pip install --upgrade pip\n"
     ]
    }
   ],
   "source": [
    "pip install nbformat"
   ]
  },
  {
   "cell_type": "code",
   "execution_count": 1,
   "id": "2938cc79",
   "metadata": {},
   "outputs": [],
   "source": [
    "import pandas as pd\n",
    "import mysql.connector as db\n",
    "import plotly.express as px\n",
    "import requests\n",
    "import json"
   ]
  },
  {
   "cell_type": "code",
   "execution_count": 2,
   "id": "08758ff2",
   "metadata": {},
   "outputs": [
    {
     "name": "stdout",
     "output_type": "stream",
     "text": [
      "✅ Database connected successfully!\n"
     ]
    }
   ],
   "source": [
    "# DataFrame creation \n",
    "#sql connection \n",
    "\n",
    "#db_connection\n",
    "\n",
    "user = \"phonepe\"\n",
    "passcode = \"Phonepe@1410\"\n",
    "host = \"localhost\"\n",
    "db_name = \"pp\"\n",
    "\n",
    "# Connect to MySQL\n",
    "conn = db.connect(\n",
    "    host=host,\n",
    "    user=user,\n",
    "    password=passcode,\n",
    "    database=db_name\n",
    ")\n",
    "cursor = conn.cursor()\n",
    "print(\"✅ Database connected successfully!\")"
   ]
  },
  {
   "cell_type": "code",
   "execution_count": 3,
   "id": "31ed0c57",
   "metadata": {},
   "outputs": [
    {
     "data": {
      "text/html": [
       "<div>\n",
       "<style scoped>\n",
       "    .dataframe tbody tr th:only-of-type {\n",
       "        vertical-align: middle;\n",
       "    }\n",
       "\n",
       "    .dataframe tbody tr th {\n",
       "        vertical-align: top;\n",
       "    }\n",
       "\n",
       "    .dataframe thead th {\n",
       "        text-align: right;\n",
       "    }\n",
       "</style>\n",
       "<table border=\"1\" class=\"dataframe\">\n",
       "  <thead>\n",
       "    <tr style=\"text-align: right;\">\n",
       "      <th></th>\n",
       "      <th>state</th>\n",
       "      <th>year</th>\n",
       "      <th>Quarter</th>\n",
       "      <th>Brands</th>\n",
       "      <th>Transacion_counts</th>\n",
       "      <th>Percentage</th>\n",
       "    </tr>\n",
       "  </thead>\n",
       "  <tbody>\n",
       "    <tr>\n",
       "      <th>0</th>\n",
       "      <td>Andaman &amp; Nicobar</td>\n",
       "      <td>2018</td>\n",
       "      <td>1</td>\n",
       "      <td>Xiaomi</td>\n",
       "      <td>1665</td>\n",
       "      <td>0.247033</td>\n",
       "    </tr>\n",
       "    <tr>\n",
       "      <th>1</th>\n",
       "      <td>Andaman &amp; Nicobar</td>\n",
       "      <td>2018</td>\n",
       "      <td>1</td>\n",
       "      <td>Samsung</td>\n",
       "      <td>1445</td>\n",
       "      <td>0.214392</td>\n",
       "    </tr>\n",
       "    <tr>\n",
       "      <th>2</th>\n",
       "      <td>Andaman &amp; Nicobar</td>\n",
       "      <td>2018</td>\n",
       "      <td>1</td>\n",
       "      <td>Vivo</td>\n",
       "      <td>982</td>\n",
       "      <td>0.145697</td>\n",
       "    </tr>\n",
       "    <tr>\n",
       "      <th>3</th>\n",
       "      <td>Andaman &amp; Nicobar</td>\n",
       "      <td>2018</td>\n",
       "      <td>1</td>\n",
       "      <td>Oppo</td>\n",
       "      <td>501</td>\n",
       "      <td>0.074332</td>\n",
       "    </tr>\n",
       "    <tr>\n",
       "      <th>4</th>\n",
       "      <td>Andaman &amp; Nicobar</td>\n",
       "      <td>2018</td>\n",
       "      <td>1</td>\n",
       "      <td>OnePlus</td>\n",
       "      <td>332</td>\n",
       "      <td>0.049258</td>\n",
       "    </tr>\n",
       "    <tr>\n",
       "      <th>...</th>\n",
       "      <td>...</td>\n",
       "      <td>...</td>\n",
       "      <td>...</td>\n",
       "      <td>...</td>\n",
       "      <td>...</td>\n",
       "      <td>...</td>\n",
       "    </tr>\n",
       "    <tr>\n",
       "      <th>6727</th>\n",
       "      <td>West Bengal</td>\n",
       "      <td>2022</td>\n",
       "      <td>1</td>\n",
       "      <td>Lenovo</td>\n",
       "      <td>330017</td>\n",
       "      <td>0.015056</td>\n",
       "    </tr>\n",
       "    <tr>\n",
       "      <th>6728</th>\n",
       "      <td>West Bengal</td>\n",
       "      <td>2022</td>\n",
       "      <td>1</td>\n",
       "      <td>Infinix</td>\n",
       "      <td>284678</td>\n",
       "      <td>0.012987</td>\n",
       "    </tr>\n",
       "    <tr>\n",
       "      <th>6729</th>\n",
       "      <td>West Bengal</td>\n",
       "      <td>2022</td>\n",
       "      <td>1</td>\n",
       "      <td>Asus</td>\n",
       "      <td>280347</td>\n",
       "      <td>0.012790</td>\n",
       "    </tr>\n",
       "    <tr>\n",
       "      <th>6730</th>\n",
       "      <td>West Bengal</td>\n",
       "      <td>2022</td>\n",
       "      <td>1</td>\n",
       "      <td>Apple</td>\n",
       "      <td>277752</td>\n",
       "      <td>0.012671</td>\n",
       "    </tr>\n",
       "    <tr>\n",
       "      <th>6731</th>\n",
       "      <td>West Bengal</td>\n",
       "      <td>2022</td>\n",
       "      <td>1</td>\n",
       "      <td>Others</td>\n",
       "      <td>2196334</td>\n",
       "      <td>0.100199</td>\n",
       "    </tr>\n",
       "  </tbody>\n",
       "</table>\n",
       "<p>6732 rows × 6 columns</p>\n",
       "</div>"
      ],
      "text/plain": [
       "                  state  year  Quarter   Brands  Transacion_counts  Percentage\n",
       "0     Andaman & Nicobar  2018        1   Xiaomi               1665    0.247033\n",
       "1     Andaman & Nicobar  2018        1  Samsung               1445    0.214392\n",
       "2     Andaman & Nicobar  2018        1     Vivo                982    0.145697\n",
       "3     Andaman & Nicobar  2018        1     Oppo                501    0.074332\n",
       "4     Andaman & Nicobar  2018        1  OnePlus                332    0.049258\n",
       "...                 ...   ...      ...      ...                ...         ...\n",
       "6727        West Bengal  2022        1   Lenovo             330017    0.015056\n",
       "6728        West Bengal  2022        1  Infinix             284678    0.012987\n",
       "6729        West Bengal  2022        1     Asus             280347    0.012790\n",
       "6730        West Bengal  2022        1    Apple             277752    0.012671\n",
       "6731        West Bengal  2022        1   Others            2196334    0.100199\n",
       "\n",
       "[6732 rows x 6 columns]"
      ]
     },
     "execution_count": 3,
     "metadata": {},
     "output_type": "execute_result"
    }
   ],
   "source": [
    "#Aggregated\n",
    "\n",
    "#Agg_insurance_df\n",
    "\n",
    "cursor.execute(\"SELECT * FROM agg_insurance\")\n",
    "table1 = cursor.fetchall()\n",
    "\n",
    "Agg_insurance = pd.DataFrame(table1, columns=(\"state\", \"year\", \"Quarter\", \"Transacion_type\",\"Transacion_count\",\"Transacion_amount\"))\n",
    "Agg_insurance\n",
    "\n",
    "#Agg_Trans_df\n",
    "\n",
    "cursor.execute(\"SELECT * FROM agg_trans\")\n",
    "table2 = cursor.fetchall()\n",
    "\n",
    "Agg_transaction = pd.DataFrame(table2, columns=(\"state\", \"year\", \"Quarter\", \"Transacion_type\",\"Transacion_count\",\"Transacion_amount\"))\n",
    "Agg_transaction\n",
    "\n",
    "#Agg_user_df\n",
    "\n",
    "cursor.execute(\"SELECT * FROM agg_user\")\n",
    "table3 = cursor.fetchall()\n",
    "\n",
    "Agg_user = pd.DataFrame(table3, columns=(\"state\", \"year\", \"Quarter\", \"Brands\",\"Transacion_counts\",\"Percentage\"))\n",
    "Agg_user"
   ]
  },
  {
   "cell_type": "code",
   "execution_count": 45,
   "id": "2de6614a",
   "metadata": {},
   "outputs": [
    {
     "data": {
      "text/html": [
       "<div>\n",
       "<style scoped>\n",
       "    .dataframe tbody tr th:only-of-type {\n",
       "        vertical-align: middle;\n",
       "    }\n",
       "\n",
       "    .dataframe tbody tr th {\n",
       "        vertical-align: top;\n",
       "    }\n",
       "\n",
       "    .dataframe thead th {\n",
       "        text-align: right;\n",
       "    }\n",
       "</style>\n",
       "<table border=\"1\" class=\"dataframe\">\n",
       "  <thead>\n",
       "    <tr style=\"text-align: right;\">\n",
       "      <th></th>\n",
       "      <th>state</th>\n",
       "      <th>year</th>\n",
       "      <th>Quarter</th>\n",
       "      <th>Districts</th>\n",
       "      <th>Registered_Users</th>\n",
       "      <th>App_Opens</th>\n",
       "    </tr>\n",
       "  </thead>\n",
       "  <tbody>\n",
       "    <tr>\n",
       "      <th>0</th>\n",
       "      <td>Andaman &amp; Nicobar</td>\n",
       "      <td>2018</td>\n",
       "      <td>1</td>\n",
       "      <td>north and middle andaman district</td>\n",
       "      <td>632</td>\n",
       "      <td>0</td>\n",
       "    </tr>\n",
       "    <tr>\n",
       "      <th>1</th>\n",
       "      <td>Andaman &amp; Nicobar</td>\n",
       "      <td>2018</td>\n",
       "      <td>1</td>\n",
       "      <td>south andaman district</td>\n",
       "      <td>5846</td>\n",
       "      <td>0</td>\n",
       "    </tr>\n",
       "    <tr>\n",
       "      <th>2</th>\n",
       "      <td>Andaman &amp; Nicobar</td>\n",
       "      <td>2018</td>\n",
       "      <td>1</td>\n",
       "      <td>nicobars district</td>\n",
       "      <td>262</td>\n",
       "      <td>0</td>\n",
       "    </tr>\n",
       "    <tr>\n",
       "      <th>3</th>\n",
       "      <td>Andaman &amp; Nicobar</td>\n",
       "      <td>2018</td>\n",
       "      <td>2</td>\n",
       "      <td>north and middle andaman district</td>\n",
       "      <td>911</td>\n",
       "      <td>0</td>\n",
       "    </tr>\n",
       "    <tr>\n",
       "      <th>4</th>\n",
       "      <td>Andaman &amp; Nicobar</td>\n",
       "      <td>2018</td>\n",
       "      <td>2</td>\n",
       "      <td>south andaman district</td>\n",
       "      <td>8143</td>\n",
       "      <td>0</td>\n",
       "    </tr>\n",
       "    <tr>\n",
       "      <th>...</th>\n",
       "      <td>...</td>\n",
       "      <td>...</td>\n",
       "      <td>...</td>\n",
       "      <td>...</td>\n",
       "      <td>...</td>\n",
       "      <td>...</td>\n",
       "    </tr>\n",
       "    <tr>\n",
       "      <th>20603</th>\n",
       "      <td>West Bengal</td>\n",
       "      <td>2024</td>\n",
       "      <td>4</td>\n",
       "      <td>alipurduar district</td>\n",
       "      <td>475688</td>\n",
       "      <td>31842355</td>\n",
       "    </tr>\n",
       "    <tr>\n",
       "      <th>20604</th>\n",
       "      <td>West Bengal</td>\n",
       "      <td>2024</td>\n",
       "      <td>4</td>\n",
       "      <td>paschim bardhaman district</td>\n",
       "      <td>1468252</td>\n",
       "      <td>80543469</td>\n",
       "    </tr>\n",
       "    <tr>\n",
       "      <th>20605</th>\n",
       "      <td>West Bengal</td>\n",
       "      <td>2024</td>\n",
       "      <td>4</td>\n",
       "      <td>nadia district</td>\n",
       "      <td>1861738</td>\n",
       "      <td>98740305</td>\n",
       "    </tr>\n",
       "    <tr>\n",
       "      <th>20606</th>\n",
       "      <td>West Bengal</td>\n",
       "      <td>2024</td>\n",
       "      <td>4</td>\n",
       "      <td>birbhum district</td>\n",
       "      <td>1114220</td>\n",
       "      <td>73465525</td>\n",
       "    </tr>\n",
       "    <tr>\n",
       "      <th>20607</th>\n",
       "      <td>West Bengal</td>\n",
       "      <td>2024</td>\n",
       "      <td>4</td>\n",
       "      <td>purba medinipur district</td>\n",
       "      <td>1717074</td>\n",
       "      <td>108350777</td>\n",
       "    </tr>\n",
       "  </tbody>\n",
       "</table>\n",
       "<p>20608 rows × 6 columns</p>\n",
       "</div>"
      ],
      "text/plain": [
       "                   state  year  Quarter                          Districts  \\\n",
       "0      Andaman & Nicobar  2018        1  north and middle andaman district   \n",
       "1      Andaman & Nicobar  2018        1             south andaman district   \n",
       "2      Andaman & Nicobar  2018        1                  nicobars district   \n",
       "3      Andaman & Nicobar  2018        2  north and middle andaman district   \n",
       "4      Andaman & Nicobar  2018        2             south andaman district   \n",
       "...                  ...   ...      ...                                ...   \n",
       "20603        West Bengal  2024        4                alipurduar district   \n",
       "20604        West Bengal  2024        4         paschim bardhaman district   \n",
       "20605        West Bengal  2024        4                     nadia district   \n",
       "20606        West Bengal  2024        4                   birbhum district   \n",
       "20607        West Bengal  2024        4           purba medinipur district   \n",
       "\n",
       "       Registered_Users  App_Opens  \n",
       "0                   632          0  \n",
       "1                  5846          0  \n",
       "2                   262          0  \n",
       "3                   911          0  \n",
       "4                  8143          0  \n",
       "...                 ...        ...  \n",
       "20603            475688   31842355  \n",
       "20604           1468252   80543469  \n",
       "20605           1861738   98740305  \n",
       "20606           1114220   73465525  \n",
       "20607           1717074  108350777  \n",
       "\n",
       "[20608 rows x 6 columns]"
      ]
     },
     "execution_count": 45,
     "metadata": {},
     "output_type": "execute_result"
    }
   ],
   "source": [
    "#Map\n",
    "\n",
    "#Map_insurance_df\n",
    "\n",
    "cursor.execute(\"SELECT * FROM map_insurance\")\n",
    "table4 = cursor.fetchall()\n",
    "\n",
    "Map_insurance = pd.DataFrame(table4, columns=(\"state\", \"year\", \"Quarter\", \"Districts\",\"Transacion_count\",\"Transacion_amount\"))\n",
    "Map_insurance\n",
    "\n",
    "#Map_transaction_df\n",
    "\n",
    "cursor.execute(\"SELECT * FROM map_trans\")\n",
    "table5 = cursor.fetchall()\n",
    "\n",
    "Map_transaction = pd.DataFrame(table5, columns=(\"state\", \"year\", \"Quarter\", \"Districts\",\"Transacion_count\",\"Transacion_amount\"))\n",
    "Map_transaction\n",
    "\n",
    "#Map_user_df\n",
    "\n",
    "cursor.execute(\"SELECT * FROM map_user\")\n",
    "table6 = cursor.fetchall()\n",
    "\n",
    "Map_user = pd.DataFrame(table6, columns=(\"state\", \"year\", \"Quarter\", \"Districts\",\"Registered_Users\",\"App_Opens\"))\n",
    "Map_user\n",
    "\n"
   ]
  },
  {
   "cell_type": "code",
   "execution_count": 5,
   "id": "84c5d41a",
   "metadata": {},
   "outputs": [
    {
     "data": {
      "text/html": [
       "<div>\n",
       "<style scoped>\n",
       "    .dataframe tbody tr th:only-of-type {\n",
       "        vertical-align: middle;\n",
       "    }\n",
       "\n",
       "    .dataframe tbody tr th {\n",
       "        vertical-align: top;\n",
       "    }\n",
       "\n",
       "    .dataframe thead th {\n",
       "        text-align: right;\n",
       "    }\n",
       "</style>\n",
       "<table border=\"1\" class=\"dataframe\">\n",
       "  <thead>\n",
       "    <tr style=\"text-align: right;\">\n",
       "      <th></th>\n",
       "      <th>state</th>\n",
       "      <th>year</th>\n",
       "      <th>Quarter</th>\n",
       "      <th>Pincodes</th>\n",
       "      <th>Registered_Users</th>\n",
       "    </tr>\n",
       "  </thead>\n",
       "  <tbody>\n",
       "    <tr>\n",
       "      <th>0</th>\n",
       "      <td>Andaman &amp; Nicobar</td>\n",
       "      <td>2018</td>\n",
       "      <td>1</td>\n",
       "      <td>744103</td>\n",
       "      <td>1608</td>\n",
       "    </tr>\n",
       "    <tr>\n",
       "      <th>1</th>\n",
       "      <td>Andaman &amp; Nicobar</td>\n",
       "      <td>2018</td>\n",
       "      <td>1</td>\n",
       "      <td>744101</td>\n",
       "      <td>1108</td>\n",
       "    </tr>\n",
       "    <tr>\n",
       "      <th>2</th>\n",
       "      <td>Andaman &amp; Nicobar</td>\n",
       "      <td>2018</td>\n",
       "      <td>1</td>\n",
       "      <td>744105</td>\n",
       "      <td>1075</td>\n",
       "    </tr>\n",
       "    <tr>\n",
       "      <th>3</th>\n",
       "      <td>Andaman &amp; Nicobar</td>\n",
       "      <td>2018</td>\n",
       "      <td>1</td>\n",
       "      <td>744102</td>\n",
       "      <td>1006</td>\n",
       "    </tr>\n",
       "    <tr>\n",
       "      <th>4</th>\n",
       "      <td>Andaman &amp; Nicobar</td>\n",
       "      <td>2018</td>\n",
       "      <td>1</td>\n",
       "      <td>744104</td>\n",
       "      <td>272</td>\n",
       "    </tr>\n",
       "    <tr>\n",
       "      <th>...</th>\n",
       "      <td>...</td>\n",
       "      <td>...</td>\n",
       "      <td>...</td>\n",
       "      <td>...</td>\n",
       "      <td>...</td>\n",
       "    </tr>\n",
       "    <tr>\n",
       "      <th>9995</th>\n",
       "      <td>West Bengal</td>\n",
       "      <td>2024</td>\n",
       "      <td>4</td>\n",
       "      <td>733134</td>\n",
       "      <td>169596</td>\n",
       "    </tr>\n",
       "    <tr>\n",
       "      <th>9996</th>\n",
       "      <td>West Bengal</td>\n",
       "      <td>2024</td>\n",
       "      <td>4</td>\n",
       "      <td>700059</td>\n",
       "      <td>169448</td>\n",
       "    </tr>\n",
       "    <tr>\n",
       "      <th>9997</th>\n",
       "      <td>West Bengal</td>\n",
       "      <td>2024</td>\n",
       "      <td>4</td>\n",
       "      <td>711302</td>\n",
       "      <td>146034</td>\n",
       "    </tr>\n",
       "    <tr>\n",
       "      <th>9998</th>\n",
       "      <td>West Bengal</td>\n",
       "      <td>2024</td>\n",
       "      <td>4</td>\n",
       "      <td>700150</td>\n",
       "      <td>142151</td>\n",
       "    </tr>\n",
       "    <tr>\n",
       "      <th>9999</th>\n",
       "      <td>West Bengal</td>\n",
       "      <td>2024</td>\n",
       "      <td>4</td>\n",
       "      <td>711106</td>\n",
       "      <td>142077</td>\n",
       "    </tr>\n",
       "  </tbody>\n",
       "</table>\n",
       "<p>10000 rows × 5 columns</p>\n",
       "</div>"
      ],
      "text/plain": [
       "                  state  year  Quarter  Pincodes  Registered_Users\n",
       "0     Andaman & Nicobar  2018        1    744103              1608\n",
       "1     Andaman & Nicobar  2018        1    744101              1108\n",
       "2     Andaman & Nicobar  2018        1    744105              1075\n",
       "3     Andaman & Nicobar  2018        1    744102              1006\n",
       "4     Andaman & Nicobar  2018        1    744104               272\n",
       "...                 ...   ...      ...       ...               ...\n",
       "9995        West Bengal  2024        4    733134            169596\n",
       "9996        West Bengal  2024        4    700059            169448\n",
       "9997        West Bengal  2024        4    711302            146034\n",
       "9998        West Bengal  2024        4    700150            142151\n",
       "9999        West Bengal  2024        4    711106            142077\n",
       "\n",
       "[10000 rows x 5 columns]"
      ]
     },
     "execution_count": 5,
     "metadata": {},
     "output_type": "execute_result"
    }
   ],
   "source": [
    "#Top\n",
    "\n",
    "#Top_insurance_df\n",
    "\n",
    "cursor.execute(\"SELECT * FROM top_insurance\")\n",
    "table7 = cursor.fetchall()\n",
    "\n",
    "Top_insurance = pd.DataFrame(table7, columns=(\"state\", \"year\", \"Quarter\", \"Pincodes\",\"Transacion_count\",\"Transacion_amount\"))\n",
    "Top_insurance\n",
    "\n",
    "#Top_transaction_df\n",
    "\n",
    "cursor.execute(\"SELECT * FROM top_trans\")\n",
    "table8 = cursor.fetchall()\n",
    "\n",
    "Top_transaction = pd.DataFrame(table8, columns=(\"state\", \"year\", \"Quarter\", \"Pincodes\",\"Transacion_count\",\"Transacion_amount\"))\n",
    "Top_transaction\n",
    "\n",
    "#Top_user_df\n",
    "\n",
    "cursor.execute(\"SELECT * FROM top_user\")\n",
    "table9 = cursor.fetchall()\n",
    "\n",
    "Top_user = pd.DataFrame(table9, columns=(\"state\", \"year\", \"Quarter\", \"Pincodes\",\"Registered_Users\"))\n",
    "Top_user\n",
    "\n",
    "\n",
    "\n"
   ]
  },
  {
   "cell_type": "code",
   "execution_count": 26,
   "id": "84b333f5",
   "metadata": {},
   "outputs": [],
   "source": [
    "#db_connection\n",
    "\n",
    "def top_chart_transaction_amount(table_name):\n",
    "\n",
    "        user = \"phonepe\"\n",
    "        passcode = \"Phonepe@1410\"\n",
    "        host = \"localhost\"\n",
    "        db_name = \"pp\"\n",
    "\n",
    "        # Connect to MySQL\n",
    "        conn = db.connect(\n",
    "        host=host,\n",
    "        user=user,\n",
    "        password=passcode,\n",
    "        database=db_name\n",
    "        )\n",
    "        cursor = conn.cursor()\n",
    "\n",
    "\n",
    "        #Plot_1\n",
    "        Query1=f\"\"\"SELECT State , SUM(Transacion_amount) as Transacion_amount\n",
    "                FROM {table_name}\n",
    "                GROUP BY State\n",
    "                ORDER BY Transacion_amount DESC\n",
    "                LIMIT 10;\"\"\"\n",
    "        cursor.execute(Query1)\n",
    "        table1=cursor.fetchall()\n",
    "        conn.commit()\n",
    "\n",
    "        df_1=pd.DataFrame(table1,columns=(\"State\",\"Transacion_amount\"))\n",
    "\n",
    "        fig_amt1=px.bar(df_1,x=\"State\",y=\"Transacion_amount\",title=\"TRANSACTION AMOUNT\",hover_name=\"State\",\n",
    "                color=\"Transacion_amount\",height=600, width=600)\n",
    "        fig_amt1.show()\n",
    "\n",
    "\n",
    "        #Plot_2\n",
    "        Query2=f\"\"\"SELECT State , SUM(Transacion_amount) as Transacion_amount\n",
    "                FROM {table_name}\n",
    "                GROUP BY State\n",
    "                ORDER BY Transacion_amount\n",
    "                LIMIT 10;\"\"\"\n",
    "        cursor.execute(Query2)\n",
    "        table2=cursor.fetchall()\n",
    "        conn.commit()\n",
    "\n",
    "        df_2=pd.DataFrame(table2,columns=(\"State\",\"Transacion_amount\"))\n",
    "\n",
    "        fig_amt2=px.bar(df_2,x=\"State\",y=\"Transacion_amount\",title=\"TRANSACTION AMOUNT\",hover_name=\"State\",\n",
    "                color=\"Transacion_amount\",height=600, width=600)\n",
    "        fig_amt2.show()\n",
    "\n",
    "\n",
    "        #Plot_3\n",
    "        Query3=f\"\"\"SELECT State , AVG(Transacion_amount) as Transacion_amount\n",
    "                FROM {table_name}\n",
    "                GROUP BY State\n",
    "                ORDER BY Transacion_amount;\"\"\"\n",
    "        cursor.execute(Query3)\n",
    "        table3=cursor.fetchall()\n",
    "        conn.commit()\n",
    "\n",
    "        df_3=pd.DataFrame(table3,columns=(\"State\",\"Transacion_amount\"))\n",
    "\n",
    "        fig_amt3=px.bar(df_3,x=\"Transacion_amount\",y=\"State\",title=\"TRANSACTION AMOUNT\",hover_name=\"State\",orientation=\"h\",\n",
    "                color=\"Transacion_amount\",height=600, width=600)\n",
    "        fig_amt3.show()\n"
   ]
  },
  {
   "cell_type": "code",
   "execution_count": 35,
   "id": "5f70a10e",
   "metadata": {},
   "outputs": [],
   "source": [
    "#db_connection\n",
    "\n",
    "def top_chart_transaction_count(table_name):\n",
    "\n",
    "        user = \"phonepe\"\n",
    "        passcode = \"Phonepe@1410\"\n",
    "        host = \"localhost\"\n",
    "        db_name = \"pp\"\n",
    "\n",
    "        # Connect to MySQL\n",
    "        conn = db.connect(\n",
    "        host=host,\n",
    "        user=user,\n",
    "        password=passcode,\n",
    "        database=db_name\n",
    "        )\n",
    "        cursor = conn.cursor()\n",
    "\n",
    "\n",
    "        #Plot_1\n",
    "        Query1=f\"\"\"SELECT State , SUM(Transacion_count) as Transacion_count\n",
    "                FROM {table_name}\n",
    "                GROUP BY State\n",
    "                ORDER BY Transacion_count DESC\n",
    "                LIMIT 10;\"\"\"\n",
    "        cursor.execute(Query1)\n",
    "        table1=cursor.fetchall()\n",
    "        conn.commit()\n",
    "\n",
    "        df_1=pd.DataFrame(table1,columns=(\"State\",\"Transacion_count\"))\n",
    "\n",
    "        fig_amt1=px.bar(df_1,x=\"State\",y=\"Transacion_count\",title=\"TRANSACTION COUNT\",hover_name=\"State\",\n",
    "                color=\"Transacion_count\",height=600, width=600)\n",
    "        fig_amt1.show()\n",
    "\n",
    "\n",
    "        #Plot_2\n",
    "        Query2=f\"\"\"SELECT State , SUM(Transacion_count) as Transacion_count\n",
    "                FROM {table_name}\n",
    "                GROUP BY State\n",
    "                ORDER BY Transacion_count\n",
    "                LIMIT 10;\"\"\"\n",
    "        cursor.execute(Query2)\n",
    "        table2=cursor.fetchall()\n",
    "        conn.commit()\n",
    "\n",
    "        df_2=pd.DataFrame(table2,columns=(\"State\",\"Transacion_count\"))\n",
    "\n",
    "        fig_amt2=px.bar(df_2,x=\"State\",y=\"Transacion_count\",title=\"TRANSACTION COUNT\",hover_name=\"State\",\n",
    "                color=\"Transacion_count\",height=600, width=600)\n",
    "        fig_amt2.show()\n",
    "\n",
    "\n",
    "        #Plot_3\n",
    "        Query3=f\"\"\"SELECT State , AVG(Transacion_count) as Transacion_count\n",
    "                FROM {table_name}\n",
    "                GROUP BY State\n",
    "                ORDER BY Transacion_count;\"\"\"\n",
    "        cursor.execute(Query3)\n",
    "        table3=cursor.fetchall()\n",
    "        conn.commit()\n",
    "\n",
    "        df_3=pd.DataFrame(table3,columns=(\"State\",\"Transacion_count\"))\n",
    "\n",
    "        fig_amt3=px.bar(df_3,x=\"Transacion_count\",y=\"State\",title=\"TRANSACTION COUNT\",hover_name=\"State\",orientation=\"h\",\n",
    "                color=\"Transacion_count\",height=800, width=1000)\n",
    "        fig_amt3.show()\n"
   ]
  },
  {
   "cell_type": "code",
   "execution_count": 41,
   "id": "7a240f9b",
   "metadata": {},
   "outputs": [],
   "source": [
    "#db_connection\n",
    "\n",
    "def top_chart_registered_user(table_name,state):\n",
    "\n",
    "        user = \"phonepe\"\n",
    "        passcode = \"Phonepe@1410\"\n",
    "        host = \"localhost\"\n",
    "        db_name = \"pp\"\n",
    "\n",
    "        # Connect to MySQL\n",
    "        conn = db.connect(\n",
    "        host=host,\n",
    "        user=user,\n",
    "        password=passcode,\n",
    "        database=db_name\n",
    "        )\n",
    "        cursor = conn.cursor()\n",
    "\n",
    "\n",
    "        #Plot_1\n",
    "        Query1=f\"\"\"SELECT Districts , SUM(Registered_Users) as Registered_Users\n",
    "                    FROM {table_name}\n",
    "                    WHERE State = '{state}'\n",
    "                    GROUP BY Districts\n",
    "                    ORDER BY Registered_Users DESC\n",
    "                    LIMIT 10;\"\"\"\n",
    "        cursor.execute(Query1)\n",
    "        table1=cursor.fetchall()\n",
    "        conn.commit()\n",
    "\n",
    "        df_1=pd.DataFrame(table1,columns=(\"Districts\",\"Registered_Users\"))\n",
    "\n",
    "        fig_amt1=px.bar(df_1,x=\"Districts\",y=\"Registered_Users\",title=\"TOP 10 REGISTERED USER\",hover_name=\"Districts\",\n",
    "                color=\"Registered_Users\",height=600, width=600)\n",
    "        fig_amt1.show()\n",
    "\n",
    "\n",
    "        #Plot_2\n",
    "        Query2=f\"\"\"SELECT Districts , SUM(Registered_Users) as Registered_Users\n",
    "                    FROM {table_name}\n",
    "                    WHERE State = '{state}'\n",
    "                    GROUP BY Districts\n",
    "                    ORDER BY Registered_Users\n",
    "                    LIMIT 10;\"\"\"\n",
    "        cursor.execute(Query2)\n",
    "        table2=cursor.fetchall()\n",
    "        conn.commit()\n",
    "\n",
    "        df_2=pd.DataFrame(table2,columns=(\"Districts\",\"Registered_Users\"))\n",
    "\n",
    "        fig_amt2=px.bar(df_2,x=\"Districts\",y=\"Registered_Users\",title=\"LAST 10 REGISTERED USER\",hover_name=\"Districts\",\n",
    "                color=\"Registered_Users\",height=600, width=600)\n",
    "        fig_amt2.show()\n",
    "\n",
    "\n",
    "        #Plot_3\n",
    "        Query3=f\"\"\"SELECT Districts , AVG(Registered_Users) as Registered_Users\n",
    "                    FROM {table_name}\n",
    "                    WHERE State = '{state}'\n",
    "                    GROUP BY Districts\n",
    "                    ORDER BY Registered_Users;\"\"\"\n",
    "        cursor.execute(Query3)\n",
    "        table3=cursor.fetchall()\n",
    "        conn.commit()\n",
    "\n",
    "        df_3=pd.DataFrame(table3,columns=(\"Districts\",\"Registered_Users\"))\n",
    "\n",
    "        fig_amt3=px.bar(df_3,x=\"Registered_Users\",y=\"Districts\",title=\"AVERAGE REGISTERED USER\",hover_name=\"Districts\",orientation=\"h\",\n",
    "                color=\"Registered_Users\",height=800, width=1000)\n",
    "        fig_amt3.show()\n"
   ]
  },
  {
   "cell_type": "code",
   "execution_count": 49,
   "id": "28eeca65",
   "metadata": {},
   "outputs": [],
   "source": [
    "#db_connection\n",
    "\n",
    "def top_chart_app_opens(table_name,state):\n",
    "\n",
    "        user = \"phonepe\"\n",
    "        passcode = \"Phonepe@1410\"\n",
    "        host = \"localhost\"\n",
    "        db_name = \"pp\"\n",
    "\n",
    "        # Connect to MySQL\n",
    "        conn = db.connect(\n",
    "        host=host,\n",
    "        user=user,\n",
    "        password=passcode,\n",
    "        database=db_name\n",
    "        )\n",
    "        cursor = conn.cursor()\n",
    "\n",
    "\n",
    "        #Plot_1\n",
    "        Query1=f\"\"\"SELECT Districts , SUM(App_Opens) as App_Opens\n",
    "                    FROM {table_name}\n",
    "                    WHERE State = '{state}'\n",
    "                    GROUP BY Districts\n",
    "                    ORDER BY App_Opens DESC\n",
    "                    LIMIT 10;\"\"\"\n",
    "        cursor.execute(Query1)\n",
    "        table1=cursor.fetchall()\n",
    "        conn.commit()\n",
    "\n",
    "        df_1=pd.DataFrame(table1,columns=(\"Districts\",\"App_Opens\"))\n",
    "\n",
    "        fig_amt1=px.bar(df_1,x=\"Districts\",y=\"App_Opens\",title=\"TOP 10 APP OPENS\",hover_name=\"Districts\",\n",
    "                color=\"App_Opens\",height=600, width=600)\n",
    "        fig_amt1.show()\n",
    "\n",
    "\n",
    "        #Plot_2\n",
    "        Query2=f\"\"\"SELECT Districts , SUM(App_Opens) as App_Opens\n",
    "                    FROM {table_name}\n",
    "                    WHERE State = '{state}'\n",
    "                    GROUP BY Districts\n",
    "                    ORDER BY App_Opens\n",
    "                    LIMIT 10;\"\"\"\n",
    "        cursor.execute(Query2)\n",
    "        table2=cursor.fetchall()\n",
    "        conn.commit()\n",
    "\n",
    "        df_2=pd.DataFrame(table2,columns=(\"Districts\",\"App_Opens\"))\n",
    "\n",
    "        fig_amt2=px.bar(df_2,x=\"Districts\",y=\"App_Opens\",title=\"LAST 10 APP OPENS\",hover_name=\"Districts\",\n",
    "                color=\"App_Opens\",height=600, width=600)\n",
    "        fig_amt2.show()\n",
    "\n",
    "\n",
    "        #Plot_3\n",
    "        Query3=f\"\"\"SELECT Districts , AVG(App_Opens) as App_Opens\n",
    "                    FROM {table_name}\n",
    "                    WHERE State = '{state}'\n",
    "                    GROUP BY Districts\n",
    "                    ORDER BY App_Opens;\"\"\"\n",
    "        cursor.execute(Query3)\n",
    "        table3=cursor.fetchall()\n",
    "        conn.commit()\n",
    "\n",
    "        df_3=pd.DataFrame(table3,columns=(\"Districts\",\"App_Opens\"))\n",
    "\n",
    "        fig_amt3=px.bar(df_3,x=\"App_Opens\",y=\"Districts\",title=\"AVERAGE APP OPENS\",hover_name=\"Districts\",orientation=\"h\",\n",
    "                color=\"App_Opens\",height=800, width=1000)\n",
    "        fig_amt3.show()\n"
   ]
  },
  {
   "cell_type": "code",
   "execution_count": 52,
   "id": "dc23ce28",
   "metadata": {},
   "outputs": [],
   "source": [
    "#db_connection\n",
    "\n",
    "def top_chart_registered_users(table_name):\n",
    "\n",
    "        user = \"phonepe\"\n",
    "        passcode = \"Phonepe@1410\"\n",
    "        host = \"localhost\"\n",
    "        db_name = \"pp\"\n",
    "\n",
    "        # Connect to MySQL\n",
    "        conn = db.connect(\n",
    "        host=host,\n",
    "        user=user,\n",
    "        password=passcode,\n",
    "        database=db_name\n",
    "        )\n",
    "        cursor = conn.cursor()\n",
    "\n",
    "\n",
    "        #Plot_1\n",
    "        Query1=f\"\"\"SELECT State , SUM(Registered_Users) as Registered_Users\n",
    "                    FROM {table_name}\n",
    "                    GROUP BY State\n",
    "                    ORDER BY Registered_Users DESC\n",
    "                    LIMIT 10 ;\"\"\"\n",
    "        cursor.execute(Query1)\n",
    "        table1=cursor.fetchall()\n",
    "        conn.commit()\n",
    "\n",
    "        df_1=pd.DataFrame(table1,columns=(\"State\",\"Registered_Users\"))\n",
    "\n",
    "        fig_amt1=px.bar(df_1,x=\"State\",y=\"Registered_Users\",title=\"TOP 10 REGISTERED USERs\",hover_name=\"State\",\n",
    "                color=\"Registered_Users\",height=600, width=600)\n",
    "        fig_amt1.show()\n",
    "\n",
    "\n",
    "        #Plot_2\n",
    "        Query2=f\"\"\"SELECT State , SUM(Registered_Users) as Registered_Users\n",
    "                    FROM {table_name}\n",
    "                    GROUP BY State\n",
    "                    ORDER BY Registered_Users\n",
    "                    LIMIT 10 ;\"\"\"\n",
    "        cursor.execute(Query2)\n",
    "        table2=cursor.fetchall()\n",
    "        conn.commit()\n",
    "\n",
    "        df_2=pd.DataFrame(table2,columns=(\"State\",\"Registered_Users\"))\n",
    "\n",
    "        fig_amt2=px.bar(df_2,x=\"State\",y=\"Registered_Users\",title=\"LAST 10 REGISTERED USER\",hover_name=\"State\",\n",
    "                color=\"Registered_Users\",height=600, width=600)\n",
    "        fig_amt2.show()\n",
    "\n",
    "\n",
    "        #Plot_3\n",
    "        Query3=f\"\"\"SELECT State , AVG(Registered_Users) as Registered_Users\n",
    "                    FROM {table_name}\n",
    "                    GROUP BY State\n",
    "                    ORDER BY Registered_Users;\"\"\"\n",
    "        cursor.execute(Query3)\n",
    "        table3=cursor.fetchall()\n",
    "        conn.commit()\n",
    "\n",
    "        df_3=pd.DataFrame(table3,columns=(\"State\",\"Registered_Users\"))\n",
    "\n",
    "        fig_amt3=px.bar(df_3,x=\"Registered_Users\",y=\"State\",title=\"AVERAGE REGISTERED USER\",hover_name=\"State\",orientation=\"h\",\n",
    "                color=\"Registered_Users\",height=800, width=1000)\n",
    "        fig_amt3.show()\n"
   ]
  },
  {
   "cell_type": "code",
   "execution_count": 53,
   "id": "4678bc04",
   "metadata": {},
   "outputs": [
    {
     "data": {
      "application/vnd.plotly.v1+json": {
       "config": {
        "plotlyServerURL": "https://plot.ly"
       },
       "data": [
        {
         "hovertemplate": "<b>%{hovertext}</b><br><br>Registered_Users=%{y}<br>State=%{x}<extra></extra>",
         "hovertext": [
          "Delhi"
         ],
         "legendgroup": "90746044",
         "marker": {
          "color": "#636efa",
          "pattern": {
           "shape": ""
          }
         },
         "name": "90746044",
         "orientation": "v",
         "showlegend": true,
         "textposition": "auto",
         "type": "bar",
         "x": [
          "Delhi"
         ],
         "xaxis": "x",
         "y": [
          90746044
         ],
         "yaxis": "y"
        },
        {
         "hovertemplate": "<b>%{hovertext}</b><br><br>Registered_Users=%{y}<br>State=%{x}<extra></extra>",
         "hovertext": [
          "Karnataka"
         ],
         "legendgroup": "82876390",
         "marker": {
          "color": "#EF553B",
          "pattern": {
           "shape": ""
          }
         },
         "name": "82876390",
         "orientation": "v",
         "showlegend": true,
         "textposition": "auto",
         "type": "bar",
         "x": [
          "Karnataka"
         ],
         "xaxis": "x",
         "y": [
          82876390
         ],
         "yaxis": "y"
        },
        {
         "hovertemplate": "<b>%{hovertext}</b><br><br>Registered_Users=%{y}<br>State=%{x}<extra></extra>",
         "hovertext": [
          "Uttar Pradesh"
         ],
         "legendgroup": "82366465",
         "marker": {
          "color": "#00cc96",
          "pattern": {
           "shape": ""
          }
         },
         "name": "82366465",
         "orientation": "v",
         "showlegend": true,
         "textposition": "auto",
         "type": "bar",
         "x": [
          "Uttar Pradesh"
         ],
         "xaxis": "x",
         "y": [
          82366465
         ],
         "yaxis": "y"
        },
        {
         "hovertemplate": "<b>%{hovertext}</b><br><br>Registered_Users=%{y}<br>State=%{x}<extra></extra>",
         "hovertext": [
          "Maharashtra"
         ],
         "legendgroup": "81567387",
         "marker": {
          "color": "#ab63fa",
          "pattern": {
           "shape": ""
          }
         },
         "name": "81567387",
         "orientation": "v",
         "showlegend": true,
         "textposition": "auto",
         "type": "bar",
         "x": [
          "Maharashtra"
         ],
         "xaxis": "x",
         "y": [
          81567387
         ],
         "yaxis": "y"
        },
        {
         "hovertemplate": "<b>%{hovertext}</b><br><br>Registered_Users=%{y}<br>State=%{x}<extra></extra>",
         "hovertext": [
          "Haryana"
         ],
         "legendgroup": "69650929",
         "marker": {
          "color": "#FFA15A",
          "pattern": {
           "shape": ""
          }
         },
         "name": "69650929",
         "orientation": "v",
         "showlegend": true,
         "textposition": "auto",
         "type": "bar",
         "x": [
          "Haryana"
         ],
         "xaxis": "x",
         "y": [
          69650929
         ],
         "yaxis": "y"
        },
        {
         "hovertemplate": "<b>%{hovertext}</b><br><br>Registered_Users=%{y}<br>State=%{x}<extra></extra>",
         "hovertext": [
          "Telangana"
         ],
         "legendgroup": "66723342",
         "marker": {
          "color": "#19d3f3",
          "pattern": {
           "shape": ""
          }
         },
         "name": "66723342",
         "orientation": "v",
         "showlegend": true,
         "textposition": "auto",
         "type": "bar",
         "x": [
          "Telangana"
         ],
         "xaxis": "x",
         "y": [
          66723342
         ],
         "yaxis": "y"
        },
        {
         "hovertemplate": "<b>%{hovertext}</b><br><br>Registered_Users=%{y}<br>State=%{x}<extra></extra>",
         "hovertext": [
          "Rajasthan"
         ],
         "legendgroup": "61524566",
         "marker": {
          "color": "#FF6692",
          "pattern": {
           "shape": ""
          }
         },
         "name": "61524566",
         "orientation": "v",
         "showlegend": true,
         "textposition": "auto",
         "type": "bar",
         "x": [
          "Rajasthan"
         ],
         "xaxis": "x",
         "y": [
          61524566
         ],
         "yaxis": "y"
        },
        {
         "hovertemplate": "<b>%{hovertext}</b><br><br>Registered_Users=%{y}<br>State=%{x}<extra></extra>",
         "hovertext": [
          "Gujarat"
         ],
         "legendgroup": "50451766",
         "marker": {
          "color": "#B6E880",
          "pattern": {
           "shape": ""
          }
         },
         "name": "50451766",
         "orientation": "v",
         "showlegend": true,
         "textposition": "auto",
         "type": "bar",
         "x": [
          "Gujarat"
         ],
         "xaxis": "x",
         "y": [
          50451766
         ],
         "yaxis": "y"
        },
        {
         "hovertemplate": "<b>%{hovertext}</b><br><br>Registered_Users=%{y}<br>State=%{x}<extra></extra>",
         "hovertext": [
          "Madhya Pradesh"
         ],
         "legendgroup": "49549797",
         "marker": {
          "color": "#FF97FF",
          "pattern": {
           "shape": ""
          }
         },
         "name": "49549797",
         "orientation": "v",
         "showlegend": true,
         "textposition": "auto",
         "type": "bar",
         "x": [
          "Madhya Pradesh"
         ],
         "xaxis": "x",
         "y": [
          49549797
         ],
         "yaxis": "y"
        },
        {
         "hovertemplate": "<b>%{hovertext}</b><br><br>Registered_Users=%{y}<br>State=%{x}<extra></extra>",
         "hovertext": [
          "Bihar"
         ],
         "legendgroup": "44488520",
         "marker": {
          "color": "#FECB52",
          "pattern": {
           "shape": ""
          }
         },
         "name": "44488520",
         "orientation": "v",
         "showlegend": true,
         "textposition": "auto",
         "type": "bar",
         "x": [
          "Bihar"
         ],
         "xaxis": "x",
         "y": [
          44488520
         ],
         "yaxis": "y"
        }
       ],
       "layout": {
        "barmode": "relative",
        "height": 600,
        "legend": {
         "title": {
          "text": "Registered_Users"
         },
         "tracegroupgap": 0
        },
        "template": {
         "data": {
          "bar": [
           {
            "error_x": {
             "color": "#2a3f5f"
            },
            "error_y": {
             "color": "#2a3f5f"
            },
            "marker": {
             "line": {
              "color": "#E5ECF6",
              "width": 0.5
             },
             "pattern": {
              "fillmode": "overlay",
              "size": 10,
              "solidity": 0.2
             }
            },
            "type": "bar"
           }
          ],
          "barpolar": [
           {
            "marker": {
             "line": {
              "color": "#E5ECF6",
              "width": 0.5
             },
             "pattern": {
              "fillmode": "overlay",
              "size": 10,
              "solidity": 0.2
             }
            },
            "type": "barpolar"
           }
          ],
          "carpet": [
           {
            "aaxis": {
             "endlinecolor": "#2a3f5f",
             "gridcolor": "white",
             "linecolor": "white",
             "minorgridcolor": "white",
             "startlinecolor": "#2a3f5f"
            },
            "baxis": {
             "endlinecolor": "#2a3f5f",
             "gridcolor": "white",
             "linecolor": "white",
             "minorgridcolor": "white",
             "startlinecolor": "#2a3f5f"
            },
            "type": "carpet"
           }
          ],
          "choropleth": [
           {
            "colorbar": {
             "outlinewidth": 0,
             "ticks": ""
            },
            "type": "choropleth"
           }
          ],
          "contour": [
           {
            "colorbar": {
             "outlinewidth": 0,
             "ticks": ""
            },
            "colorscale": [
             [
              0,
              "#0d0887"
             ],
             [
              0.1111111111111111,
              "#46039f"
             ],
             [
              0.2222222222222222,
              "#7201a8"
             ],
             [
              0.3333333333333333,
              "#9c179e"
             ],
             [
              0.4444444444444444,
              "#bd3786"
             ],
             [
              0.5555555555555556,
              "#d8576b"
             ],
             [
              0.6666666666666666,
              "#ed7953"
             ],
             [
              0.7777777777777778,
              "#fb9f3a"
             ],
             [
              0.8888888888888888,
              "#fdca26"
             ],
             [
              1,
              "#f0f921"
             ]
            ],
            "type": "contour"
           }
          ],
          "contourcarpet": [
           {
            "colorbar": {
             "outlinewidth": 0,
             "ticks": ""
            },
            "type": "contourcarpet"
           }
          ],
          "heatmap": [
           {
            "colorbar": {
             "outlinewidth": 0,
             "ticks": ""
            },
            "colorscale": [
             [
              0,
              "#0d0887"
             ],
             [
              0.1111111111111111,
              "#46039f"
             ],
             [
              0.2222222222222222,
              "#7201a8"
             ],
             [
              0.3333333333333333,
              "#9c179e"
             ],
             [
              0.4444444444444444,
              "#bd3786"
             ],
             [
              0.5555555555555556,
              "#d8576b"
             ],
             [
              0.6666666666666666,
              "#ed7953"
             ],
             [
              0.7777777777777778,
              "#fb9f3a"
             ],
             [
              0.8888888888888888,
              "#fdca26"
             ],
             [
              1,
              "#f0f921"
             ]
            ],
            "type": "heatmap"
           }
          ],
          "histogram": [
           {
            "marker": {
             "pattern": {
              "fillmode": "overlay",
              "size": 10,
              "solidity": 0.2
             }
            },
            "type": "histogram"
           }
          ],
          "histogram2d": [
           {
            "colorbar": {
             "outlinewidth": 0,
             "ticks": ""
            },
            "colorscale": [
             [
              0,
              "#0d0887"
             ],
             [
              0.1111111111111111,
              "#46039f"
             ],
             [
              0.2222222222222222,
              "#7201a8"
             ],
             [
              0.3333333333333333,
              "#9c179e"
             ],
             [
              0.4444444444444444,
              "#bd3786"
             ],
             [
              0.5555555555555556,
              "#d8576b"
             ],
             [
              0.6666666666666666,
              "#ed7953"
             ],
             [
              0.7777777777777778,
              "#fb9f3a"
             ],
             [
              0.8888888888888888,
              "#fdca26"
             ],
             [
              1,
              "#f0f921"
             ]
            ],
            "type": "histogram2d"
           }
          ],
          "histogram2dcontour": [
           {
            "colorbar": {
             "outlinewidth": 0,
             "ticks": ""
            },
            "colorscale": [
             [
              0,
              "#0d0887"
             ],
             [
              0.1111111111111111,
              "#46039f"
             ],
             [
              0.2222222222222222,
              "#7201a8"
             ],
             [
              0.3333333333333333,
              "#9c179e"
             ],
             [
              0.4444444444444444,
              "#bd3786"
             ],
             [
              0.5555555555555556,
              "#d8576b"
             ],
             [
              0.6666666666666666,
              "#ed7953"
             ],
             [
              0.7777777777777778,
              "#fb9f3a"
             ],
             [
              0.8888888888888888,
              "#fdca26"
             ],
             [
              1,
              "#f0f921"
             ]
            ],
            "type": "histogram2dcontour"
           }
          ],
          "mesh3d": [
           {
            "colorbar": {
             "outlinewidth": 0,
             "ticks": ""
            },
            "type": "mesh3d"
           }
          ],
          "parcoords": [
           {
            "line": {
             "colorbar": {
              "outlinewidth": 0,
              "ticks": ""
             }
            },
            "type": "parcoords"
           }
          ],
          "pie": [
           {
            "automargin": true,
            "type": "pie"
           }
          ],
          "scatter": [
           {
            "fillpattern": {
             "fillmode": "overlay",
             "size": 10,
             "solidity": 0.2
            },
            "type": "scatter"
           }
          ],
          "scatter3d": [
           {
            "line": {
             "colorbar": {
              "outlinewidth": 0,
              "ticks": ""
             }
            },
            "marker": {
             "colorbar": {
              "outlinewidth": 0,
              "ticks": ""
             }
            },
            "type": "scatter3d"
           }
          ],
          "scattercarpet": [
           {
            "marker": {
             "colorbar": {
              "outlinewidth": 0,
              "ticks": ""
             }
            },
            "type": "scattercarpet"
           }
          ],
          "scattergeo": [
           {
            "marker": {
             "colorbar": {
              "outlinewidth": 0,
              "ticks": ""
             }
            },
            "type": "scattergeo"
           }
          ],
          "scattergl": [
           {
            "marker": {
             "colorbar": {
              "outlinewidth": 0,
              "ticks": ""
             }
            },
            "type": "scattergl"
           }
          ],
          "scattermap": [
           {
            "marker": {
             "colorbar": {
              "outlinewidth": 0,
              "ticks": ""
             }
            },
            "type": "scattermap"
           }
          ],
          "scattermapbox": [
           {
            "marker": {
             "colorbar": {
              "outlinewidth": 0,
              "ticks": ""
             }
            },
            "type": "scattermapbox"
           }
          ],
          "scatterpolar": [
           {
            "marker": {
             "colorbar": {
              "outlinewidth": 0,
              "ticks": ""
             }
            },
            "type": "scatterpolar"
           }
          ],
          "scatterpolargl": [
           {
            "marker": {
             "colorbar": {
              "outlinewidth": 0,
              "ticks": ""
             }
            },
            "type": "scatterpolargl"
           }
          ],
          "scatterternary": [
           {
            "marker": {
             "colorbar": {
              "outlinewidth": 0,
              "ticks": ""
             }
            },
            "type": "scatterternary"
           }
          ],
          "surface": [
           {
            "colorbar": {
             "outlinewidth": 0,
             "ticks": ""
            },
            "colorscale": [
             [
              0,
              "#0d0887"
             ],
             [
              0.1111111111111111,
              "#46039f"
             ],
             [
              0.2222222222222222,
              "#7201a8"
             ],
             [
              0.3333333333333333,
              "#9c179e"
             ],
             [
              0.4444444444444444,
              "#bd3786"
             ],
             [
              0.5555555555555556,
              "#d8576b"
             ],
             [
              0.6666666666666666,
              "#ed7953"
             ],
             [
              0.7777777777777778,
              "#fb9f3a"
             ],
             [
              0.8888888888888888,
              "#fdca26"
             ],
             [
              1,
              "#f0f921"
             ]
            ],
            "type": "surface"
           }
          ],
          "table": [
           {
            "cells": {
             "fill": {
              "color": "#EBF0F8"
             },
             "line": {
              "color": "white"
             }
            },
            "header": {
             "fill": {
              "color": "#C8D4E3"
             },
             "line": {
              "color": "white"
             }
            },
            "type": "table"
           }
          ]
         },
         "layout": {
          "annotationdefaults": {
           "arrowcolor": "#2a3f5f",
           "arrowhead": 0,
           "arrowwidth": 1
          },
          "autotypenumbers": "strict",
          "coloraxis": {
           "colorbar": {
            "outlinewidth": 0,
            "ticks": ""
           }
          },
          "colorscale": {
           "diverging": [
            [
             0,
             "#8e0152"
            ],
            [
             0.1,
             "#c51b7d"
            ],
            [
             0.2,
             "#de77ae"
            ],
            [
             0.3,
             "#f1b6da"
            ],
            [
             0.4,
             "#fde0ef"
            ],
            [
             0.5,
             "#f7f7f7"
            ],
            [
             0.6,
             "#e6f5d0"
            ],
            [
             0.7,
             "#b8e186"
            ],
            [
             0.8,
             "#7fbc41"
            ],
            [
             0.9,
             "#4d9221"
            ],
            [
             1,
             "#276419"
            ]
           ],
           "sequential": [
            [
             0,
             "#0d0887"
            ],
            [
             0.1111111111111111,
             "#46039f"
            ],
            [
             0.2222222222222222,
             "#7201a8"
            ],
            [
             0.3333333333333333,
             "#9c179e"
            ],
            [
             0.4444444444444444,
             "#bd3786"
            ],
            [
             0.5555555555555556,
             "#d8576b"
            ],
            [
             0.6666666666666666,
             "#ed7953"
            ],
            [
             0.7777777777777778,
             "#fb9f3a"
            ],
            [
             0.8888888888888888,
             "#fdca26"
            ],
            [
             1,
             "#f0f921"
            ]
           ],
           "sequentialminus": [
            [
             0,
             "#0d0887"
            ],
            [
             0.1111111111111111,
             "#46039f"
            ],
            [
             0.2222222222222222,
             "#7201a8"
            ],
            [
             0.3333333333333333,
             "#9c179e"
            ],
            [
             0.4444444444444444,
             "#bd3786"
            ],
            [
             0.5555555555555556,
             "#d8576b"
            ],
            [
             0.6666666666666666,
             "#ed7953"
            ],
            [
             0.7777777777777778,
             "#fb9f3a"
            ],
            [
             0.8888888888888888,
             "#fdca26"
            ],
            [
             1,
             "#f0f921"
            ]
           ]
          },
          "colorway": [
           "#636efa",
           "#EF553B",
           "#00cc96",
           "#ab63fa",
           "#FFA15A",
           "#19d3f3",
           "#FF6692",
           "#B6E880",
           "#FF97FF",
           "#FECB52"
          ],
          "font": {
           "color": "#2a3f5f"
          },
          "geo": {
           "bgcolor": "white",
           "lakecolor": "white",
           "landcolor": "#E5ECF6",
           "showlakes": true,
           "showland": true,
           "subunitcolor": "white"
          },
          "hoverlabel": {
           "align": "left"
          },
          "hovermode": "closest",
          "mapbox": {
           "style": "light"
          },
          "paper_bgcolor": "white",
          "plot_bgcolor": "#E5ECF6",
          "polar": {
           "angularaxis": {
            "gridcolor": "white",
            "linecolor": "white",
            "ticks": ""
           },
           "bgcolor": "#E5ECF6",
           "radialaxis": {
            "gridcolor": "white",
            "linecolor": "white",
            "ticks": ""
           }
          },
          "scene": {
           "xaxis": {
            "backgroundcolor": "#E5ECF6",
            "gridcolor": "white",
            "gridwidth": 2,
            "linecolor": "white",
            "showbackground": true,
            "ticks": "",
            "zerolinecolor": "white"
           },
           "yaxis": {
            "backgroundcolor": "#E5ECF6",
            "gridcolor": "white",
            "gridwidth": 2,
            "linecolor": "white",
            "showbackground": true,
            "ticks": "",
            "zerolinecolor": "white"
           },
           "zaxis": {
            "backgroundcolor": "#E5ECF6",
            "gridcolor": "white",
            "gridwidth": 2,
            "linecolor": "white",
            "showbackground": true,
            "ticks": "",
            "zerolinecolor": "white"
           }
          },
          "shapedefaults": {
           "line": {
            "color": "#2a3f5f"
           }
          },
          "ternary": {
           "aaxis": {
            "gridcolor": "white",
            "linecolor": "white",
            "ticks": ""
           },
           "baxis": {
            "gridcolor": "white",
            "linecolor": "white",
            "ticks": ""
           },
           "bgcolor": "#E5ECF6",
           "caxis": {
            "gridcolor": "white",
            "linecolor": "white",
            "ticks": ""
           }
          },
          "title": {
           "x": 0.05
          },
          "xaxis": {
           "automargin": true,
           "gridcolor": "white",
           "linecolor": "white",
           "ticks": "",
           "title": {
            "standoff": 15
           },
           "zerolinecolor": "white",
           "zerolinewidth": 2
          },
          "yaxis": {
           "automargin": true,
           "gridcolor": "white",
           "linecolor": "white",
           "ticks": "",
           "title": {
            "standoff": 15
           },
           "zerolinecolor": "white",
           "zerolinewidth": 2
          }
         }
        },
        "title": {
         "text": "TOP 10 REGISTERED USERs"
        },
        "width": 600,
        "xaxis": {
         "anchor": "y",
         "domain": [
          0,
          1
         ],
         "title": {
          "text": "State"
         }
        },
        "yaxis": {
         "anchor": "x",
         "categoryarray": [
          44488520,
          49549797,
          50451766,
          61524566,
          66723342,
          69650929,
          81567387,
          82366465,
          82876390,
          90746044
         ],
         "categoryorder": "array",
         "domain": [
          0,
          1
         ],
         "title": {
          "text": "Registered_Users"
         }
        }
       }
      }
     },
     "metadata": {},
     "output_type": "display_data"
    },
    {
     "data": {
      "application/vnd.plotly.v1+json": {
       "config": {
        "plotlyServerURL": "https://plot.ly"
       },
       "data": [
        {
         "hovertemplate": "<b>%{hovertext}</b><br><br>Registered_Users=%{y}<br>State=%{x}<extra></extra>",
         "hovertext": [
          "Lakshadweep"
         ],
         "legendgroup": "142697",
         "marker": {
          "color": "#636efa",
          "pattern": {
           "shape": ""
          }
         },
         "name": "142697",
         "orientation": "v",
         "showlegend": true,
         "textposition": "auto",
         "type": "bar",
         "x": [
          "Lakshadweep"
         ],
         "xaxis": "x",
         "y": [
          142697
         ],
         "yaxis": "y"
        },
        {
         "hovertemplate": "<b>%{hovertext}</b><br><br>Registered_Users=%{y}<br>State=%{x}<extra></extra>",
         "hovertext": [
          "Andaman & Nicobar"
         ],
         "legendgroup": "1595515",
         "marker": {
          "color": "#EF553B",
          "pattern": {
           "shape": ""
          }
         },
         "name": "1595515",
         "orientation": "v",
         "showlegend": true,
         "textposition": "auto",
         "type": "bar",
         "x": [
          "Andaman & Nicobar"
         ],
         "xaxis": "x",
         "y": [
          1595515
         ],
         "yaxis": "y"
        },
        {
         "hovertemplate": "<b>%{hovertext}</b><br><br>Registered_Users=%{y}<br>State=%{x}<extra></extra>",
         "hovertext": [
          "Mizoram"
         ],
         "legendgroup": "1742353",
         "marker": {
          "color": "#00cc96",
          "pattern": {
           "shape": ""
          }
         },
         "name": "1742353",
         "orientation": "v",
         "showlegend": true,
         "textposition": "auto",
         "type": "bar",
         "x": [
          "Mizoram"
         ],
         "xaxis": "x",
         "y": [
          1742353
         ],
         "yaxis": "y"
        },
        {
         "hovertemplate": "<b>%{hovertext}</b><br><br>Registered_Users=%{y}<br>State=%{x}<extra></extra>",
         "hovertext": [
          "Ladakh"
         ],
         "legendgroup": "2104997",
         "marker": {
          "color": "#ab63fa",
          "pattern": {
           "shape": ""
          }
         },
         "name": "2104997",
         "orientation": "v",
         "showlegend": true,
         "textposition": "auto",
         "type": "bar",
         "x": [
          "Ladakh"
         ],
         "xaxis": "x",
         "y": [
          2104997
         ],
         "yaxis": "y"
        },
        {
         "hovertemplate": "<b>%{hovertext}</b><br><br>Registered_Users=%{y}<br>State=%{x}<extra></extra>",
         "hovertext": [
          "Meghalaya"
         ],
         "legendgroup": "3071995",
         "marker": {
          "color": "#FFA15A",
          "pattern": {
           "shape": ""
          }
         },
         "name": "3071995",
         "orientation": "v",
         "showlegend": true,
         "textposition": "auto",
         "type": "bar",
         "x": [
          "Meghalaya"
         ],
         "xaxis": "x",
         "y": [
          3071995
         ],
         "yaxis": "y"
        },
        {
         "hovertemplate": "<b>%{hovertext}</b><br><br>Registered_Users=%{y}<br>State=%{x}<extra></extra>",
         "hovertext": [
          "Sikkim"
         ],
         "legendgroup": "3902866",
         "marker": {
          "color": "#19d3f3",
          "pattern": {
           "shape": ""
          }
         },
         "name": "3902866",
         "orientation": "v",
         "showlegend": true,
         "textposition": "auto",
         "type": "bar",
         "x": [
          "Sikkim"
         ],
         "xaxis": "x",
         "y": [
          3902866
         ],
         "yaxis": "y"
        },
        {
         "hovertemplate": "<b>%{hovertext}</b><br><br>Registered_Users=%{y}<br>State=%{x}<extra></extra>",
         "hovertext": [
          "Nagaland"
         ],
         "legendgroup": "3993452",
         "marker": {
          "color": "#FF6692",
          "pattern": {
           "shape": ""
          }
         },
         "name": "3993452",
         "orientation": "v",
         "showlegend": true,
         "textposition": "auto",
         "type": "bar",
         "x": [
          "Nagaland"
         ],
         "xaxis": "x",
         "y": [
          3993452
         ],
         "yaxis": "y"
        },
        {
         "hovertemplate": "<b>%{hovertext}</b><br><br>Registered_Users=%{y}<br>State=%{x}<extra></extra>",
         "hovertext": [
          "Arunachal Pradesh"
         ],
         "legendgroup": "4549668",
         "marker": {
          "color": "#B6E880",
          "pattern": {
           "shape": ""
          }
         },
         "name": "4549668",
         "orientation": "v",
         "showlegend": true,
         "textposition": "auto",
         "type": "bar",
         "x": [
          "Arunachal Pradesh"
         ],
         "xaxis": "x",
         "y": [
          4549668
         ],
         "yaxis": "y"
        },
        {
         "hovertemplate": "<b>%{hovertext}</b><br><br>Registered_Users=%{y}<br>State=%{x}<extra></extra>",
         "hovertext": [
          "Manipur"
         ],
         "legendgroup": "4727496",
         "marker": {
          "color": "#FF97FF",
          "pattern": {
           "shape": ""
          }
         },
         "name": "4727496",
         "orientation": "v",
         "showlegend": true,
         "textposition": "auto",
         "type": "bar",
         "x": [
          "Manipur"
         ],
         "xaxis": "x",
         "y": [
          4727496
         ],
         "yaxis": "y"
        },
        {
         "hovertemplate": "<b>%{hovertext}</b><br><br>Registered_Users=%{y}<br>State=%{x}<extra></extra>",
         "hovertext": [
          "Tripura"
         ],
         "legendgroup": "4891131",
         "marker": {
          "color": "#FECB52",
          "pattern": {
           "shape": ""
          }
         },
         "name": "4891131",
         "orientation": "v",
         "showlegend": true,
         "textposition": "auto",
         "type": "bar",
         "x": [
          "Tripura"
         ],
         "xaxis": "x",
         "y": [
          4891131
         ],
         "yaxis": "y"
        }
       ],
       "layout": {
        "barmode": "relative",
        "height": 600,
        "legend": {
         "title": {
          "text": "Registered_Users"
         },
         "tracegroupgap": 0
        },
        "template": {
         "data": {
          "bar": [
           {
            "error_x": {
             "color": "#2a3f5f"
            },
            "error_y": {
             "color": "#2a3f5f"
            },
            "marker": {
             "line": {
              "color": "#E5ECF6",
              "width": 0.5
             },
             "pattern": {
              "fillmode": "overlay",
              "size": 10,
              "solidity": 0.2
             }
            },
            "type": "bar"
           }
          ],
          "barpolar": [
           {
            "marker": {
             "line": {
              "color": "#E5ECF6",
              "width": 0.5
             },
             "pattern": {
              "fillmode": "overlay",
              "size": 10,
              "solidity": 0.2
             }
            },
            "type": "barpolar"
           }
          ],
          "carpet": [
           {
            "aaxis": {
             "endlinecolor": "#2a3f5f",
             "gridcolor": "white",
             "linecolor": "white",
             "minorgridcolor": "white",
             "startlinecolor": "#2a3f5f"
            },
            "baxis": {
             "endlinecolor": "#2a3f5f",
             "gridcolor": "white",
             "linecolor": "white",
             "minorgridcolor": "white",
             "startlinecolor": "#2a3f5f"
            },
            "type": "carpet"
           }
          ],
          "choropleth": [
           {
            "colorbar": {
             "outlinewidth": 0,
             "ticks": ""
            },
            "type": "choropleth"
           }
          ],
          "contour": [
           {
            "colorbar": {
             "outlinewidth": 0,
             "ticks": ""
            },
            "colorscale": [
             [
              0,
              "#0d0887"
             ],
             [
              0.1111111111111111,
              "#46039f"
             ],
             [
              0.2222222222222222,
              "#7201a8"
             ],
             [
              0.3333333333333333,
              "#9c179e"
             ],
             [
              0.4444444444444444,
              "#bd3786"
             ],
             [
              0.5555555555555556,
              "#d8576b"
             ],
             [
              0.6666666666666666,
              "#ed7953"
             ],
             [
              0.7777777777777778,
              "#fb9f3a"
             ],
             [
              0.8888888888888888,
              "#fdca26"
             ],
             [
              1,
              "#f0f921"
             ]
            ],
            "type": "contour"
           }
          ],
          "contourcarpet": [
           {
            "colorbar": {
             "outlinewidth": 0,
             "ticks": ""
            },
            "type": "contourcarpet"
           }
          ],
          "heatmap": [
           {
            "colorbar": {
             "outlinewidth": 0,
             "ticks": ""
            },
            "colorscale": [
             [
              0,
              "#0d0887"
             ],
             [
              0.1111111111111111,
              "#46039f"
             ],
             [
              0.2222222222222222,
              "#7201a8"
             ],
             [
              0.3333333333333333,
              "#9c179e"
             ],
             [
              0.4444444444444444,
              "#bd3786"
             ],
             [
              0.5555555555555556,
              "#d8576b"
             ],
             [
              0.6666666666666666,
              "#ed7953"
             ],
             [
              0.7777777777777778,
              "#fb9f3a"
             ],
             [
              0.8888888888888888,
              "#fdca26"
             ],
             [
              1,
              "#f0f921"
             ]
            ],
            "type": "heatmap"
           }
          ],
          "histogram": [
           {
            "marker": {
             "pattern": {
              "fillmode": "overlay",
              "size": 10,
              "solidity": 0.2
             }
            },
            "type": "histogram"
           }
          ],
          "histogram2d": [
           {
            "colorbar": {
             "outlinewidth": 0,
             "ticks": ""
            },
            "colorscale": [
             [
              0,
              "#0d0887"
             ],
             [
              0.1111111111111111,
              "#46039f"
             ],
             [
              0.2222222222222222,
              "#7201a8"
             ],
             [
              0.3333333333333333,
              "#9c179e"
             ],
             [
              0.4444444444444444,
              "#bd3786"
             ],
             [
              0.5555555555555556,
              "#d8576b"
             ],
             [
              0.6666666666666666,
              "#ed7953"
             ],
             [
              0.7777777777777778,
              "#fb9f3a"
             ],
             [
              0.8888888888888888,
              "#fdca26"
             ],
             [
              1,
              "#f0f921"
             ]
            ],
            "type": "histogram2d"
           }
          ],
          "histogram2dcontour": [
           {
            "colorbar": {
             "outlinewidth": 0,
             "ticks": ""
            },
            "colorscale": [
             [
              0,
              "#0d0887"
             ],
             [
              0.1111111111111111,
              "#46039f"
             ],
             [
              0.2222222222222222,
              "#7201a8"
             ],
             [
              0.3333333333333333,
              "#9c179e"
             ],
             [
              0.4444444444444444,
              "#bd3786"
             ],
             [
              0.5555555555555556,
              "#d8576b"
             ],
             [
              0.6666666666666666,
              "#ed7953"
             ],
             [
              0.7777777777777778,
              "#fb9f3a"
             ],
             [
              0.8888888888888888,
              "#fdca26"
             ],
             [
              1,
              "#f0f921"
             ]
            ],
            "type": "histogram2dcontour"
           }
          ],
          "mesh3d": [
           {
            "colorbar": {
             "outlinewidth": 0,
             "ticks": ""
            },
            "type": "mesh3d"
           }
          ],
          "parcoords": [
           {
            "line": {
             "colorbar": {
              "outlinewidth": 0,
              "ticks": ""
             }
            },
            "type": "parcoords"
           }
          ],
          "pie": [
           {
            "automargin": true,
            "type": "pie"
           }
          ],
          "scatter": [
           {
            "fillpattern": {
             "fillmode": "overlay",
             "size": 10,
             "solidity": 0.2
            },
            "type": "scatter"
           }
          ],
          "scatter3d": [
           {
            "line": {
             "colorbar": {
              "outlinewidth": 0,
              "ticks": ""
             }
            },
            "marker": {
             "colorbar": {
              "outlinewidth": 0,
              "ticks": ""
             }
            },
            "type": "scatter3d"
           }
          ],
          "scattercarpet": [
           {
            "marker": {
             "colorbar": {
              "outlinewidth": 0,
              "ticks": ""
             }
            },
            "type": "scattercarpet"
           }
          ],
          "scattergeo": [
           {
            "marker": {
             "colorbar": {
              "outlinewidth": 0,
              "ticks": ""
             }
            },
            "type": "scattergeo"
           }
          ],
          "scattergl": [
           {
            "marker": {
             "colorbar": {
              "outlinewidth": 0,
              "ticks": ""
             }
            },
            "type": "scattergl"
           }
          ],
          "scattermap": [
           {
            "marker": {
             "colorbar": {
              "outlinewidth": 0,
              "ticks": ""
             }
            },
            "type": "scattermap"
           }
          ],
          "scattermapbox": [
           {
            "marker": {
             "colorbar": {
              "outlinewidth": 0,
              "ticks": ""
             }
            },
            "type": "scattermapbox"
           }
          ],
          "scatterpolar": [
           {
            "marker": {
             "colorbar": {
              "outlinewidth": 0,
              "ticks": ""
             }
            },
            "type": "scatterpolar"
           }
          ],
          "scatterpolargl": [
           {
            "marker": {
             "colorbar": {
              "outlinewidth": 0,
              "ticks": ""
             }
            },
            "type": "scatterpolargl"
           }
          ],
          "scatterternary": [
           {
            "marker": {
             "colorbar": {
              "outlinewidth": 0,
              "ticks": ""
             }
            },
            "type": "scatterternary"
           }
          ],
          "surface": [
           {
            "colorbar": {
             "outlinewidth": 0,
             "ticks": ""
            },
            "colorscale": [
             [
              0,
              "#0d0887"
             ],
             [
              0.1111111111111111,
              "#46039f"
             ],
             [
              0.2222222222222222,
              "#7201a8"
             ],
             [
              0.3333333333333333,
              "#9c179e"
             ],
             [
              0.4444444444444444,
              "#bd3786"
             ],
             [
              0.5555555555555556,
              "#d8576b"
             ],
             [
              0.6666666666666666,
              "#ed7953"
             ],
             [
              0.7777777777777778,
              "#fb9f3a"
             ],
             [
              0.8888888888888888,
              "#fdca26"
             ],
             [
              1,
              "#f0f921"
             ]
            ],
            "type": "surface"
           }
          ],
          "table": [
           {
            "cells": {
             "fill": {
              "color": "#EBF0F8"
             },
             "line": {
              "color": "white"
             }
            },
            "header": {
             "fill": {
              "color": "#C8D4E3"
             },
             "line": {
              "color": "white"
             }
            },
            "type": "table"
           }
          ]
         },
         "layout": {
          "annotationdefaults": {
           "arrowcolor": "#2a3f5f",
           "arrowhead": 0,
           "arrowwidth": 1
          },
          "autotypenumbers": "strict",
          "coloraxis": {
           "colorbar": {
            "outlinewidth": 0,
            "ticks": ""
           }
          },
          "colorscale": {
           "diverging": [
            [
             0,
             "#8e0152"
            ],
            [
             0.1,
             "#c51b7d"
            ],
            [
             0.2,
             "#de77ae"
            ],
            [
             0.3,
             "#f1b6da"
            ],
            [
             0.4,
             "#fde0ef"
            ],
            [
             0.5,
             "#f7f7f7"
            ],
            [
             0.6,
             "#e6f5d0"
            ],
            [
             0.7,
             "#b8e186"
            ],
            [
             0.8,
             "#7fbc41"
            ],
            [
             0.9,
             "#4d9221"
            ],
            [
             1,
             "#276419"
            ]
           ],
           "sequential": [
            [
             0,
             "#0d0887"
            ],
            [
             0.1111111111111111,
             "#46039f"
            ],
            [
             0.2222222222222222,
             "#7201a8"
            ],
            [
             0.3333333333333333,
             "#9c179e"
            ],
            [
             0.4444444444444444,
             "#bd3786"
            ],
            [
             0.5555555555555556,
             "#d8576b"
            ],
            [
             0.6666666666666666,
             "#ed7953"
            ],
            [
             0.7777777777777778,
             "#fb9f3a"
            ],
            [
             0.8888888888888888,
             "#fdca26"
            ],
            [
             1,
             "#f0f921"
            ]
           ],
           "sequentialminus": [
            [
             0,
             "#0d0887"
            ],
            [
             0.1111111111111111,
             "#46039f"
            ],
            [
             0.2222222222222222,
             "#7201a8"
            ],
            [
             0.3333333333333333,
             "#9c179e"
            ],
            [
             0.4444444444444444,
             "#bd3786"
            ],
            [
             0.5555555555555556,
             "#d8576b"
            ],
            [
             0.6666666666666666,
             "#ed7953"
            ],
            [
             0.7777777777777778,
             "#fb9f3a"
            ],
            [
             0.8888888888888888,
             "#fdca26"
            ],
            [
             1,
             "#f0f921"
            ]
           ]
          },
          "colorway": [
           "#636efa",
           "#EF553B",
           "#00cc96",
           "#ab63fa",
           "#FFA15A",
           "#19d3f3",
           "#FF6692",
           "#B6E880",
           "#FF97FF",
           "#FECB52"
          ],
          "font": {
           "color": "#2a3f5f"
          },
          "geo": {
           "bgcolor": "white",
           "lakecolor": "white",
           "landcolor": "#E5ECF6",
           "showlakes": true,
           "showland": true,
           "subunitcolor": "white"
          },
          "hoverlabel": {
           "align": "left"
          },
          "hovermode": "closest",
          "mapbox": {
           "style": "light"
          },
          "paper_bgcolor": "white",
          "plot_bgcolor": "#E5ECF6",
          "polar": {
           "angularaxis": {
            "gridcolor": "white",
            "linecolor": "white",
            "ticks": ""
           },
           "bgcolor": "#E5ECF6",
           "radialaxis": {
            "gridcolor": "white",
            "linecolor": "white",
            "ticks": ""
           }
          },
          "scene": {
           "xaxis": {
            "backgroundcolor": "#E5ECF6",
            "gridcolor": "white",
            "gridwidth": 2,
            "linecolor": "white",
            "showbackground": true,
            "ticks": "",
            "zerolinecolor": "white"
           },
           "yaxis": {
            "backgroundcolor": "#E5ECF6",
            "gridcolor": "white",
            "gridwidth": 2,
            "linecolor": "white",
            "showbackground": true,
            "ticks": "",
            "zerolinecolor": "white"
           },
           "zaxis": {
            "backgroundcolor": "#E5ECF6",
            "gridcolor": "white",
            "gridwidth": 2,
            "linecolor": "white",
            "showbackground": true,
            "ticks": "",
            "zerolinecolor": "white"
           }
          },
          "shapedefaults": {
           "line": {
            "color": "#2a3f5f"
           }
          },
          "ternary": {
           "aaxis": {
            "gridcolor": "white",
            "linecolor": "white",
            "ticks": ""
           },
           "baxis": {
            "gridcolor": "white",
            "linecolor": "white",
            "ticks": ""
           },
           "bgcolor": "#E5ECF6",
           "caxis": {
            "gridcolor": "white",
            "linecolor": "white",
            "ticks": ""
           }
          },
          "title": {
           "x": 0.05
          },
          "xaxis": {
           "automargin": true,
           "gridcolor": "white",
           "linecolor": "white",
           "ticks": "",
           "title": {
            "standoff": 15
           },
           "zerolinecolor": "white",
           "zerolinewidth": 2
          },
          "yaxis": {
           "automargin": true,
           "gridcolor": "white",
           "linecolor": "white",
           "ticks": "",
           "title": {
            "standoff": 15
           },
           "zerolinecolor": "white",
           "zerolinewidth": 2
          }
         }
        },
        "title": {
         "text": "LAST 10 REGISTERED USER"
        },
        "width": 600,
        "xaxis": {
         "anchor": "y",
         "domain": [
          0,
          1
         ],
         "title": {
          "text": "State"
         }
        },
        "yaxis": {
         "anchor": "x",
         "categoryarray": [
          4891131,
          4727496,
          4549668,
          3993452,
          3902866,
          3071995,
          2104997,
          1742353,
          1595515,
          142697
         ],
         "categoryorder": "array",
         "domain": [
          0,
          1
         ],
         "title": {
          "text": "Registered_Users"
         }
        }
       }
      }
     },
     "metadata": {},
     "output_type": "display_data"
    },
    {
     "data": {
      "application/vnd.plotly.v1+json": {
       "config": {
        "plotlyServerURL": "https://plot.ly"
       },
       "data": [
        {
         "hovertemplate": "<b>%{hovertext}</b><br><br>Registered_Users=%{x}<br>State=%{y}<extra></extra>",
         "hovertext": [
          "Lakshadweep"
         ],
         "legendgroup": "631.4027",
         "marker": {
          "color": "#636efa",
          "pattern": {
           "shape": ""
          }
         },
         "name": "631.4027",
         "orientation": "h",
         "showlegend": true,
         "textposition": "auto",
         "type": "bar",
         "x": [
          631.4027
         ],
         "xaxis": "x",
         "y": [
          "Lakshadweep"
         ],
         "yaxis": "y"
        },
        {
         "hovertemplate": "<b>%{hovertext}</b><br><br>Registered_Users=%{x}<br>State=%{y}<extra></extra>",
         "hovertext": [
          "Andaman & Nicobar"
         ],
         "legendgroup": "5698.2679",
         "marker": {
          "color": "#EF553B",
          "pattern": {
           "shape": ""
          }
         },
         "name": "5698.2679",
         "orientation": "h",
         "showlegend": true,
         "textposition": "auto",
         "type": "bar",
         "x": [
          5698.2679
         ],
         "xaxis": "x",
         "y": [
          "Andaman & Nicobar"
         ],
         "yaxis": "y"
        },
        {
         "hovertemplate": "<b>%{hovertext}</b><br><br>Registered_Users=%{x}<br>State=%{y}<extra></extra>",
         "hovertext": [
          "Mizoram"
         ],
         "legendgroup": "6222.6893",
         "marker": {
          "color": "#00cc96",
          "pattern": {
           "shape": ""
          }
         },
         "name": "6222.6893",
         "orientation": "h",
         "showlegend": true,
         "textposition": "auto",
         "type": "bar",
         "x": [
          6222.6893
         ],
         "xaxis": "x",
         "y": [
          "Mizoram"
         ],
         "yaxis": "y"
        },
        {
         "hovertemplate": "<b>%{hovertext}</b><br><br>Registered_Users=%{x}<br>State=%{y}<extra></extra>",
         "hovertext": [
          "Ladakh"
         ],
         "legendgroup": "7517.8464",
         "marker": {
          "color": "#ab63fa",
          "pattern": {
           "shape": ""
          }
         },
         "name": "7517.8464",
         "orientation": "h",
         "showlegend": true,
         "textposition": "auto",
         "type": "bar",
         "x": [
          7517.8464
         ],
         "xaxis": "x",
         "y": [
          "Ladakh"
         ],
         "yaxis": "y"
        },
        {
         "hovertemplate": "<b>%{hovertext}</b><br><br>Registered_Users=%{x}<br>State=%{y}<extra></extra>",
         "hovertext": [
          "Meghalaya"
         ],
         "legendgroup": "10971.4107",
         "marker": {
          "color": "#FFA15A",
          "pattern": {
           "shape": ""
          }
         },
         "name": "10971.4107",
         "orientation": "h",
         "showlegend": true,
         "textposition": "auto",
         "type": "bar",
         "x": [
          10971.4107
         ],
         "xaxis": "x",
         "y": [
          "Meghalaya"
         ],
         "yaxis": "y"
        },
        {
         "hovertemplate": "<b>%{hovertext}</b><br><br>Registered_Users=%{x}<br>State=%{y}<extra></extra>",
         "hovertext": [
          "Sikkim"
         ],
         "legendgroup": "13938.8071",
         "marker": {
          "color": "#19d3f3",
          "pattern": {
           "shape": ""
          }
         },
         "name": "13938.8071",
         "orientation": "h",
         "showlegend": true,
         "textposition": "auto",
         "type": "bar",
         "x": [
          13938.8071
         ],
         "xaxis": "x",
         "y": [
          "Sikkim"
         ],
         "yaxis": "y"
        },
        {
         "hovertemplate": "<b>%{hovertext}</b><br><br>Registered_Users=%{x}<br>State=%{y}<extra></extra>",
         "hovertext": [
          "Nagaland"
         ],
         "legendgroup": "14262.3286",
         "marker": {
          "color": "#FF6692",
          "pattern": {
           "shape": ""
          }
         },
         "name": "14262.3286",
         "orientation": "h",
         "showlegend": true,
         "textposition": "auto",
         "type": "bar",
         "x": [
          14262.3286
         ],
         "xaxis": "x",
         "y": [
          "Nagaland"
         ],
         "yaxis": "y"
        },
        {
         "hovertemplate": "<b>%{hovertext}</b><br><br>Registered_Users=%{x}<br>State=%{y}<extra></extra>",
         "hovertext": [
          "Arunachal Pradesh"
         ],
         "legendgroup": "16248.8143",
         "marker": {
          "color": "#B6E880",
          "pattern": {
           "shape": ""
          }
         },
         "name": "16248.8143",
         "orientation": "h",
         "showlegend": true,
         "textposition": "auto",
         "type": "bar",
         "x": [
          16248.8143
         ],
         "xaxis": "x",
         "y": [
          "Arunachal Pradesh"
         ],
         "yaxis": "y"
        },
        {
         "hovertemplate": "<b>%{hovertext}</b><br><br>Registered_Users=%{x}<br>State=%{y}<extra></extra>",
         "hovertext": [
          "Manipur"
         ],
         "legendgroup": "16883.9143",
         "marker": {
          "color": "#FF97FF",
          "pattern": {
           "shape": ""
          }
         },
         "name": "16883.9143",
         "orientation": "h",
         "showlegend": true,
         "textposition": "auto",
         "type": "bar",
         "x": [
          16883.9143
         ],
         "xaxis": "x",
         "y": [
          "Manipur"
         ],
         "yaxis": "y"
        },
        {
         "hovertemplate": "<b>%{hovertext}</b><br><br>Registered_Users=%{x}<br>State=%{y}<extra></extra>",
         "hovertext": [
          "Tripura"
         ],
         "legendgroup": "17468.3250",
         "marker": {
          "color": "#FECB52",
          "pattern": {
           "shape": ""
          }
         },
         "name": "17468.3250",
         "orientation": "h",
         "showlegend": true,
         "textposition": "auto",
         "type": "bar",
         "x": [
          17468.325
         ],
         "xaxis": "x",
         "y": [
          "Tripura"
         ],
         "yaxis": "y"
        },
        {
         "hovertemplate": "<b>%{hovertext}</b><br><br>Registered_Users=%{x}<br>State=%{y}<extra></extra>",
         "hovertext": [
          "Puducherry"
         ],
         "legendgroup": "24333.3536",
         "marker": {
          "color": "#636efa",
          "pattern": {
           "shape": ""
          }
         },
         "name": "24333.3536",
         "orientation": "h",
         "showlegend": true,
         "textposition": "auto",
         "type": "bar",
         "x": [
          24333.3536
         ],
         "xaxis": "x",
         "y": [
          "Puducherry"
         ],
         "yaxis": "y"
        },
        {
         "hovertemplate": "<b>%{hovertext}</b><br><br>Registered_Users=%{x}<br>State=%{y}<extra></extra>",
         "hovertext": [
          "Jammu & Kashmir"
         ],
         "legendgroup": "25392.7143",
         "marker": {
          "color": "#EF553B",
          "pattern": {
           "shape": ""
          }
         },
         "name": "25392.7143",
         "orientation": "h",
         "showlegend": true,
         "textposition": "auto",
         "type": "bar",
         "x": [
          25392.7143
         ],
         "xaxis": "x",
         "y": [
          "Jammu & Kashmir"
         ],
         "yaxis": "y"
        },
        {
         "hovertemplate": "<b>%{hovertext}</b><br><br>Registered_Users=%{x}<br>State=%{y}<extra></extra>",
         "hovertext": [
          "Goa"
         ],
         "legendgroup": "26437.2179",
         "marker": {
          "color": "#00cc96",
          "pattern": {
           "shape": ""
          }
         },
         "name": "26437.2179",
         "orientation": "h",
         "showlegend": true,
         "textposition": "auto",
         "type": "bar",
         "x": [
          26437.2179
         ],
         "xaxis": "x",
         "y": [
          "Goa"
         ],
         "yaxis": "y"
        },
        {
         "hovertemplate": "<b>%{hovertext}</b><br><br>Registered_Users=%{x}<br>State=%{y}<extra></extra>",
         "hovertext": [
          "Kerala"
         ],
         "legendgroup": "30650.3786",
         "marker": {
          "color": "#ab63fa",
          "pattern": {
           "shape": ""
          }
         },
         "name": "30650.3786",
         "orientation": "h",
         "showlegend": true,
         "textposition": "auto",
         "type": "bar",
         "x": [
          30650.3786
         ],
         "xaxis": "x",
         "y": [
          "Kerala"
         ],
         "yaxis": "y"
        },
        {
         "hovertemplate": "<b>%{hovertext}</b><br><br>Registered_Users=%{x}<br>State=%{y}<extra></extra>",
         "hovertext": [
          "Chandigarh"
         ],
         "legendgroup": "35244.8071",
         "marker": {
          "color": "#FFA15A",
          "pattern": {
           "shape": ""
          }
         },
         "name": "35244.8071",
         "orientation": "h",
         "showlegend": true,
         "textposition": "auto",
         "type": "bar",
         "x": [
          35244.8071
         ],
         "xaxis": "x",
         "y": [
          "Chandigarh"
         ],
         "yaxis": "y"
        },
        {
         "hovertemplate": "<b>%{hovertext}</b><br><br>Registered_Users=%{x}<br>State=%{y}<extra></extra>",
         "hovertext": [
          "Assam"
         ],
         "legendgroup": "36225.0893",
         "marker": {
          "color": "#19d3f3",
          "pattern": {
           "shape": ""
          }
         },
         "name": "36225.0893",
         "orientation": "h",
         "showlegend": true,
         "textposition": "auto",
         "type": "bar",
         "x": [
          36225.0893
         ],
         "xaxis": "x",
         "y": [
          "Assam"
         ],
         "yaxis": "y"
        },
        {
         "hovertemplate": "<b>%{hovertext}</b><br><br>Registered_Users=%{x}<br>State=%{y}<extra></extra>",
         "hovertext": [
          "Dadra & Nagar Haveli & Daman & Diu"
         ],
         "legendgroup": "39680.7362",
         "marker": {
          "color": "#FF6692",
          "pattern": {
           "shape": ""
          }
         },
         "name": "39680.7362",
         "orientation": "h",
         "showlegend": true,
         "textposition": "auto",
         "type": "bar",
         "x": [
          39680.7362
         ],
         "xaxis": "x",
         "y": [
          "Dadra & Nagar Haveli & Daman & Diu"
         ],
         "yaxis": "y"
        },
        {
         "hovertemplate": "<b>%{hovertext}</b><br><br>Registered_Users=%{x}<br>State=%{y}<extra></extra>",
         "hovertext": [
          "Himachal Pradesh"
         ],
         "legendgroup": "42246.2143",
         "marker": {
          "color": "#B6E880",
          "pattern": {
           "shape": ""
          }
         },
         "name": "42246.2143",
         "orientation": "h",
         "showlegend": true,
         "textposition": "auto",
         "type": "bar",
         "x": [
          42246.2143
         ],
         "xaxis": "x",
         "y": [
          "Himachal Pradesh"
         ],
         "yaxis": "y"
        },
        {
         "hovertemplate": "<b>%{hovertext}</b><br><br>Registered_Users=%{x}<br>State=%{y}<extra></extra>",
         "hovertext": [
          "Odisha"
         ],
         "legendgroup": "84937.4250",
         "marker": {
          "color": "#FF97FF",
          "pattern": {
           "shape": ""
          }
         },
         "name": "84937.4250",
         "orientation": "h",
         "showlegend": true,
         "textposition": "auto",
         "type": "bar",
         "x": [
          84937.425
         ],
         "xaxis": "x",
         "y": [
          "Odisha"
         ],
         "yaxis": "y"
        },
        {
         "hovertemplate": "<b>%{hovertext}</b><br><br>Registered_Users=%{x}<br>State=%{y}<extra></extra>",
         "hovertext": [
          "West Bengal"
         ],
         "legendgroup": "88755.3893",
         "marker": {
          "color": "#FECB52",
          "pattern": {
           "shape": ""
          }
         },
         "name": "88755.3893",
         "orientation": "h",
         "showlegend": true,
         "textposition": "auto",
         "type": "bar",
         "x": [
          88755.3893
         ],
         "xaxis": "x",
         "y": [
          "West Bengal"
         ],
         "yaxis": "y"
        },
        {
         "hovertemplate": "<b>%{hovertext}</b><br><br>Registered_Users=%{x}<br>State=%{y}<extra></extra>",
         "hovertext": [
          "Jharkhand"
         ],
         "legendgroup": "101617.3143",
         "marker": {
          "color": "#636efa",
          "pattern": {
           "shape": ""
          }
         },
         "name": "101617.3143",
         "orientation": "h",
         "showlegend": true,
         "textposition": "auto",
         "type": "bar",
         "x": [
          101617.3143
         ],
         "xaxis": "x",
         "y": [
          "Jharkhand"
         ],
         "yaxis": "y"
        },
        {
         "hovertemplate": "<b>%{hovertext}</b><br><br>Registered_Users=%{x}<br>State=%{y}<extra></extra>",
         "hovertext": [
          "Tamil Nadu"
         ],
         "legendgroup": "108668.5964",
         "marker": {
          "color": "#EF553B",
          "pattern": {
           "shape": ""
          }
         },
         "name": "108668.5964",
         "orientation": "h",
         "showlegend": true,
         "textposition": "auto",
         "type": "bar",
         "x": [
          108668.5964
         ],
         "xaxis": "x",
         "y": [
          "Tamil Nadu"
         ],
         "yaxis": "y"
        },
        {
         "hovertemplate": "<b>%{hovertext}</b><br><br>Registered_Users=%{x}<br>State=%{y}<extra></extra>",
         "hovertext": [
          "Chhattisgarh"
         ],
         "legendgroup": "111033.6536",
         "marker": {
          "color": "#00cc96",
          "pattern": {
           "shape": ""
          }
         },
         "name": "111033.6536",
         "orientation": "h",
         "showlegend": true,
         "textposition": "auto",
         "type": "bar",
         "x": [
          111033.6536
         ],
         "xaxis": "x",
         "y": [
          "Chhattisgarh"
         ],
         "yaxis": "y"
        },
        {
         "hovertemplate": "<b>%{hovertext}</b><br><br>Registered_Users=%{x}<br>State=%{y}<extra></extra>",
         "hovertext": [
          "Uttarakhand"
         ],
         "legendgroup": "114716.7000",
         "marker": {
          "color": "#ab63fa",
          "pattern": {
           "shape": ""
          }
         },
         "name": "114716.7000",
         "orientation": "h",
         "showlegend": true,
         "textposition": "auto",
         "type": "bar",
         "x": [
          114716.7
         ],
         "xaxis": "x",
         "y": [
          "Uttarakhand"
         ],
         "yaxis": "y"
        },
        {
         "hovertemplate": "<b>%{hovertext}</b><br><br>Registered_Users=%{x}<br>State=%{y}<extra></extra>",
         "hovertext": [
          "Punjab"
         ],
         "legendgroup": "125168.9786",
         "marker": {
          "color": "#FFA15A",
          "pattern": {
           "shape": ""
          }
         },
         "name": "125168.9786",
         "orientation": "h",
         "showlegend": true,
         "textposition": "auto",
         "type": "bar",
         "x": [
          125168.9786
         ],
         "xaxis": "x",
         "y": [
          "Punjab"
         ],
         "yaxis": "y"
        },
        {
         "hovertemplate": "<b>%{hovertext}</b><br><br>Registered_Users=%{x}<br>State=%{y}<extra></extra>",
         "hovertext": [
          "Andhra Pradesh"
         ],
         "legendgroup": "152463.5536",
         "marker": {
          "color": "#19d3f3",
          "pattern": {
           "shape": ""
          }
         },
         "name": "152463.5536",
         "orientation": "h",
         "showlegend": true,
         "textposition": "auto",
         "type": "bar",
         "x": [
          152463.5536
         ],
         "xaxis": "x",
         "y": [
          "Andhra Pradesh"
         ],
         "yaxis": "y"
        },
        {
         "hovertemplate": "<b>%{hovertext}</b><br><br>Registered_Users=%{x}<br>State=%{y}<extra></extra>",
         "hovertext": [
          "Bihar"
         ],
         "legendgroup": "158887.5714",
         "marker": {
          "color": "#FF6692",
          "pattern": {
           "shape": ""
          }
         },
         "name": "158887.5714",
         "orientation": "h",
         "showlegend": true,
         "textposition": "auto",
         "type": "bar",
         "x": [
          158887.5714
         ],
         "xaxis": "x",
         "y": [
          "Bihar"
         ],
         "yaxis": "y"
        },
        {
         "hovertemplate": "<b>%{hovertext}</b><br><br>Registered_Users=%{x}<br>State=%{y}<extra></extra>",
         "hovertext": [
          "Madhya Pradesh"
         ],
         "legendgroup": "176963.5607",
         "marker": {
          "color": "#B6E880",
          "pattern": {
           "shape": ""
          }
         },
         "name": "176963.5607",
         "orientation": "h",
         "showlegend": true,
         "textposition": "auto",
         "type": "bar",
         "x": [
          176963.5607
         ],
         "xaxis": "x",
         "y": [
          "Madhya Pradesh"
         ],
         "yaxis": "y"
        },
        {
         "hovertemplate": "<b>%{hovertext}</b><br><br>Registered_Users=%{x}<br>State=%{y}<extra></extra>",
         "hovertext": [
          "Gujarat"
         ],
         "legendgroup": "180184.8786",
         "marker": {
          "color": "#FF97FF",
          "pattern": {
           "shape": ""
          }
         },
         "name": "180184.8786",
         "orientation": "h",
         "showlegend": true,
         "textposition": "auto",
         "type": "bar",
         "x": [
          180184.8786
         ],
         "xaxis": "x",
         "y": [
          "Gujarat"
         ],
         "yaxis": "y"
        },
        {
         "hovertemplate": "<b>%{hovertext}</b><br><br>Registered_Users=%{x}<br>State=%{y}<extra></extra>",
         "hovertext": [
          "Rajasthan"
         ],
         "legendgroup": "219730.5929",
         "marker": {
          "color": "#FECB52",
          "pattern": {
           "shape": ""
          }
         },
         "name": "219730.5929",
         "orientation": "h",
         "showlegend": true,
         "textposition": "auto",
         "type": "bar",
         "x": [
          219730.5929
         ],
         "xaxis": "x",
         "y": [
          "Rajasthan"
         ],
         "yaxis": "y"
        },
        {
         "hovertemplate": "<b>%{hovertext}</b><br><br>Registered_Users=%{x}<br>State=%{y}<extra></extra>",
         "hovertext": [
          "Telangana"
         ],
         "legendgroup": "238297.6500",
         "marker": {
          "color": "#636efa",
          "pattern": {
           "shape": ""
          }
         },
         "name": "238297.6500",
         "orientation": "h",
         "showlegend": true,
         "textposition": "auto",
         "type": "bar",
         "x": [
          238297.65
         ],
         "xaxis": "x",
         "y": [
          "Telangana"
         ],
         "yaxis": "y"
        },
        {
         "hovertemplate": "<b>%{hovertext}</b><br><br>Registered_Users=%{x}<br>State=%{y}<extra></extra>",
         "hovertext": [
          "Haryana"
         ],
         "legendgroup": "248753.3179",
         "marker": {
          "color": "#EF553B",
          "pattern": {
           "shape": ""
          }
         },
         "name": "248753.3179",
         "orientation": "h",
         "showlegend": true,
         "textposition": "auto",
         "type": "bar",
         "x": [
          248753.3179
         ],
         "xaxis": "x",
         "y": [
          "Haryana"
         ],
         "yaxis": "y"
        },
        {
         "hovertemplate": "<b>%{hovertext}</b><br><br>Registered_Users=%{x}<br>State=%{y}<extra></extra>",
         "hovertext": [
          "Maharashtra"
         ],
         "legendgroup": "291312.0964",
         "marker": {
          "color": "#00cc96",
          "pattern": {
           "shape": ""
          }
         },
         "name": "291312.0964",
         "orientation": "h",
         "showlegend": true,
         "textposition": "auto",
         "type": "bar",
         "x": [
          291312.0964
         ],
         "xaxis": "x",
         "y": [
          "Maharashtra"
         ],
         "yaxis": "y"
        },
        {
         "hovertemplate": "<b>%{hovertext}</b><br><br>Registered_Users=%{x}<br>State=%{y}<extra></extra>",
         "hovertext": [
          "Uttar Pradesh"
         ],
         "legendgroup": "294165.9464",
         "marker": {
          "color": "#ab63fa",
          "pattern": {
           "shape": ""
          }
         },
         "name": "294165.9464",
         "orientation": "h",
         "showlegend": true,
         "textposition": "auto",
         "type": "bar",
         "x": [
          294165.9464
         ],
         "xaxis": "x",
         "y": [
          "Uttar Pradesh"
         ],
         "yaxis": "y"
        },
        {
         "hovertemplate": "<b>%{hovertext}</b><br><br>Registered_Users=%{x}<br>State=%{y}<extra></extra>",
         "hovertext": [
          "Karnataka"
         ],
         "legendgroup": "295987.1071",
         "marker": {
          "color": "#FFA15A",
          "pattern": {
           "shape": ""
          }
         },
         "name": "295987.1071",
         "orientation": "h",
         "showlegend": true,
         "textposition": "auto",
         "type": "bar",
         "x": [
          295987.1071
         ],
         "xaxis": "x",
         "y": [
          "Karnataka"
         ],
         "yaxis": "y"
        },
        {
         "hovertemplate": "<b>%{hovertext}</b><br><br>Registered_Users=%{x}<br>State=%{y}<extra></extra>",
         "hovertext": [
          "Delhi"
         ],
         "legendgroup": "324093.0143",
         "marker": {
          "color": "#19d3f3",
          "pattern": {
           "shape": ""
          }
         },
         "name": "324093.0143",
         "orientation": "h",
         "showlegend": true,
         "textposition": "auto",
         "type": "bar",
         "x": [
          324093.0143
         ],
         "xaxis": "x",
         "y": [
          "Delhi"
         ],
         "yaxis": "y"
        }
       ],
       "layout": {
        "barmode": "relative",
        "height": 800,
        "legend": {
         "title": {
          "text": "Registered_Users"
         },
         "tracegroupgap": 0
        },
        "template": {
         "data": {
          "bar": [
           {
            "error_x": {
             "color": "#2a3f5f"
            },
            "error_y": {
             "color": "#2a3f5f"
            },
            "marker": {
             "line": {
              "color": "#E5ECF6",
              "width": 0.5
             },
             "pattern": {
              "fillmode": "overlay",
              "size": 10,
              "solidity": 0.2
             }
            },
            "type": "bar"
           }
          ],
          "barpolar": [
           {
            "marker": {
             "line": {
              "color": "#E5ECF6",
              "width": 0.5
             },
             "pattern": {
              "fillmode": "overlay",
              "size": 10,
              "solidity": 0.2
             }
            },
            "type": "barpolar"
           }
          ],
          "carpet": [
           {
            "aaxis": {
             "endlinecolor": "#2a3f5f",
             "gridcolor": "white",
             "linecolor": "white",
             "minorgridcolor": "white",
             "startlinecolor": "#2a3f5f"
            },
            "baxis": {
             "endlinecolor": "#2a3f5f",
             "gridcolor": "white",
             "linecolor": "white",
             "minorgridcolor": "white",
             "startlinecolor": "#2a3f5f"
            },
            "type": "carpet"
           }
          ],
          "choropleth": [
           {
            "colorbar": {
             "outlinewidth": 0,
             "ticks": ""
            },
            "type": "choropleth"
           }
          ],
          "contour": [
           {
            "colorbar": {
             "outlinewidth": 0,
             "ticks": ""
            },
            "colorscale": [
             [
              0,
              "#0d0887"
             ],
             [
              0.1111111111111111,
              "#46039f"
             ],
             [
              0.2222222222222222,
              "#7201a8"
             ],
             [
              0.3333333333333333,
              "#9c179e"
             ],
             [
              0.4444444444444444,
              "#bd3786"
             ],
             [
              0.5555555555555556,
              "#d8576b"
             ],
             [
              0.6666666666666666,
              "#ed7953"
             ],
             [
              0.7777777777777778,
              "#fb9f3a"
             ],
             [
              0.8888888888888888,
              "#fdca26"
             ],
             [
              1,
              "#f0f921"
             ]
            ],
            "type": "contour"
           }
          ],
          "contourcarpet": [
           {
            "colorbar": {
             "outlinewidth": 0,
             "ticks": ""
            },
            "type": "contourcarpet"
           }
          ],
          "heatmap": [
           {
            "colorbar": {
             "outlinewidth": 0,
             "ticks": ""
            },
            "colorscale": [
             [
              0,
              "#0d0887"
             ],
             [
              0.1111111111111111,
              "#46039f"
             ],
             [
              0.2222222222222222,
              "#7201a8"
             ],
             [
              0.3333333333333333,
              "#9c179e"
             ],
             [
              0.4444444444444444,
              "#bd3786"
             ],
             [
              0.5555555555555556,
              "#d8576b"
             ],
             [
              0.6666666666666666,
              "#ed7953"
             ],
             [
              0.7777777777777778,
              "#fb9f3a"
             ],
             [
              0.8888888888888888,
              "#fdca26"
             ],
             [
              1,
              "#f0f921"
             ]
            ],
            "type": "heatmap"
           }
          ],
          "histogram": [
           {
            "marker": {
             "pattern": {
              "fillmode": "overlay",
              "size": 10,
              "solidity": 0.2
             }
            },
            "type": "histogram"
           }
          ],
          "histogram2d": [
           {
            "colorbar": {
             "outlinewidth": 0,
             "ticks": ""
            },
            "colorscale": [
             [
              0,
              "#0d0887"
             ],
             [
              0.1111111111111111,
              "#46039f"
             ],
             [
              0.2222222222222222,
              "#7201a8"
             ],
             [
              0.3333333333333333,
              "#9c179e"
             ],
             [
              0.4444444444444444,
              "#bd3786"
             ],
             [
              0.5555555555555556,
              "#d8576b"
             ],
             [
              0.6666666666666666,
              "#ed7953"
             ],
             [
              0.7777777777777778,
              "#fb9f3a"
             ],
             [
              0.8888888888888888,
              "#fdca26"
             ],
             [
              1,
              "#f0f921"
             ]
            ],
            "type": "histogram2d"
           }
          ],
          "histogram2dcontour": [
           {
            "colorbar": {
             "outlinewidth": 0,
             "ticks": ""
            },
            "colorscale": [
             [
              0,
              "#0d0887"
             ],
             [
              0.1111111111111111,
              "#46039f"
             ],
             [
              0.2222222222222222,
              "#7201a8"
             ],
             [
              0.3333333333333333,
              "#9c179e"
             ],
             [
              0.4444444444444444,
              "#bd3786"
             ],
             [
              0.5555555555555556,
              "#d8576b"
             ],
             [
              0.6666666666666666,
              "#ed7953"
             ],
             [
              0.7777777777777778,
              "#fb9f3a"
             ],
             [
              0.8888888888888888,
              "#fdca26"
             ],
             [
              1,
              "#f0f921"
             ]
            ],
            "type": "histogram2dcontour"
           }
          ],
          "mesh3d": [
           {
            "colorbar": {
             "outlinewidth": 0,
             "ticks": ""
            },
            "type": "mesh3d"
           }
          ],
          "parcoords": [
           {
            "line": {
             "colorbar": {
              "outlinewidth": 0,
              "ticks": ""
             }
            },
            "type": "parcoords"
           }
          ],
          "pie": [
           {
            "automargin": true,
            "type": "pie"
           }
          ],
          "scatter": [
           {
            "fillpattern": {
             "fillmode": "overlay",
             "size": 10,
             "solidity": 0.2
            },
            "type": "scatter"
           }
          ],
          "scatter3d": [
           {
            "line": {
             "colorbar": {
              "outlinewidth": 0,
              "ticks": ""
             }
            },
            "marker": {
             "colorbar": {
              "outlinewidth": 0,
              "ticks": ""
             }
            },
            "type": "scatter3d"
           }
          ],
          "scattercarpet": [
           {
            "marker": {
             "colorbar": {
              "outlinewidth": 0,
              "ticks": ""
             }
            },
            "type": "scattercarpet"
           }
          ],
          "scattergeo": [
           {
            "marker": {
             "colorbar": {
              "outlinewidth": 0,
              "ticks": ""
             }
            },
            "type": "scattergeo"
           }
          ],
          "scattergl": [
           {
            "marker": {
             "colorbar": {
              "outlinewidth": 0,
              "ticks": ""
             }
            },
            "type": "scattergl"
           }
          ],
          "scattermap": [
           {
            "marker": {
             "colorbar": {
              "outlinewidth": 0,
              "ticks": ""
             }
            },
            "type": "scattermap"
           }
          ],
          "scattermapbox": [
           {
            "marker": {
             "colorbar": {
              "outlinewidth": 0,
              "ticks": ""
             }
            },
            "type": "scattermapbox"
           }
          ],
          "scatterpolar": [
           {
            "marker": {
             "colorbar": {
              "outlinewidth": 0,
              "ticks": ""
             }
            },
            "type": "scatterpolar"
           }
          ],
          "scatterpolargl": [
           {
            "marker": {
             "colorbar": {
              "outlinewidth": 0,
              "ticks": ""
             }
            },
            "type": "scatterpolargl"
           }
          ],
          "scatterternary": [
           {
            "marker": {
             "colorbar": {
              "outlinewidth": 0,
              "ticks": ""
             }
            },
            "type": "scatterternary"
           }
          ],
          "surface": [
           {
            "colorbar": {
             "outlinewidth": 0,
             "ticks": ""
            },
            "colorscale": [
             [
              0,
              "#0d0887"
             ],
             [
              0.1111111111111111,
              "#46039f"
             ],
             [
              0.2222222222222222,
              "#7201a8"
             ],
             [
              0.3333333333333333,
              "#9c179e"
             ],
             [
              0.4444444444444444,
              "#bd3786"
             ],
             [
              0.5555555555555556,
              "#d8576b"
             ],
             [
              0.6666666666666666,
              "#ed7953"
             ],
             [
              0.7777777777777778,
              "#fb9f3a"
             ],
             [
              0.8888888888888888,
              "#fdca26"
             ],
             [
              1,
              "#f0f921"
             ]
            ],
            "type": "surface"
           }
          ],
          "table": [
           {
            "cells": {
             "fill": {
              "color": "#EBF0F8"
             },
             "line": {
              "color": "white"
             }
            },
            "header": {
             "fill": {
              "color": "#C8D4E3"
             },
             "line": {
              "color": "white"
             }
            },
            "type": "table"
           }
          ]
         },
         "layout": {
          "annotationdefaults": {
           "arrowcolor": "#2a3f5f",
           "arrowhead": 0,
           "arrowwidth": 1
          },
          "autotypenumbers": "strict",
          "coloraxis": {
           "colorbar": {
            "outlinewidth": 0,
            "ticks": ""
           }
          },
          "colorscale": {
           "diverging": [
            [
             0,
             "#8e0152"
            ],
            [
             0.1,
             "#c51b7d"
            ],
            [
             0.2,
             "#de77ae"
            ],
            [
             0.3,
             "#f1b6da"
            ],
            [
             0.4,
             "#fde0ef"
            ],
            [
             0.5,
             "#f7f7f7"
            ],
            [
             0.6,
             "#e6f5d0"
            ],
            [
             0.7,
             "#b8e186"
            ],
            [
             0.8,
             "#7fbc41"
            ],
            [
             0.9,
             "#4d9221"
            ],
            [
             1,
             "#276419"
            ]
           ],
           "sequential": [
            [
             0,
             "#0d0887"
            ],
            [
             0.1111111111111111,
             "#46039f"
            ],
            [
             0.2222222222222222,
             "#7201a8"
            ],
            [
             0.3333333333333333,
             "#9c179e"
            ],
            [
             0.4444444444444444,
             "#bd3786"
            ],
            [
             0.5555555555555556,
             "#d8576b"
            ],
            [
             0.6666666666666666,
             "#ed7953"
            ],
            [
             0.7777777777777778,
             "#fb9f3a"
            ],
            [
             0.8888888888888888,
             "#fdca26"
            ],
            [
             1,
             "#f0f921"
            ]
           ],
           "sequentialminus": [
            [
             0,
             "#0d0887"
            ],
            [
             0.1111111111111111,
             "#46039f"
            ],
            [
             0.2222222222222222,
             "#7201a8"
            ],
            [
             0.3333333333333333,
             "#9c179e"
            ],
            [
             0.4444444444444444,
             "#bd3786"
            ],
            [
             0.5555555555555556,
             "#d8576b"
            ],
            [
             0.6666666666666666,
             "#ed7953"
            ],
            [
             0.7777777777777778,
             "#fb9f3a"
            ],
            [
             0.8888888888888888,
             "#fdca26"
            ],
            [
             1,
             "#f0f921"
            ]
           ]
          },
          "colorway": [
           "#636efa",
           "#EF553B",
           "#00cc96",
           "#ab63fa",
           "#FFA15A",
           "#19d3f3",
           "#FF6692",
           "#B6E880",
           "#FF97FF",
           "#FECB52"
          ],
          "font": {
           "color": "#2a3f5f"
          },
          "geo": {
           "bgcolor": "white",
           "lakecolor": "white",
           "landcolor": "#E5ECF6",
           "showlakes": true,
           "showland": true,
           "subunitcolor": "white"
          },
          "hoverlabel": {
           "align": "left"
          },
          "hovermode": "closest",
          "mapbox": {
           "style": "light"
          },
          "paper_bgcolor": "white",
          "plot_bgcolor": "#E5ECF6",
          "polar": {
           "angularaxis": {
            "gridcolor": "white",
            "linecolor": "white",
            "ticks": ""
           },
           "bgcolor": "#E5ECF6",
           "radialaxis": {
            "gridcolor": "white",
            "linecolor": "white",
            "ticks": ""
           }
          },
          "scene": {
           "xaxis": {
            "backgroundcolor": "#E5ECF6",
            "gridcolor": "white",
            "gridwidth": 2,
            "linecolor": "white",
            "showbackground": true,
            "ticks": "",
            "zerolinecolor": "white"
           },
           "yaxis": {
            "backgroundcolor": "#E5ECF6",
            "gridcolor": "white",
            "gridwidth": 2,
            "linecolor": "white",
            "showbackground": true,
            "ticks": "",
            "zerolinecolor": "white"
           },
           "zaxis": {
            "backgroundcolor": "#E5ECF6",
            "gridcolor": "white",
            "gridwidth": 2,
            "linecolor": "white",
            "showbackground": true,
            "ticks": "",
            "zerolinecolor": "white"
           }
          },
          "shapedefaults": {
           "line": {
            "color": "#2a3f5f"
           }
          },
          "ternary": {
           "aaxis": {
            "gridcolor": "white",
            "linecolor": "white",
            "ticks": ""
           },
           "baxis": {
            "gridcolor": "white",
            "linecolor": "white",
            "ticks": ""
           },
           "bgcolor": "#E5ECF6",
           "caxis": {
            "gridcolor": "white",
            "linecolor": "white",
            "ticks": ""
           }
          },
          "title": {
           "x": 0.05
          },
          "xaxis": {
           "automargin": true,
           "gridcolor": "white",
           "linecolor": "white",
           "ticks": "",
           "title": {
            "standoff": 15
           },
           "zerolinecolor": "white",
           "zerolinewidth": 2
          },
          "yaxis": {
           "automargin": true,
           "gridcolor": "white",
           "linecolor": "white",
           "ticks": "",
           "title": {
            "standoff": 15
           },
           "zerolinecolor": "white",
           "zerolinewidth": 2
          }
         }
        },
        "title": {
         "text": "AVERAGE REGISTERED USER"
        },
        "width": 1000,
        "xaxis": {
         "anchor": "y",
         "categoryarray": [
          631.4027,
          5698.2679,
          6222.6893,
          7517.8464,
          10971.4107,
          13938.8071,
          14262.3286,
          16248.8143,
          16883.9143,
          17468.325,
          24333.3536,
          25392.7143,
          26437.2179,
          30650.3786,
          35244.8071,
          36225.0893,
          39680.7362,
          42246.2143,
          84937.425,
          88755.3893,
          101617.3143,
          108668.5964,
          111033.6536,
          114716.7,
          125168.9786,
          152463.5536,
          158887.5714,
          176963.5607,
          180184.8786,
          219730.5929,
          238297.65,
          248753.3179,
          291312.0964,
          294165.9464,
          295987.1071,
          324093.0143
         ],
         "categoryorder": "array",
         "domain": [
          0,
          1
         ],
         "title": {
          "text": "Registered_Users"
         }
        },
        "yaxis": {
         "anchor": "x",
         "domain": [
          0,
          1
         ],
         "title": {
          "text": "State"
         }
        }
       }
      }
     },
     "metadata": {},
     "output_type": "display_data"
    }
   ],
   "source": [
    "top_chart_registered_users(\"top_user\")"
   ]
  },
  {
   "cell_type": "code",
   "execution_count": 26,
   "id": "1057734d",
   "metadata": {},
   "outputs": [
    {
     "name": "stdout",
     "output_type": "stream",
     "text": [
      "✅ Connection closed successfully!\n"
     ]
    }
   ],
   "source": [
    "cursor.close()\n",
    "conn.close()\n",
    "\n",
    "print(\"✅ Connection closed successfully!\")"
   ]
  },
  {
   "cell_type": "code",
   "execution_count": 6,
   "id": "61a4d6a5",
   "metadata": {},
   "outputs": [],
   "source": [
    "#Transaction year Based\n",
    "def Transaction_amount_count_Y(df, year):\n",
    "\n",
    "    tacy=df[df[\"year\"]==year]\n",
    "    tacy.reset_index(drop=True,inplace=True)\n",
    "\n",
    "    tacyg=tacy.groupby(\"state\")[[\"Transacion_count\",\"Transacion_amount\"]].sum()\n",
    "    tacyg.reset_index(inplace=True)\n",
    "\n",
    "    fig_amt=px.bar(tacyg,x=\"state\",y=\"Transacion_amount\",title=f\"{year} TRANSACTION AMOUNT\",color=\"Transacion_amount\",height=600, width=600)\n",
    "    fig_amt.show()\n",
    "\n",
    "    fig_count=px.bar(tacyg,x=\"state\",y=\"Transacion_count\",title=f\"{year} TRANSACTION COUNT\",color=\"Transacion_count\",height=600, width=600)\n",
    "    fig_count.show()\n",
    "\n",
    "    url = \"https://gist.githubusercontent.com/jbrobst/56c13bbbf9d97d187fea01ca62ea5112/raw/e388c4cae20aa53cb5090210a42ebb9b765c0a36/india_states.geojson\"\n",
    "    response = requests.get(url)\n",
    "    data1= json.loads(response.content)\n",
    "    states_name = []\n",
    "    for feature in data1[\"features\"]:\n",
    "        states_name.append(feature[\"properties\"][\"ST_NM\"])\n",
    "\n",
    "    states_name.sort()\n",
    "\n",
    "    fig_india_1 = px.choropleth(tacyg, geojson=data1, locations='state', featureidkey=\"properties.ST_NM\", color=\"Transacion_amount\", \n",
    "                                color_continuous_scale=\"Rainbow\", range_color=(tacyg[\"Transacion_amount\"].min(), tacyg[\"Transacion_amount\"].min()),\n",
    "                                hover_name= \"state\", title=f\"{year} TRANSACTION AMOUNT\", fitbounds=\"locations\", height=600, width=600)\n",
    "    fig_india_1.update_geos(visible=False)\n",
    "    fig_india_1.show()\n",
    "\n",
    "    fig_india_2 = px.choropleth(tacyg, geojson=data1, locations='state', featureidkey=\"properties.ST_NM\", color=\"Transacion_count\", \n",
    "                                color_continuous_scale=\"Rainbow\", range_color=(tacyg[\"Transacion_count\"].min(), tacyg[\"Transacion_count\"].min()),\n",
    "                                hover_name= \"state\", title=f\"{year} TRANSACTION COUNT\", fitbounds=\"locations\", height=600, width=600)\n",
    "    fig_india_2.update_geos(visible=False)\n",
    "    fig_india_2.show()\n",
    "\n",
    "    return tacy\n"
   ]
  },
  {
   "cell_type": "code",
   "execution_count": null,
   "id": "420c5c59",
   "metadata": {},
   "outputs": [],
   "source": []
  },
  {
   "cell_type": "code",
   "execution_count": 7,
   "id": "5f82b49e",
   "metadata": {},
   "outputs": [],
   "source": [
    "#Transaction quarter Based\n",
    "def Transaction_amount_count_Y_Q(df, quarter):\n",
    "\n",
    "    tacy=df[df[\"Quarter\"]==quarter]\n",
    "    tacy.reset_index(drop=True,inplace=True)\n",
    "\n",
    "    tacyg=tacy.groupby(\"state\")[[\"Transacion_count\",\"Transacion_amount\"]].sum()\n",
    "    tacyg.reset_index(inplace=True)\n",
    "\n",
    "    fig_amt=px.bar(tacyg,x=\"state\",y=\"Transacion_amount\",title=f\"{tacy['year'].min()} YEAR {quarter} QUARTER TRANSACTION AMOUNT\",color=\"Transacion_amount\",height=600, width=600)\n",
    "    fig_amt.show()\n",
    "\n",
    "    fig_count=px.bar(tacyg,x=\"state\",y=\"Transacion_count\",title=f\"{tacy['year'].min()} YEAR {quarter} QUARTER TRANSACTION COUNT\",color=\"Transacion_count\",height=600, width=600)\n",
    "    fig_count.show()\n",
    "\n",
    "    url = \"https://gist.githubusercontent.com/jbrobst/56c13bbbf9d97d187fea01ca62ea5112/raw/e388c4cae20aa53cb5090210a42ebb9b765c0a36/india_states.geojson\"\n",
    "    response = requests.get(url)\n",
    "    data1= json.loads(response.content)\n",
    "    states_name = []\n",
    "    for feature in data1[\"features\"]:\n",
    "        states_name.append(feature[\"properties\"][\"ST_NM\"])\n",
    "\n",
    "    states_name.sort()\n",
    "\n",
    "    fig_india_1 = px.choropleth(tacyg, geojson=data1, locations='state', featureidkey=\"properties.ST_NM\", color=\"Transacion_amount\", \n",
    "                                color_continuous_scale=\"Rainbow\", range_color=(tacyg[\"Transacion_amount\"].min(), tacyg[\"Transacion_amount\"].min()),\n",
    "                                hover_name= \"state\", title=f\"{tacy['year'].min()} YEAR {quarter} QUARTER TRANSACTION AMOUNT\", fitbounds=\"locations\", height=600, width=600)\n",
    "    fig_india_1.update_geos(visible=False)\n",
    "    fig_india_1.show()\n",
    "\n",
    "    fig_india_2 = px.choropleth(tacyg, geojson=data1, locations='state', featureidkey=\"properties.ST_NM\", color=\"Transacion_count\", \n",
    "                                color_continuous_scale=\"Rainbow\", range_color=(tacyg[\"Transacion_count\"].min(), tacyg[\"Transacion_count\"].min()),\n",
    "                                hover_name= \"state\", title=f\"{tacy['year'].min()} YEAR {quarter} QUARTER TRANSACTION COUNT\", fitbounds=\"locations\", height=600, width=600)\n",
    "    fig_india_2.update_geos(visible=False)\n",
    "    fig_india_2.show()\n",
    "\n",
    "    return tacy\n",
    "\n"
   ]
  },
  {
   "cell_type": "code",
   "execution_count": 8,
   "id": "56eede46",
   "metadata": {},
   "outputs": [],
   "source": [
    "#Transaction Type \n",
    "def Agg_Tran_Transaction_type(df, state):\n",
    "\n",
    "    tacy=df[df[\"state\"]== state]\n",
    "    tacy.reset_index(drop=True,inplace=True)\n",
    "\n",
    "    tacyg=tacy.groupby(\"Transacion_type\")[[\"Transacion_count\",\"Transacion_amount\"]].sum()\n",
    "    tacyg.reset_index(inplace=True)\n",
    "\n",
    "    fig_pie_1=px.pie(data_frame=tacyg, names=\"Transacion_type\", values=\"Transacion_amount\", \n",
    "                        width=600, title=f\"{state.upper()} TRANSACTION AMOUNT\", hole=0.5, )\n",
    "    fig_pie_1.show()\n",
    "\n",
    "    fig_pie_2=px.pie(data_frame=tacyg, names=\"Transacion_type\", values=\"Transacion_count\", \n",
    "                        width=600, title=f\"{state.upper()} TRANSACTION COUNT\", hole=0.5, )\n",
    "    fig_pie_2.show()\n",
    "\n"
   ]
  },
  {
   "cell_type": "code",
   "execution_count": 9,
   "id": "f6fe0f2e",
   "metadata": {},
   "outputs": [],
   "source": [
    "#Aggre user analysis 1\n",
    "def Agg_user_plot_1(df,year):\n",
    "\n",
    "    aguy = df[df[\"year\"]==year]\n",
    "    aguy.reset_index(drop=True,inplace=True)\n",
    "\n",
    "    aguyg = pd.DataFrame(aguy.groupby(\"Brands\")[\"Transacion_counts\"].sum())\n",
    "    aguyg.reset_index(inplace=True)\n",
    "\n",
    "    fig_bar_1 = px.bar(aguyg, x=\"Brands\", y=\"Transacion_counts\", title= f\"{year} BRAND AND TRANSACTION COUNT\", \n",
    "                       width=1000, color=\"Transacion_counts\")\n",
    "    fig_bar_1.show()\n",
    "\n",
    "    return aguy\n"
   ]
  },
  {
   "cell_type": "code",
   "execution_count": 10,
   "id": "7b80bdc2",
   "metadata": {},
   "outputs": [],
   "source": [
    "#Agg_user analysis 2\n",
    "def Agg_user_plot_2(df,quarter):\n",
    "\n",
    "    aguyq = df[df[\"Quarter\"]==quarter]\n",
    "    aguyq.reset_index(drop=True,inplace=True)\n",
    "\n",
    "    aguyqg = pd.DataFrame(aguyq.groupby(\"Brands\")[\"Transacion_counts\"].sum())\n",
    "    aguyqg.reset_index(inplace=True)\n",
    "\n",
    "    fig_bar_2 = px.bar(aguyqg, x=\"Brands\", y=\"Transacion_counts\", title =f\"{quarter} QUARTER, BRANDS AND TRANSACTION COUNT\",\n",
    "                    width=1000, color=\"Transacion_counts\", hover_name=\"Brands\")\n",
    "    fig_bar_2.show()\n",
    "\n",
    "    return aguyq\n",
    "                   \n",
    "\n"
   ]
  },
  {
   "cell_type": "code",
   "execution_count": 11,
   "id": "4de8a37a",
   "metadata": {},
   "outputs": [],
   "source": [
    "#Agg user analysis 3\n",
    "def Agg_user_Y_plot_3(df, state):\n",
    "    \n",
    "    auyqs = df[df[\"state\"] == state]\n",
    "    auyqs.reset_index(drop=True, inplace=True)\n",
    "\n",
    "    fig_line_1 = px.line(auyqs, x=\"Brands\", y=\"Transacion_counts\", hover_data=\"Percentage\",\n",
    "                         title=f\"{state.upper()}BRANDS, TRANSACTION COUNT, PERCENTAGE\", width=1000, markers=True)\n",
    "    fig_line_1.show()\n",
    "\n",
    "\n"
   ]
  },
  {
   "cell_type": "code",
   "execution_count": 12,
   "id": "598809d3",
   "metadata": {},
   "outputs": [],
   "source": [
    "#Mapinsurance district\n",
    "def Map_insur_District(df, state):\n",
    "\n",
    "    tacy=df[df[\"state\"]== state]\n",
    "    tacy.reset_index(drop=True,inplace=True)\n",
    "\n",
    "    tacyg=tacy.groupby(\"Districts\")[[\"Transacion_count\",\"Transacion_amount\"]].sum()\n",
    "    tacyg.reset_index(inplace=True)\n",
    "\n",
    "    fig_bar_1=px.bar(data_frame=tacyg, x=\"Transacion_amount\", y=\"Districts\", orientation=\"h\",\n",
    "                        title=f\"{state.upper()} DISTRICT AND TRANSACTION AMOUNT\", color=\"Transacion_amount\")\n",
    "    fig_bar_1.show()\n",
    "\n",
    "    fig_bar_2=px.bar(data_frame=tacyg, x=\"Transacion_count\", y=\"Districts\", orientation=\"h\",\n",
    "                        title=f\"{state.upper()} DISTRICT AND TRANSACTION COUNT\", color=\"Transacion_count\") \n",
    "    fig_bar_2.show()"
   ]
  },
  {
   "cell_type": "code",
   "execution_count": 13,
   "id": "9801ac71",
   "metadata": {},
   "outputs": [],
   "source": [
    "#Map_user_plot1\n",
    "def map_user_plot_1(df, year):\n",
    "\n",
    "    muy = df[df[\"year\"]== year]\n",
    "    muy.reset_index(drop=True,inplace=True)\n",
    "\n",
    "    muyg = muy.groupby(\"state\")[[\"Registered_Users\",\"App_Opens\"]].sum()\n",
    "    muyg.reset_index(inplace=True)\n",
    "\n",
    "    fig_line_1 = px.line(muyg, x=\"state\", y=[\"Registered_Users\",\"App_Opens\"],\n",
    "                            title= f\"{year} REGISTERED USER AND APPOPENS\", width=1000, height=800, markers=True)\n",
    "    fig_line_1.show()\n",
    "\n",
    "    return muy"
   ]
  },
  {
   "cell_type": "code",
   "execution_count": 14,
   "id": "9ab021d7",
   "metadata": {},
   "outputs": [],
   "source": [
    "#Map_user_plot_2\n",
    "def map_user_plot_2(df,quarter):\n",
    "\n",
    "    muyq = df[df[\"Quarter\"]==quarter]\n",
    "    muyq.reset_index(drop=True,inplace=True)\n",
    "\n",
    "    muyqg =muyq.groupby(\"state\")[[\"Registered_Users\",\"App_Opens\"]].sum()\n",
    "    muyqg.reset_index(inplace=True)\n",
    "\n",
    "    fig_line_2 = px.line(muyqg, x=\"state\", y=[\"Registered_Users\",\"App_Opens\"], title = f\"{quarter} QUARTER REGISTERED USER AND APPOPENS\",\n",
    "                    width=1000,height=800, markers=True, color_discrete_sequence=[\"blue\", \"orange\"])\n",
    "    fig_line_2.show()\n",
    "\n",
    "    return muyq"
   ]
  },
  {
   "cell_type": "code",
   "execution_count": 15,
   "id": "1726f918",
   "metadata": {},
   "outputs": [],
   "source": [
    "#map user_plot_3\n",
    "def map_user_plot_3(df, state):\n",
    "    muyqs = df[df[\"state\"]==state]\n",
    "    muyqs.reset_index(drop=True,inplace=True)\n",
    "\n",
    "    fig_map_bar_1 = px.bar(muyqs, x=\"Registered_Users\", y=\"Districts\", orientation=\"h\",\n",
    "                                title=f\"{muyqs['state'].values[0].upper()} DISTRICT AND REGISTERED USER\", width=1000, height=800, \n",
    "                                color=\"Registered_Users\")\n",
    "    fig_map_bar_1.show()\n",
    "\n",
    "    fig_map_bar_1 = px.bar(muyqs, x=\"App_Opens\", y=\"Districts\", orientation=\"h\",\n",
    "                                title=f\"{muyqs['state'].values[0].upper()} DISTRICT AND REGISTERED USER & APPOPENS\", width=1000, height=800, \n",
    "                                color=\"Registered_Users\")\n",
    "    fig_map_bar_1.show()"
   ]
  },
  {
   "cell_type": "code",
   "execution_count": 16,
   "id": "15dae663",
   "metadata": {},
   "outputs": [],
   "source": [
    "# Top_insurance_plot_1\n",
    "def Top_insurance_plot_1(df, state):\n",
    "   \n",
    "    tiy = df[df[\"state\"]== 'West Bengal']\n",
    "    tiy.reset_index(drop=True,inplace=True)\n",
    "\n",
    "    fig_top_insur_bar_1=px.bar(tiy, x=\"Quarter\", y=\"Transacion_amount\", hover_data= \"Pincodes\",\n",
    "                            title=f\"{tiy['state'].values[0].upper()} PINCODES AND TRANSACTION AMOUNT\",height=800, color=\"Transacion_amount\")\n",
    "    fig_top_insur_bar_1.show()\n",
    "\n",
    "    fig_top_insur_bar_2=px.bar(tiy, x=\"Quarter\", y=\"Transacion_count\", hover_data= \"Pincodes\",\n",
    "                            title=f\"{tiy['state'].values[0].upper()} PINCODES AND TRANSACTION COUNT\",height=800, color=\"Transacion_count\")\n",
    "    fig_top_insur_bar_2.show()"
   ]
  },
  {
   "cell_type": "code",
   "execution_count": 17,
   "id": "479e7c9e",
   "metadata": {},
   "outputs": [],
   "source": [
    "#Top_user_plot_1\n",
    "def Top_user_plot_1(df, year):\n",
    "\n",
    "    tuy = df[df[\"year\"]==year]\n",
    "    tuy.reset_index(drop=True,inplace=True)\n",
    "\n",
    "    tuyg = pd.DataFrame(tuy.groupby([\"state\",\"Quarter\"])[\"Registered_Users\"].sum())\n",
    "    tuyg.reset_index(inplace=True)\n",
    "\n",
    "    fig_top_user_plot_1 = px.bar(tuyg, x=\"state\", y=\"Registered_Users\", color=\"Quarter\", width=1000, height=800,\n",
    "                                color_discrete_sequence=px.colors.sequential.Burg_r,hover_name=\"state\", \n",
    "                                title=f\"{year} REGISTERED USER AND QUARTER\")\n",
    "    fig_top_user_plot_1.show()\n",
    "\n",
    "    return tuy\n"
   ]
  },
  {
   "cell_type": "code",
   "execution_count": 18,
   "id": "c24df129",
   "metadata": {},
   "outputs": [],
   "source": [
    "#Top_user_plot_2\n",
    "def Top_user_plot_2(df, state):\n",
    "\n",
    "    tuys = df[df[\"state\"]== state]\n",
    "    tuys.reset_index(drop=True,inplace=True)\n",
    "\n",
    "    fig_top_user_plot_2 = px.bar(tuys, x=\"Quarter\", y=\"Registered_Users\", color=\"Registered_Users\", width=1000, height=800,\n",
    "                                    color_continuous_scale=px.colors.sequential.Magenta,hover_data=\"Pincodes\", \n",
    "                                    title=f\"{tuys['state'].values[0].upper()} PINCODES AND REGISTERED USER\")\n",
    "    fig_top_user_plot_2.show()"
   ]
  },
  {
   "cell_type": "markdown",
   "id": "4dfdf1e8",
   "metadata": {},
   "source": [
    "## Aggregrated_Insurance \n"
   ]
  },
  {
   "cell_type": "code",
   "execution_count": null,
   "id": "989b7d6e",
   "metadata": {},
   "outputs": [],
   "source": [
    "tac_Y = Transaction_amount_count_Y(Agg_insurance, 2023)"
   ]
  },
  {
   "cell_type": "code",
   "execution_count": null,
   "id": "919a165b",
   "metadata": {},
   "outputs": [],
   "source": [
    "Transaction_amount_count_Y_Q(tac_Y, 3)"
   ]
  },
  {
   "cell_type": "code",
   "execution_count": null,
   "id": "84e8fc1d",
   "metadata": {},
   "outputs": [],
   "source": [
    "tac_Y"
   ]
  },
  {
   "cell_type": "markdown",
   "id": "fd09bdc3",
   "metadata": {},
   "source": [
    "## Aggrergated Transaction "
   ]
  },
  {
   "cell_type": "markdown",
   "id": "6096dac7",
   "metadata": {},
   "source": []
  },
  {
   "cell_type": "code",
   "execution_count": null,
   "id": "3a11ed7e",
   "metadata": {},
   "outputs": [],
   "source": [
    "Agg_tran_tac_Y = Transaction_amount_count_Y(Agg_transaction, 2023)"
   ]
  },
  {
   "cell_type": "code",
   "execution_count": null,
   "id": "536ac15c",
   "metadata": {},
   "outputs": [],
   "source": [
    "Agg_Tran_Transaction_type(Agg_tran_tac_Y, 'Tamil Nadu')"
   ]
  },
  {
   "cell_type": "code",
   "execution_count": null,
   "id": "3b511816",
   "metadata": {},
   "outputs": [],
   "source": [
    "Agg_tran_tac_Y_Q= Transaction_amount_count_Y_Q(Agg_tran_tac_Y, 3)"
   ]
  },
  {
   "cell_type": "code",
   "execution_count": null,
   "id": "df70c277",
   "metadata": {},
   "outputs": [],
   "source": [
    "Agg_Tran_Transaction_type(Agg_tran_tac_Y_Q, 'Tamil Nadu')"
   ]
  },
  {
   "cell_type": "markdown",
   "id": "a8aec670",
   "metadata": {},
   "source": [
    "## Aggregated user"
   ]
  },
  {
   "cell_type": "code",
   "execution_count": null,
   "id": "e75f2245",
   "metadata": {},
   "outputs": [],
   "source": [
    "Agg_user_Y = Agg_user_plot_1(Agg_user, 2022)"
   ]
  },
  {
   "cell_type": "code",
   "execution_count": null,
   "id": "6af4e7a4",
   "metadata": {},
   "outputs": [],
   "source": [
    "Agg_user_Y_Q = Agg_user_plot_2(Agg_user_Y,1)"
   ]
  },
  {
   "cell_type": "code",
   "execution_count": null,
   "id": "0a5abaf4",
   "metadata": {},
   "outputs": [],
   "source": [
    "Agg_user_Y_plot_3(Agg_user_Y_Q, \"Andaman & Nicobar\")"
   ]
  },
  {
   "cell_type": "code",
   "execution_count": 141,
   "id": "03e4e76d",
   "metadata": {},
   "outputs": [
    {
     "data": {
      "text/html": [
       "<div>\n",
       "<style scoped>\n",
       "    .dataframe tbody tr th:only-of-type {\n",
       "        vertical-align: middle;\n",
       "    }\n",
       "\n",
       "    .dataframe tbody tr th {\n",
       "        vertical-align: top;\n",
       "    }\n",
       "\n",
       "    .dataframe thead th {\n",
       "        text-align: right;\n",
       "    }\n",
       "</style>\n",
       "<table border=\"1\" class=\"dataframe\">\n",
       "  <thead>\n",
       "    <tr style=\"text-align: right;\">\n",
       "      <th></th>\n",
       "      <th>state</th>\n",
       "      <th>year</th>\n",
       "      <th>Quarter</th>\n",
       "      <th>Brands</th>\n",
       "      <th>Transacion_counts</th>\n",
       "      <th>Percentage</th>\n",
       "    </tr>\n",
       "  </thead>\n",
       "  <tbody>\n",
       "    <tr>\n",
       "      <th>0</th>\n",
       "      <td>Andaman &amp; Nicobar</td>\n",
       "      <td>2022</td>\n",
       "      <td>1</td>\n",
       "      <td>Vivo</td>\n",
       "      <td>18688</td>\n",
       "      <td>0.244966</td>\n",
       "    </tr>\n",
       "    <tr>\n",
       "      <th>1</th>\n",
       "      <td>Andaman &amp; Nicobar</td>\n",
       "      <td>2022</td>\n",
       "      <td>1</td>\n",
       "      <td>Xiaomi</td>\n",
       "      <td>17957</td>\n",
       "      <td>0.235384</td>\n",
       "    </tr>\n",
       "    <tr>\n",
       "      <th>2</th>\n",
       "      <td>Andaman &amp; Nicobar</td>\n",
       "      <td>2022</td>\n",
       "      <td>1</td>\n",
       "      <td>Samsung</td>\n",
       "      <td>12955</td>\n",
       "      <td>0.169817</td>\n",
       "    </tr>\n",
       "    <tr>\n",
       "      <th>3</th>\n",
       "      <td>Andaman &amp; Nicobar</td>\n",
       "      <td>2022</td>\n",
       "      <td>1</td>\n",
       "      <td>Realme</td>\n",
       "      <td>6769</td>\n",
       "      <td>0.088730</td>\n",
       "    </tr>\n",
       "    <tr>\n",
       "      <th>4</th>\n",
       "      <td>Andaman &amp; Nicobar</td>\n",
       "      <td>2022</td>\n",
       "      <td>1</td>\n",
       "      <td>Oppo</td>\n",
       "      <td>6461</td>\n",
       "      <td>0.084692</td>\n",
       "    </tr>\n",
       "    <tr>\n",
       "      <th>...</th>\n",
       "      <td>...</td>\n",
       "      <td>...</td>\n",
       "      <td>...</td>\n",
       "      <td>...</td>\n",
       "      <td>...</td>\n",
       "      <td>...</td>\n",
       "    </tr>\n",
       "    <tr>\n",
       "      <th>391</th>\n",
       "      <td>West Bengal</td>\n",
       "      <td>2022</td>\n",
       "      <td>1</td>\n",
       "      <td>Lenovo</td>\n",
       "      <td>330017</td>\n",
       "      <td>0.015056</td>\n",
       "    </tr>\n",
       "    <tr>\n",
       "      <th>392</th>\n",
       "      <td>West Bengal</td>\n",
       "      <td>2022</td>\n",
       "      <td>1</td>\n",
       "      <td>Infinix</td>\n",
       "      <td>284678</td>\n",
       "      <td>0.012987</td>\n",
       "    </tr>\n",
       "    <tr>\n",
       "      <th>393</th>\n",
       "      <td>West Bengal</td>\n",
       "      <td>2022</td>\n",
       "      <td>1</td>\n",
       "      <td>Asus</td>\n",
       "      <td>280347</td>\n",
       "      <td>0.012790</td>\n",
       "    </tr>\n",
       "    <tr>\n",
       "      <th>394</th>\n",
       "      <td>West Bengal</td>\n",
       "      <td>2022</td>\n",
       "      <td>1</td>\n",
       "      <td>Apple</td>\n",
       "      <td>277752</td>\n",
       "      <td>0.012671</td>\n",
       "    </tr>\n",
       "    <tr>\n",
       "      <th>395</th>\n",
       "      <td>West Bengal</td>\n",
       "      <td>2022</td>\n",
       "      <td>1</td>\n",
       "      <td>Others</td>\n",
       "      <td>2196334</td>\n",
       "      <td>0.100199</td>\n",
       "    </tr>\n",
       "  </tbody>\n",
       "</table>\n",
       "<p>396 rows × 6 columns</p>\n",
       "</div>"
      ],
      "text/plain": [
       "                 state  year  Quarter   Brands  Transacion_counts  Percentage\n",
       "0    Andaman & Nicobar  2022        1     Vivo              18688    0.244966\n",
       "1    Andaman & Nicobar  2022        1   Xiaomi              17957    0.235384\n",
       "2    Andaman & Nicobar  2022        1  Samsung              12955    0.169817\n",
       "3    Andaman & Nicobar  2022        1   Realme               6769    0.088730\n",
       "4    Andaman & Nicobar  2022        1     Oppo               6461    0.084692\n",
       "..                 ...   ...      ...      ...                ...         ...\n",
       "391        West Bengal  2022        1   Lenovo             330017    0.015056\n",
       "392        West Bengal  2022        1  Infinix             284678    0.012987\n",
       "393        West Bengal  2022        1     Asus             280347    0.012790\n",
       "394        West Bengal  2022        1    Apple             277752    0.012671\n",
       "395        West Bengal  2022        1   Others            2196334    0.100199\n",
       "\n",
       "[396 rows x 6 columns]"
      ]
     },
     "execution_count": 141,
     "metadata": {},
     "output_type": "execute_result"
    }
   ],
   "source": [
    "Agg_user_Y"
   ]
  },
  {
   "cell_type": "markdown",
   "id": "30306f83",
   "metadata": {},
   "source": [
    "## map insurance"
   ]
  },
  {
   "cell_type": "code",
   "execution_count": null,
   "id": "d13228fa",
   "metadata": {},
   "outputs": [],
   "source": [
    "Map_insur_tac_Y = Transaction_amount_count_Y(Map_insurance, 2020)"
   ]
  },
  {
   "cell_type": "code",
   "execution_count": null,
   "id": "615432d4",
   "metadata": {},
   "outputs": [],
   "source": [
    "Map_insur_District(Map_insur_tac_Y, 'Tamil Nadu')"
   ]
  },
  {
   "cell_type": "code",
   "execution_count": null,
   "id": "f9adc2aa",
   "metadata": {},
   "outputs": [],
   "source": [
    "Map_insur_tac_Y_Q= Transaction_amount_count_Y_Q(Map_insur_tac_Y, 3)"
   ]
  },
  {
   "cell_type": "code",
   "execution_count": null,
   "id": "26501931",
   "metadata": {},
   "outputs": [],
   "source": [
    "\n",
    "Map_insur_District(Map_insur_tac_Y_Q, 'Tamil Nadu')"
   ]
  },
  {
   "cell_type": "code",
   "execution_count": 13,
   "id": "5e34ba1c",
   "metadata": {},
   "outputs": [
    {
     "data": {
      "text/html": [
       "<div>\n",
       "<style scoped>\n",
       "    .dataframe tbody tr th:only-of-type {\n",
       "        vertical-align: middle;\n",
       "    }\n",
       "\n",
       "    .dataframe tbody tr th {\n",
       "        vertical-align: top;\n",
       "    }\n",
       "\n",
       "    .dataframe thead th {\n",
       "        text-align: right;\n",
       "    }\n",
       "</style>\n",
       "<table border=\"1\" class=\"dataframe\">\n",
       "  <thead>\n",
       "    <tr style=\"text-align: right;\">\n",
       "      <th></th>\n",
       "      <th>state</th>\n",
       "      <th>year</th>\n",
       "      <th>Quarter</th>\n",
       "      <th>Districts</th>\n",
       "      <th>Transacion_count</th>\n",
       "      <th>Transacion_amount</th>\n",
       "    </tr>\n",
       "  </thead>\n",
       "  <tbody>\n",
       "    <tr>\n",
       "      <th>0</th>\n",
       "      <td>Andaman &amp; Nicobar</td>\n",
       "      <td>2020</td>\n",
       "      <td>2</td>\n",
       "      <td>south andaman district</td>\n",
       "      <td>3</td>\n",
       "      <td>795</td>\n",
       "    </tr>\n",
       "    <tr>\n",
       "      <th>1</th>\n",
       "      <td>Andaman &amp; Nicobar</td>\n",
       "      <td>2020</td>\n",
       "      <td>2</td>\n",
       "      <td>nicobars district</td>\n",
       "      <td>3</td>\n",
       "      <td>565</td>\n",
       "    </tr>\n",
       "    <tr>\n",
       "      <th>2</th>\n",
       "      <td>Andaman &amp; Nicobar</td>\n",
       "      <td>2020</td>\n",
       "      <td>3</td>\n",
       "      <td>north and middle andaman district</td>\n",
       "      <td>1</td>\n",
       "      <td>281</td>\n",
       "    </tr>\n",
       "    <tr>\n",
       "      <th>3</th>\n",
       "      <td>Andaman &amp; Nicobar</td>\n",
       "      <td>2020</td>\n",
       "      <td>3</td>\n",
       "      <td>south andaman district</td>\n",
       "      <td>35</td>\n",
       "      <td>13651</td>\n",
       "    </tr>\n",
       "    <tr>\n",
       "      <th>4</th>\n",
       "      <td>Andaman &amp; Nicobar</td>\n",
       "      <td>2020</td>\n",
       "      <td>3</td>\n",
       "      <td>nicobars district</td>\n",
       "      <td>5</td>\n",
       "      <td>1448</td>\n",
       "    </tr>\n",
       "    <tr>\n",
       "      <th>...</th>\n",
       "      <td>...</td>\n",
       "      <td>...</td>\n",
       "      <td>...</td>\n",
       "      <td>...</td>\n",
       "      <td>...</td>\n",
       "      <td>...</td>\n",
       "    </tr>\n",
       "    <tr>\n",
       "      <th>13871</th>\n",
       "      <td>West Bengal</td>\n",
       "      <td>2024</td>\n",
       "      <td>4</td>\n",
       "      <td>alipurduar district</td>\n",
       "      <td>1023</td>\n",
       "      <td>1613143</td>\n",
       "    </tr>\n",
       "    <tr>\n",
       "      <th>13872</th>\n",
       "      <td>West Bengal</td>\n",
       "      <td>2024</td>\n",
       "      <td>4</td>\n",
       "      <td>paschim bardhaman district</td>\n",
       "      <td>4945</td>\n",
       "      <td>7005851</td>\n",
       "    </tr>\n",
       "    <tr>\n",
       "      <th>13873</th>\n",
       "      <td>West Bengal</td>\n",
       "      <td>2024</td>\n",
       "      <td>4</td>\n",
       "      <td>nadia district</td>\n",
       "      <td>3807</td>\n",
       "      <td>5031294</td>\n",
       "    </tr>\n",
       "    <tr>\n",
       "      <th>13874</th>\n",
       "      <td>West Bengal</td>\n",
       "      <td>2024</td>\n",
       "      <td>4</td>\n",
       "      <td>birbhum district</td>\n",
       "      <td>1818</td>\n",
       "      <td>2423290</td>\n",
       "    </tr>\n",
       "    <tr>\n",
       "      <th>13875</th>\n",
       "      <td>West Bengal</td>\n",
       "      <td>2024</td>\n",
       "      <td>4</td>\n",
       "      <td>purba medinipur district</td>\n",
       "      <td>3559</td>\n",
       "      <td>4439061</td>\n",
       "    </tr>\n",
       "  </tbody>\n",
       "</table>\n",
       "<p>13876 rows × 6 columns</p>\n",
       "</div>"
      ],
      "text/plain": [
       "                   state  year  Quarter                          Districts  \\\n",
       "0      Andaman & Nicobar  2020        2             south andaman district   \n",
       "1      Andaman & Nicobar  2020        2                  nicobars district   \n",
       "2      Andaman & Nicobar  2020        3  north and middle andaman district   \n",
       "3      Andaman & Nicobar  2020        3             south andaman district   \n",
       "4      Andaman & Nicobar  2020        3                  nicobars district   \n",
       "...                  ...   ...      ...                                ...   \n",
       "13871        West Bengal  2024        4                alipurduar district   \n",
       "13872        West Bengal  2024        4         paschim bardhaman district   \n",
       "13873        West Bengal  2024        4                     nadia district   \n",
       "13874        West Bengal  2024        4                   birbhum district   \n",
       "13875        West Bengal  2024        4           purba medinipur district   \n",
       "\n",
       "       Transacion_count  Transacion_amount  \n",
       "0                     3                795  \n",
       "1                     3                565  \n",
       "2                     1                281  \n",
       "3                    35              13651  \n",
       "4                     5               1448  \n",
       "...                 ...                ...  \n",
       "13871              1023            1613143  \n",
       "13872              4945            7005851  \n",
       "13873              3807            5031294  \n",
       "13874              1818            2423290  \n",
       "13875              3559            4439061  \n",
       "\n",
       "[13876 rows x 6 columns]"
      ]
     },
     "execution_count": 13,
     "metadata": {},
     "output_type": "execute_result"
    }
   ],
   "source": [
    "Map_insurance"
   ]
  },
  {
   "cell_type": "markdown",
   "id": "8417ad10",
   "metadata": {},
   "source": [
    "## map transaction"
   ]
  },
  {
   "cell_type": "code",
   "execution_count": null,
   "id": "ec38be46",
   "metadata": {},
   "outputs": [],
   "source": [
    "Map_trans_tac_Y = Transaction_amount_count_Y(Map_transaction, 2020)"
   ]
  },
  {
   "cell_type": "code",
   "execution_count": null,
   "id": "23b29b0a",
   "metadata": {},
   "outputs": [],
   "source": [
    "Map_insur_District(Map_trans_tac_Y, 'Tamil Nadu')"
   ]
  },
  {
   "cell_type": "code",
   "execution_count": null,
   "id": "bccac79d",
   "metadata": {},
   "outputs": [],
   "source": [
    "Map_trans_tac_Y_Q= Transaction_amount_count_Y_Q(Map_trans_tac_Y, 3)"
   ]
  },
  {
   "cell_type": "code",
   "execution_count": null,
   "id": "8360fdf7",
   "metadata": {},
   "outputs": [],
   "source": [
    "\n",
    "Map_insur_District(Map_trans_tac_Y_Q, 'Tamil Nadu')"
   ]
  },
  {
   "cell_type": "markdown",
   "id": "5f1fe58b",
   "metadata": {},
   "source": [
    "## map user"
   ]
  },
  {
   "cell_type": "code",
   "execution_count": 58,
   "id": "e1dd25c9",
   "metadata": {},
   "outputs": [
    {
     "data": {
      "text/html": [
       "<div>\n",
       "<style scoped>\n",
       "    .dataframe tbody tr th:only-of-type {\n",
       "        vertical-align: middle;\n",
       "    }\n",
       "\n",
       "    .dataframe tbody tr th {\n",
       "        vertical-align: top;\n",
       "    }\n",
       "\n",
       "    .dataframe thead th {\n",
       "        text-align: right;\n",
       "    }\n",
       "</style>\n",
       "<table border=\"1\" class=\"dataframe\">\n",
       "  <thead>\n",
       "    <tr style=\"text-align: right;\">\n",
       "      <th></th>\n",
       "      <th>state</th>\n",
       "      <th>year</th>\n",
       "      <th>Quarter</th>\n",
       "      <th>Districts</th>\n",
       "      <th>Registered_Users</th>\n",
       "      <th>App_Opens</th>\n",
       "    </tr>\n",
       "  </thead>\n",
       "  <tbody>\n",
       "    <tr>\n",
       "      <th>0</th>\n",
       "      <td>Andaman &amp; Nicobar</td>\n",
       "      <td>2018</td>\n",
       "      <td>1</td>\n",
       "      <td>north and middle andaman district</td>\n",
       "      <td>632</td>\n",
       "      <td>0</td>\n",
       "    </tr>\n",
       "    <tr>\n",
       "      <th>1</th>\n",
       "      <td>Andaman &amp; Nicobar</td>\n",
       "      <td>2018</td>\n",
       "      <td>1</td>\n",
       "      <td>south andaman district</td>\n",
       "      <td>5846</td>\n",
       "      <td>0</td>\n",
       "    </tr>\n",
       "    <tr>\n",
       "      <th>2</th>\n",
       "      <td>Andaman &amp; Nicobar</td>\n",
       "      <td>2018</td>\n",
       "      <td>1</td>\n",
       "      <td>nicobars district</td>\n",
       "      <td>262</td>\n",
       "      <td>0</td>\n",
       "    </tr>\n",
       "    <tr>\n",
       "      <th>3</th>\n",
       "      <td>Andaman &amp; Nicobar</td>\n",
       "      <td>2018</td>\n",
       "      <td>2</td>\n",
       "      <td>north and middle andaman district</td>\n",
       "      <td>911</td>\n",
       "      <td>0</td>\n",
       "    </tr>\n",
       "    <tr>\n",
       "      <th>4</th>\n",
       "      <td>Andaman &amp; Nicobar</td>\n",
       "      <td>2018</td>\n",
       "      <td>2</td>\n",
       "      <td>south andaman district</td>\n",
       "      <td>8143</td>\n",
       "      <td>0</td>\n",
       "    </tr>\n",
       "    <tr>\n",
       "      <th>...</th>\n",
       "      <td>...</td>\n",
       "      <td>...</td>\n",
       "      <td>...</td>\n",
       "      <td>...</td>\n",
       "      <td>...</td>\n",
       "      <td>...</td>\n",
       "    </tr>\n",
       "    <tr>\n",
       "      <th>20603</th>\n",
       "      <td>West Bengal</td>\n",
       "      <td>2024</td>\n",
       "      <td>4</td>\n",
       "      <td>alipurduar district</td>\n",
       "      <td>475688</td>\n",
       "      <td>31842355</td>\n",
       "    </tr>\n",
       "    <tr>\n",
       "      <th>20604</th>\n",
       "      <td>West Bengal</td>\n",
       "      <td>2024</td>\n",
       "      <td>4</td>\n",
       "      <td>paschim bardhaman district</td>\n",
       "      <td>1468252</td>\n",
       "      <td>80543469</td>\n",
       "    </tr>\n",
       "    <tr>\n",
       "      <th>20605</th>\n",
       "      <td>West Bengal</td>\n",
       "      <td>2024</td>\n",
       "      <td>4</td>\n",
       "      <td>nadia district</td>\n",
       "      <td>1861738</td>\n",
       "      <td>98740305</td>\n",
       "    </tr>\n",
       "    <tr>\n",
       "      <th>20606</th>\n",
       "      <td>West Bengal</td>\n",
       "      <td>2024</td>\n",
       "      <td>4</td>\n",
       "      <td>birbhum district</td>\n",
       "      <td>1114220</td>\n",
       "      <td>73465525</td>\n",
       "    </tr>\n",
       "    <tr>\n",
       "      <th>20607</th>\n",
       "      <td>West Bengal</td>\n",
       "      <td>2024</td>\n",
       "      <td>4</td>\n",
       "      <td>purba medinipur district</td>\n",
       "      <td>1717074</td>\n",
       "      <td>108350777</td>\n",
       "    </tr>\n",
       "  </tbody>\n",
       "</table>\n",
       "<p>20608 rows × 6 columns</p>\n",
       "</div>"
      ],
      "text/plain": [
       "                   state  year  Quarter                          Districts  \\\n",
       "0      Andaman & Nicobar  2018        1  north and middle andaman district   \n",
       "1      Andaman & Nicobar  2018        1             south andaman district   \n",
       "2      Andaman & Nicobar  2018        1                  nicobars district   \n",
       "3      Andaman & Nicobar  2018        2  north and middle andaman district   \n",
       "4      Andaman & Nicobar  2018        2             south andaman district   \n",
       "...                  ...   ...      ...                                ...   \n",
       "20603        West Bengal  2024        4                alipurduar district   \n",
       "20604        West Bengal  2024        4         paschim bardhaman district   \n",
       "20605        West Bengal  2024        4                     nadia district   \n",
       "20606        West Bengal  2024        4                   birbhum district   \n",
       "20607        West Bengal  2024        4           purba medinipur district   \n",
       "\n",
       "       Registered_Users  App_Opens  \n",
       "0                   632          0  \n",
       "1                  5846          0  \n",
       "2                   262          0  \n",
       "3                   911          0  \n",
       "4                  8143          0  \n",
       "...                 ...        ...  \n",
       "20603            475688   31842355  \n",
       "20604           1468252   80543469  \n",
       "20605           1861738   98740305  \n",
       "20606           1114220   73465525  \n",
       "20607           1717074  108350777  \n",
       "\n",
       "[20608 rows x 6 columns]"
      ]
     },
     "execution_count": 58,
     "metadata": {},
     "output_type": "execute_result"
    }
   ],
   "source": [
    "Map_user"
   ]
  },
  {
   "cell_type": "code",
   "execution_count": null,
   "id": "e072631a",
   "metadata": {},
   "outputs": [],
   "source": [
    "Map_user_Y = map_user_plot_1(Map_user, 2020)"
   ]
  },
  {
   "cell_type": "code",
   "execution_count": null,
   "id": "fb64fa4b",
   "metadata": {},
   "outputs": [],
   "source": [
    "Map_user_Y_Q = map_user_plot_2(Map_user_Y,2)"
   ]
  },
  {
   "cell_type": "code",
   "execution_count": null,
   "id": "82d71f3f",
   "metadata": {},
   "outputs": [],
   "source": [
    "map_user_plot_3(Map_user_Y_Q, 'Tamil Nadu')"
   ]
  },
  {
   "cell_type": "markdown",
   "id": "25cebb39",
   "metadata": {},
   "source": [
    "## Top Analusis "
   ]
  },
  {
   "cell_type": "code",
   "execution_count": null,
   "id": "ebf20198",
   "metadata": {},
   "outputs": [],
   "source": [
    "Top_insur_tac_Y = Transaction_amount_count_Y(Top_insurance, 2023)"
   ]
  },
  {
   "cell_type": "code",
   "execution_count": null,
   "id": "ac6688d0",
   "metadata": {},
   "outputs": [],
   "source": [
    "Top_insurance_plot_1(Top_insur_tac_Y, \"West Bengal\")"
   ]
  },
  {
   "cell_type": "code",
   "execution_count": null,
   "id": "9ab46ee4",
   "metadata": {},
   "outputs": [],
   "source": [
    "Top_insur_tac_Y_Q= Transaction_amount_count_Y_Q(Top_insur_tac_Y, 3)"
   ]
  },
  {
   "cell_type": "markdown",
   "id": "30ee4ca0",
   "metadata": {},
   "source": [
    "## Top transaction"
   ]
  },
  {
   "cell_type": "code",
   "execution_count": 97,
   "id": "e02cb1f0",
   "metadata": {},
   "outputs": [
    {
     "data": {
      "text/html": [
       "<div>\n",
       "<style scoped>\n",
       "    .dataframe tbody tr th:only-of-type {\n",
       "        vertical-align: middle;\n",
       "    }\n",
       "\n",
       "    .dataframe tbody tr th {\n",
       "        vertical-align: top;\n",
       "    }\n",
       "\n",
       "    .dataframe thead th {\n",
       "        text-align: right;\n",
       "    }\n",
       "</style>\n",
       "<table border=\"1\" class=\"dataframe\">\n",
       "  <thead>\n",
       "    <tr style=\"text-align: right;\">\n",
       "      <th></th>\n",
       "      <th>state</th>\n",
       "      <th>year</th>\n",
       "      <th>Quarter</th>\n",
       "      <th>Pincodes</th>\n",
       "      <th>Transacion_count</th>\n",
       "      <th>Transacion_amount</th>\n",
       "    </tr>\n",
       "  </thead>\n",
       "  <tbody>\n",
       "    <tr>\n",
       "      <th>0</th>\n",
       "      <td>Andaman &amp; Nicobar</td>\n",
       "      <td>2018</td>\n",
       "      <td>1</td>\n",
       "      <td>744101</td>\n",
       "      <td>1622</td>\n",
       "      <td>2769298</td>\n",
       "    </tr>\n",
       "    <tr>\n",
       "      <th>1</th>\n",
       "      <td>Andaman &amp; Nicobar</td>\n",
       "      <td>2018</td>\n",
       "      <td>1</td>\n",
       "      <td>744103</td>\n",
       "      <td>1223</td>\n",
       "      <td>2238042</td>\n",
       "    </tr>\n",
       "    <tr>\n",
       "      <th>2</th>\n",
       "      <td>Andaman &amp; Nicobar</td>\n",
       "      <td>2018</td>\n",
       "      <td>1</td>\n",
       "      <td>744102</td>\n",
       "      <td>969</td>\n",
       "      <td>3519060</td>\n",
       "    </tr>\n",
       "    <tr>\n",
       "      <th>3</th>\n",
       "      <td>Andaman &amp; Nicobar</td>\n",
       "      <td>2018</td>\n",
       "      <td>1</td>\n",
       "      <td>744105</td>\n",
       "      <td>685</td>\n",
       "      <td>1298561</td>\n",
       "    </tr>\n",
       "    <tr>\n",
       "      <th>4</th>\n",
       "      <td>Andaman &amp; Nicobar</td>\n",
       "      <td>2018</td>\n",
       "      <td>1</td>\n",
       "      <td>744104</td>\n",
       "      <td>340</td>\n",
       "      <td>1039715</td>\n",
       "    </tr>\n",
       "    <tr>\n",
       "      <th>...</th>\n",
       "      <td>...</td>\n",
       "      <td>...</td>\n",
       "      <td>...</td>\n",
       "      <td>...</td>\n",
       "      <td>...</td>\n",
       "      <td>...</td>\n",
       "    </tr>\n",
       "    <tr>\n",
       "      <th>9994</th>\n",
       "      <td>West Bengal</td>\n",
       "      <td>2024</td>\n",
       "      <td>4</td>\n",
       "      <td>711101</td>\n",
       "      <td>6753348</td>\n",
       "      <td>10494826024</td>\n",
       "    </tr>\n",
       "    <tr>\n",
       "      <th>9995</th>\n",
       "      <td>West Bengal</td>\n",
       "      <td>2024</td>\n",
       "      <td>4</td>\n",
       "      <td>700059</td>\n",
       "      <td>6662715</td>\n",
       "      <td>8009476497</td>\n",
       "    </tr>\n",
       "    <tr>\n",
       "      <th>9996</th>\n",
       "      <td>West Bengal</td>\n",
       "      <td>2024</td>\n",
       "      <td>4</td>\n",
       "      <td>700039</td>\n",
       "      <td>6575693</td>\n",
       "      <td>9018748395</td>\n",
       "    </tr>\n",
       "    <tr>\n",
       "      <th>9997</th>\n",
       "      <td>West Bengal</td>\n",
       "      <td>2024</td>\n",
       "      <td>4</td>\n",
       "      <td>734001</td>\n",
       "      <td>6432082</td>\n",
       "      <td>8996529284</td>\n",
       "    </tr>\n",
       "    <tr>\n",
       "      <th>9998</th>\n",
       "      <td>West Bengal</td>\n",
       "      <td>2024</td>\n",
       "      <td>4</td>\n",
       "      <td>733134</td>\n",
       "      <td>6313560</td>\n",
       "      <td>10502594688</td>\n",
       "    </tr>\n",
       "  </tbody>\n",
       "</table>\n",
       "<p>9999 rows × 6 columns</p>\n",
       "</div>"
      ],
      "text/plain": [
       "                  state  year  Quarter Pincodes  Transacion_count  \\\n",
       "0     Andaman & Nicobar  2018        1   744101              1622   \n",
       "1     Andaman & Nicobar  2018        1   744103              1223   \n",
       "2     Andaman & Nicobar  2018        1   744102               969   \n",
       "3     Andaman & Nicobar  2018        1   744105               685   \n",
       "4     Andaman & Nicobar  2018        1   744104               340   \n",
       "...                 ...   ...      ...      ...               ...   \n",
       "9994        West Bengal  2024        4   711101           6753348   \n",
       "9995        West Bengal  2024        4   700059           6662715   \n",
       "9996        West Bengal  2024        4   700039           6575693   \n",
       "9997        West Bengal  2024        4   734001           6432082   \n",
       "9998        West Bengal  2024        4   733134           6313560   \n",
       "\n",
       "      Transacion_amount  \n",
       "0               2769298  \n",
       "1               2238042  \n",
       "2               3519060  \n",
       "3               1298561  \n",
       "4               1039715  \n",
       "...                 ...  \n",
       "9994        10494826024  \n",
       "9995         8009476497  \n",
       "9996         9018748395  \n",
       "9997         8996529284  \n",
       "9998        10502594688  \n",
       "\n",
       "[9999 rows x 6 columns]"
      ]
     },
     "execution_count": 97,
     "metadata": {},
     "output_type": "execute_result"
    }
   ],
   "source": [
    "Top_transaction"
   ]
  },
  {
   "cell_type": "code",
   "execution_count": null,
   "id": "f9835956",
   "metadata": {},
   "outputs": [],
   "source": [
    "Top_trans_tac_Y = Transaction_amount_count_Y(Top_transaction, 2023)"
   ]
  },
  {
   "cell_type": "code",
   "execution_count": null,
   "id": "187605e8",
   "metadata": {},
   "outputs": [],
   "source": [
    "Top_insurance_plot_1(Top_trans_tac_Y, \"West Bengal\")"
   ]
  },
  {
   "cell_type": "code",
   "execution_count": null,
   "id": "8444e59d",
   "metadata": {},
   "outputs": [],
   "source": [
    "Top_trans_tac_Y_Q= Transaction_amount_count_Y_Q(Top_trans_tac_Y, 3)"
   ]
  },
  {
   "cell_type": "markdown",
   "id": "c177a83d",
   "metadata": {},
   "source": [
    "## Top User"
   ]
  },
  {
   "cell_type": "code",
   "execution_count": 101,
   "id": "bbdbcefc",
   "metadata": {},
   "outputs": [
    {
     "data": {
      "text/html": [
       "<div>\n",
       "<style scoped>\n",
       "    .dataframe tbody tr th:only-of-type {\n",
       "        vertical-align: middle;\n",
       "    }\n",
       "\n",
       "    .dataframe tbody tr th {\n",
       "        vertical-align: top;\n",
       "    }\n",
       "\n",
       "    .dataframe thead th {\n",
       "        text-align: right;\n",
       "    }\n",
       "</style>\n",
       "<table border=\"1\" class=\"dataframe\">\n",
       "  <thead>\n",
       "    <tr style=\"text-align: right;\">\n",
       "      <th></th>\n",
       "      <th>state</th>\n",
       "      <th>year</th>\n",
       "      <th>Quarter</th>\n",
       "      <th>Pincodes</th>\n",
       "      <th>Registered_Users</th>\n",
       "    </tr>\n",
       "  </thead>\n",
       "  <tbody>\n",
       "    <tr>\n",
       "      <th>0</th>\n",
       "      <td>Andaman &amp; Nicobar</td>\n",
       "      <td>2018</td>\n",
       "      <td>1</td>\n",
       "      <td>744103</td>\n",
       "      <td>1608</td>\n",
       "    </tr>\n",
       "    <tr>\n",
       "      <th>1</th>\n",
       "      <td>Andaman &amp; Nicobar</td>\n",
       "      <td>2018</td>\n",
       "      <td>1</td>\n",
       "      <td>744101</td>\n",
       "      <td>1108</td>\n",
       "    </tr>\n",
       "    <tr>\n",
       "      <th>2</th>\n",
       "      <td>Andaman &amp; Nicobar</td>\n",
       "      <td>2018</td>\n",
       "      <td>1</td>\n",
       "      <td>744105</td>\n",
       "      <td>1075</td>\n",
       "    </tr>\n",
       "    <tr>\n",
       "      <th>3</th>\n",
       "      <td>Andaman &amp; Nicobar</td>\n",
       "      <td>2018</td>\n",
       "      <td>1</td>\n",
       "      <td>744102</td>\n",
       "      <td>1006</td>\n",
       "    </tr>\n",
       "    <tr>\n",
       "      <th>4</th>\n",
       "      <td>Andaman &amp; Nicobar</td>\n",
       "      <td>2018</td>\n",
       "      <td>1</td>\n",
       "      <td>744104</td>\n",
       "      <td>272</td>\n",
       "    </tr>\n",
       "    <tr>\n",
       "      <th>...</th>\n",
       "      <td>...</td>\n",
       "      <td>...</td>\n",
       "      <td>...</td>\n",
       "      <td>...</td>\n",
       "      <td>...</td>\n",
       "    </tr>\n",
       "    <tr>\n",
       "      <th>9995</th>\n",
       "      <td>West Bengal</td>\n",
       "      <td>2024</td>\n",
       "      <td>4</td>\n",
       "      <td>733134</td>\n",
       "      <td>169596</td>\n",
       "    </tr>\n",
       "    <tr>\n",
       "      <th>9996</th>\n",
       "      <td>West Bengal</td>\n",
       "      <td>2024</td>\n",
       "      <td>4</td>\n",
       "      <td>700059</td>\n",
       "      <td>169448</td>\n",
       "    </tr>\n",
       "    <tr>\n",
       "      <th>9997</th>\n",
       "      <td>West Bengal</td>\n",
       "      <td>2024</td>\n",
       "      <td>4</td>\n",
       "      <td>711302</td>\n",
       "      <td>146034</td>\n",
       "    </tr>\n",
       "    <tr>\n",
       "      <th>9998</th>\n",
       "      <td>West Bengal</td>\n",
       "      <td>2024</td>\n",
       "      <td>4</td>\n",
       "      <td>700150</td>\n",
       "      <td>142151</td>\n",
       "    </tr>\n",
       "    <tr>\n",
       "      <th>9999</th>\n",
       "      <td>West Bengal</td>\n",
       "      <td>2024</td>\n",
       "      <td>4</td>\n",
       "      <td>711106</td>\n",
       "      <td>142077</td>\n",
       "    </tr>\n",
       "  </tbody>\n",
       "</table>\n",
       "<p>10000 rows × 5 columns</p>\n",
       "</div>"
      ],
      "text/plain": [
       "                  state  year  Quarter  Pincodes  Registered_Users\n",
       "0     Andaman & Nicobar  2018        1    744103              1608\n",
       "1     Andaman & Nicobar  2018        1    744101              1108\n",
       "2     Andaman & Nicobar  2018        1    744105              1075\n",
       "3     Andaman & Nicobar  2018        1    744102              1006\n",
       "4     Andaman & Nicobar  2018        1    744104               272\n",
       "...                 ...   ...      ...       ...               ...\n",
       "9995        West Bengal  2024        4    733134            169596\n",
       "9996        West Bengal  2024        4    700059            169448\n",
       "9997        West Bengal  2024        4    711302            146034\n",
       "9998        West Bengal  2024        4    700150            142151\n",
       "9999        West Bengal  2024        4    711106            142077\n",
       "\n",
       "[10000 rows x 5 columns]"
      ]
     },
     "execution_count": 101,
     "metadata": {},
     "output_type": "execute_result"
    }
   ],
   "source": [
    "Top_user"
   ]
  },
  {
   "cell_type": "code",
   "execution_count": null,
   "id": "bb6daed8",
   "metadata": {},
   "outputs": [],
   "source": []
  },
  {
   "cell_type": "code",
   "execution_count": 20,
   "id": "872e95ed",
   "metadata": {},
   "outputs": [
    {
     "data": {
      "application/vnd.plotly.v1+json": {
       "config": {
        "plotlyServerURL": "https://plot.ly"
       },
       "data": [
        {
         "hovertemplate": "<b>%{hovertext}</b><br><br>state=%{x}<br>Registered_Users=%{y}<br>Quarter=%{marker.color}<extra></extra>",
         "hovertext": [
          "Andaman & Nicobar",
          "Andaman & Nicobar",
          "Andaman & Nicobar",
          "Andaman & Nicobar",
          "Andhra Pradesh",
          "Andhra Pradesh",
          "Andhra Pradesh",
          "Andhra Pradesh",
          "Arunachal Pradesh",
          "Arunachal Pradesh",
          "Arunachal Pradesh",
          "Arunachal Pradesh",
          "Assam",
          "Assam",
          "Assam",
          "Assam",
          "Bihar",
          "Bihar",
          "Bihar",
          "Bihar",
          "Chandigarh",
          "Chandigarh",
          "Chandigarh",
          "Chandigarh",
          "Chhattisgarh",
          "Chhattisgarh",
          "Chhattisgarh",
          "Chhattisgarh",
          "Dadra & Nagar Haveli & Daman & Diu",
          "Dadra & Nagar Haveli & Daman & Diu",
          "Dadra & Nagar Haveli & Daman & Diu",
          "Dadra & Nagar Haveli & Daman & Diu",
          "Delhi",
          "Delhi",
          "Delhi",
          "Delhi",
          "Goa",
          "Goa",
          "Goa",
          "Goa",
          "Gujarat",
          "Gujarat",
          "Gujarat",
          "Gujarat",
          "Haryana",
          "Haryana",
          "Haryana",
          "Haryana",
          "Himachal Pradesh",
          "Himachal Pradesh",
          "Himachal Pradesh",
          "Himachal Pradesh",
          "Jammu & Kashmir",
          "Jammu & Kashmir",
          "Jammu & Kashmir",
          "Jammu & Kashmir",
          "Jharkhand",
          "Jharkhand",
          "Jharkhand",
          "Jharkhand",
          "Karnataka",
          "Karnataka",
          "Karnataka",
          "Karnataka",
          "Kerala",
          "Kerala",
          "Kerala",
          "Kerala",
          "Ladakh",
          "Ladakh",
          "Ladakh",
          "Ladakh",
          "Lakshadweep",
          "Lakshadweep",
          "Lakshadweep",
          "Lakshadweep",
          "Madhya Pradesh",
          "Madhya Pradesh",
          "Madhya Pradesh",
          "Madhya Pradesh",
          "Maharashtra",
          "Maharashtra",
          "Maharashtra",
          "Maharashtra",
          "Manipur",
          "Manipur",
          "Manipur",
          "Manipur",
          "Meghalaya",
          "Meghalaya",
          "Meghalaya",
          "Meghalaya",
          "Mizoram",
          "Mizoram",
          "Mizoram",
          "Mizoram",
          "Nagaland",
          "Nagaland",
          "Nagaland",
          "Nagaland",
          "Odisha",
          "Odisha",
          "Odisha",
          "Odisha",
          "Puducherry",
          "Puducherry",
          "Puducherry",
          "Puducherry",
          "Punjab",
          "Punjab",
          "Punjab",
          "Punjab",
          "Rajasthan",
          "Rajasthan",
          "Rajasthan",
          "Rajasthan",
          "Sikkim",
          "Sikkim",
          "Sikkim",
          "Sikkim",
          "Tamil Nadu",
          "Tamil Nadu",
          "Tamil Nadu",
          "Tamil Nadu",
          "Telangana",
          "Telangana",
          "Telangana",
          "Telangana",
          "Tripura",
          "Tripura",
          "Tripura",
          "Tripura",
          "Uttar Pradesh",
          "Uttar Pradesh",
          "Uttar Pradesh",
          "Uttar Pradesh",
          "Uttarakhand",
          "Uttarakhand",
          "Uttarakhand",
          "Uttarakhand",
          "West Bengal",
          "West Bengal",
          "West Bengal",
          "West Bengal"
         ],
         "legendgroup": "",
         "marker": {
          "color": {
           "bdata": "AQIDBAECAwQBAgMEAQIDBAECAwQBAgMEAQIDBAECAwQBAgMEAQIDBAECAwQBAgMEAQIDBAECAwQBAgMEAQIDBAECAwQBAgMEAQIDBAECAwQBAgMEAQIDBAECAwQBAgMEAQIDBAECAwQBAgMEAQIDBAECAwQBAgMEAQIDBAECAwQBAgMEAQIDBAECAwQBAgME",
           "dtype": "i1"
          },
          "coloraxis": "coloraxis",
          "pattern": {
           "shape": ""
          }
         },
         "name": "",
         "orientation": "v",
         "showlegend": false,
         "textposition": "auto",
         "type": "bar",
         "x": [
          "Andaman & Nicobar",
          "Andaman & Nicobar",
          "Andaman & Nicobar",
          "Andaman & Nicobar",
          "Andhra Pradesh",
          "Andhra Pradesh",
          "Andhra Pradesh",
          "Andhra Pradesh",
          "Arunachal Pradesh",
          "Arunachal Pradesh",
          "Arunachal Pradesh",
          "Arunachal Pradesh",
          "Assam",
          "Assam",
          "Assam",
          "Assam",
          "Bihar",
          "Bihar",
          "Bihar",
          "Bihar",
          "Chandigarh",
          "Chandigarh",
          "Chandigarh",
          "Chandigarh",
          "Chhattisgarh",
          "Chhattisgarh",
          "Chhattisgarh",
          "Chhattisgarh",
          "Dadra & Nagar Haveli & Daman & Diu",
          "Dadra & Nagar Haveli & Daman & Diu",
          "Dadra & Nagar Haveli & Daman & Diu",
          "Dadra & Nagar Haveli & Daman & Diu",
          "Delhi",
          "Delhi",
          "Delhi",
          "Delhi",
          "Goa",
          "Goa",
          "Goa",
          "Goa",
          "Gujarat",
          "Gujarat",
          "Gujarat",
          "Gujarat",
          "Haryana",
          "Haryana",
          "Haryana",
          "Haryana",
          "Himachal Pradesh",
          "Himachal Pradesh",
          "Himachal Pradesh",
          "Himachal Pradesh",
          "Jammu & Kashmir",
          "Jammu & Kashmir",
          "Jammu & Kashmir",
          "Jammu & Kashmir",
          "Jharkhand",
          "Jharkhand",
          "Jharkhand",
          "Jharkhand",
          "Karnataka",
          "Karnataka",
          "Karnataka",
          "Karnataka",
          "Kerala",
          "Kerala",
          "Kerala",
          "Kerala",
          "Ladakh",
          "Ladakh",
          "Ladakh",
          "Ladakh",
          "Lakshadweep",
          "Lakshadweep",
          "Lakshadweep",
          "Lakshadweep",
          "Madhya Pradesh",
          "Madhya Pradesh",
          "Madhya Pradesh",
          "Madhya Pradesh",
          "Maharashtra",
          "Maharashtra",
          "Maharashtra",
          "Maharashtra",
          "Manipur",
          "Manipur",
          "Manipur",
          "Manipur",
          "Meghalaya",
          "Meghalaya",
          "Meghalaya",
          "Meghalaya",
          "Mizoram",
          "Mizoram",
          "Mizoram",
          "Mizoram",
          "Nagaland",
          "Nagaland",
          "Nagaland",
          "Nagaland",
          "Odisha",
          "Odisha",
          "Odisha",
          "Odisha",
          "Puducherry",
          "Puducherry",
          "Puducherry",
          "Puducherry",
          "Punjab",
          "Punjab",
          "Punjab",
          "Punjab",
          "Rajasthan",
          "Rajasthan",
          "Rajasthan",
          "Rajasthan",
          "Sikkim",
          "Sikkim",
          "Sikkim",
          "Sikkim",
          "Tamil Nadu",
          "Tamil Nadu",
          "Tamil Nadu",
          "Tamil Nadu",
          "Telangana",
          "Telangana",
          "Telangana",
          "Telangana",
          "Tripura",
          "Tripura",
          "Tripura",
          "Tripura",
          "Uttar Pradesh",
          "Uttar Pradesh",
          "Uttar Pradesh",
          "Uttar Pradesh",
          "Uttarakhand",
          "Uttarakhand",
          "Uttarakhand",
          "Uttarakhand",
          "West Bengal",
          "West Bengal",
          "West Bengal",
          "West Bengal"
         ],
         "xaxis": "x",
         "y": {
          "bdata": "28QAAGvTAACo4wAAwPMAANR0FQBO2RYAkGkYAHL8GQDFLgIATFgCAICIAgBrtwIAhLsEAI8QBQAtcQUArNEFAAqFFQBM/xYAFqoYAAZdGgB25QQA6joFACCaBQBj+AUA4OYOABjrDwDCCxEAKywSAHTnBACiQwUAoqwFAHMWBgBbZCwASXcvAHDmMgCfYDYAybEDAHPxAwDXOAQAnYAEAJ2aGABpWBoAokscAAQ/HgD5DCIAC2ckAIkJJwA5sikAmc8FAD43BgB4rQYAJyMHAKYUAwBFTAMAoooDABTIAwAFog0AbZIOAJOiDwCdtBAAraEpAAxWLAAQUi8A21AyANVVBAB0oAQATvIEAKBDBQBr/QAA6w8BABomAQAyOwEA4REAACATAACnFAAABhYAAErGFwBQaRkARjwbAMIRHQDfJigAc+AqAILrLQDB+jAAM14CADOJAgAQugIAqeoCADR4AQC9kwEAZbMBAOPSAQBA3AAA3OwAAJH/AADLEQEA/vsBALUgAgBsSwIAhnUCABqFCwAwSgwAWSUNAAECDgD9ggMAQMADADwFBAAXSgQAcFQRAA2OEgB46RMAXUEVAHK+HQBixh8AoQsiAN9TJACE9wEAjhsCALNDAgBaawIAK1oPAM5iEAA5ihEAqbISADrIIAAZ6CIAHEclAGaoJwDRZgIA5pECAIrCAgCP8gIAM7AnAF9rKgDIfC0Ah5QwAOewDwAcyBAAdAASAA85EwDD8gsAsMAMAKelDQAqjA4A",
          "dtype": "i4"
         },
         "yaxis": "y"
        }
       ],
       "layout": {
        "barmode": "relative",
        "coloraxis": {
         "colorbar": {
          "title": {
           "text": "Quarter"
          }
         },
         "colorscale": [
          [
           0,
           "#0d0887"
          ],
          [
           0.1111111111111111,
           "#46039f"
          ],
          [
           0.2222222222222222,
           "#7201a8"
          ],
          [
           0.3333333333333333,
           "#9c179e"
          ],
          [
           0.4444444444444444,
           "#bd3786"
          ],
          [
           0.5555555555555556,
           "#d8576b"
          ],
          [
           0.6666666666666666,
           "#ed7953"
          ],
          [
           0.7777777777777778,
           "#fb9f3a"
          ],
          [
           0.8888888888888888,
           "#fdca26"
          ],
          [
           1,
           "#f0f921"
          ]
         ]
        },
        "height": 800,
        "legend": {
         "tracegroupgap": 0
        },
        "template": {
         "data": {
          "bar": [
           {
            "error_x": {
             "color": "#2a3f5f"
            },
            "error_y": {
             "color": "#2a3f5f"
            },
            "marker": {
             "line": {
              "color": "#E5ECF6",
              "width": 0.5
             },
             "pattern": {
              "fillmode": "overlay",
              "size": 10,
              "solidity": 0.2
             }
            },
            "type": "bar"
           }
          ],
          "barpolar": [
           {
            "marker": {
             "line": {
              "color": "#E5ECF6",
              "width": 0.5
             },
             "pattern": {
              "fillmode": "overlay",
              "size": 10,
              "solidity": 0.2
             }
            },
            "type": "barpolar"
           }
          ],
          "carpet": [
           {
            "aaxis": {
             "endlinecolor": "#2a3f5f",
             "gridcolor": "white",
             "linecolor": "white",
             "minorgridcolor": "white",
             "startlinecolor": "#2a3f5f"
            },
            "baxis": {
             "endlinecolor": "#2a3f5f",
             "gridcolor": "white",
             "linecolor": "white",
             "minorgridcolor": "white",
             "startlinecolor": "#2a3f5f"
            },
            "type": "carpet"
           }
          ],
          "choropleth": [
           {
            "colorbar": {
             "outlinewidth": 0,
             "ticks": ""
            },
            "type": "choropleth"
           }
          ],
          "contour": [
           {
            "colorbar": {
             "outlinewidth": 0,
             "ticks": ""
            },
            "colorscale": [
             [
              0,
              "#0d0887"
             ],
             [
              0.1111111111111111,
              "#46039f"
             ],
             [
              0.2222222222222222,
              "#7201a8"
             ],
             [
              0.3333333333333333,
              "#9c179e"
             ],
             [
              0.4444444444444444,
              "#bd3786"
             ],
             [
              0.5555555555555556,
              "#d8576b"
             ],
             [
              0.6666666666666666,
              "#ed7953"
             ],
             [
              0.7777777777777778,
              "#fb9f3a"
             ],
             [
              0.8888888888888888,
              "#fdca26"
             ],
             [
              1,
              "#f0f921"
             ]
            ],
            "type": "contour"
           }
          ],
          "contourcarpet": [
           {
            "colorbar": {
             "outlinewidth": 0,
             "ticks": ""
            },
            "type": "contourcarpet"
           }
          ],
          "heatmap": [
           {
            "colorbar": {
             "outlinewidth": 0,
             "ticks": ""
            },
            "colorscale": [
             [
              0,
              "#0d0887"
             ],
             [
              0.1111111111111111,
              "#46039f"
             ],
             [
              0.2222222222222222,
              "#7201a8"
             ],
             [
              0.3333333333333333,
              "#9c179e"
             ],
             [
              0.4444444444444444,
              "#bd3786"
             ],
             [
              0.5555555555555556,
              "#d8576b"
             ],
             [
              0.6666666666666666,
              "#ed7953"
             ],
             [
              0.7777777777777778,
              "#fb9f3a"
             ],
             [
              0.8888888888888888,
              "#fdca26"
             ],
             [
              1,
              "#f0f921"
             ]
            ],
            "type": "heatmap"
           }
          ],
          "histogram": [
           {
            "marker": {
             "pattern": {
              "fillmode": "overlay",
              "size": 10,
              "solidity": 0.2
             }
            },
            "type": "histogram"
           }
          ],
          "histogram2d": [
           {
            "colorbar": {
             "outlinewidth": 0,
             "ticks": ""
            },
            "colorscale": [
             [
              0,
              "#0d0887"
             ],
             [
              0.1111111111111111,
              "#46039f"
             ],
             [
              0.2222222222222222,
              "#7201a8"
             ],
             [
              0.3333333333333333,
              "#9c179e"
             ],
             [
              0.4444444444444444,
              "#bd3786"
             ],
             [
              0.5555555555555556,
              "#d8576b"
             ],
             [
              0.6666666666666666,
              "#ed7953"
             ],
             [
              0.7777777777777778,
              "#fb9f3a"
             ],
             [
              0.8888888888888888,
              "#fdca26"
             ],
             [
              1,
              "#f0f921"
             ]
            ],
            "type": "histogram2d"
           }
          ],
          "histogram2dcontour": [
           {
            "colorbar": {
             "outlinewidth": 0,
             "ticks": ""
            },
            "colorscale": [
             [
              0,
              "#0d0887"
             ],
             [
              0.1111111111111111,
              "#46039f"
             ],
             [
              0.2222222222222222,
              "#7201a8"
             ],
             [
              0.3333333333333333,
              "#9c179e"
             ],
             [
              0.4444444444444444,
              "#bd3786"
             ],
             [
              0.5555555555555556,
              "#d8576b"
             ],
             [
              0.6666666666666666,
              "#ed7953"
             ],
             [
              0.7777777777777778,
              "#fb9f3a"
             ],
             [
              0.8888888888888888,
              "#fdca26"
             ],
             [
              1,
              "#f0f921"
             ]
            ],
            "type": "histogram2dcontour"
           }
          ],
          "mesh3d": [
           {
            "colorbar": {
             "outlinewidth": 0,
             "ticks": ""
            },
            "type": "mesh3d"
           }
          ],
          "parcoords": [
           {
            "line": {
             "colorbar": {
              "outlinewidth": 0,
              "ticks": ""
             }
            },
            "type": "parcoords"
           }
          ],
          "pie": [
           {
            "automargin": true,
            "type": "pie"
           }
          ],
          "scatter": [
           {
            "fillpattern": {
             "fillmode": "overlay",
             "size": 10,
             "solidity": 0.2
            },
            "type": "scatter"
           }
          ],
          "scatter3d": [
           {
            "line": {
             "colorbar": {
              "outlinewidth": 0,
              "ticks": ""
             }
            },
            "marker": {
             "colorbar": {
              "outlinewidth": 0,
              "ticks": ""
             }
            },
            "type": "scatter3d"
           }
          ],
          "scattercarpet": [
           {
            "marker": {
             "colorbar": {
              "outlinewidth": 0,
              "ticks": ""
             }
            },
            "type": "scattercarpet"
           }
          ],
          "scattergeo": [
           {
            "marker": {
             "colorbar": {
              "outlinewidth": 0,
              "ticks": ""
             }
            },
            "type": "scattergeo"
           }
          ],
          "scattergl": [
           {
            "marker": {
             "colorbar": {
              "outlinewidth": 0,
              "ticks": ""
             }
            },
            "type": "scattergl"
           }
          ],
          "scattermap": [
           {
            "marker": {
             "colorbar": {
              "outlinewidth": 0,
              "ticks": ""
             }
            },
            "type": "scattermap"
           }
          ],
          "scattermapbox": [
           {
            "marker": {
             "colorbar": {
              "outlinewidth": 0,
              "ticks": ""
             }
            },
            "type": "scattermapbox"
           }
          ],
          "scatterpolar": [
           {
            "marker": {
             "colorbar": {
              "outlinewidth": 0,
              "ticks": ""
             }
            },
            "type": "scatterpolar"
           }
          ],
          "scatterpolargl": [
           {
            "marker": {
             "colorbar": {
              "outlinewidth": 0,
              "ticks": ""
             }
            },
            "type": "scatterpolargl"
           }
          ],
          "scatterternary": [
           {
            "marker": {
             "colorbar": {
              "outlinewidth": 0,
              "ticks": ""
             }
            },
            "type": "scatterternary"
           }
          ],
          "surface": [
           {
            "colorbar": {
             "outlinewidth": 0,
             "ticks": ""
            },
            "colorscale": [
             [
              0,
              "#0d0887"
             ],
             [
              0.1111111111111111,
              "#46039f"
             ],
             [
              0.2222222222222222,
              "#7201a8"
             ],
             [
              0.3333333333333333,
              "#9c179e"
             ],
             [
              0.4444444444444444,
              "#bd3786"
             ],
             [
              0.5555555555555556,
              "#d8576b"
             ],
             [
              0.6666666666666666,
              "#ed7953"
             ],
             [
              0.7777777777777778,
              "#fb9f3a"
             ],
             [
              0.8888888888888888,
              "#fdca26"
             ],
             [
              1,
              "#f0f921"
             ]
            ],
            "type": "surface"
           }
          ],
          "table": [
           {
            "cells": {
             "fill": {
              "color": "#EBF0F8"
             },
             "line": {
              "color": "white"
             }
            },
            "header": {
             "fill": {
              "color": "#C8D4E3"
             },
             "line": {
              "color": "white"
             }
            },
            "type": "table"
           }
          ]
         },
         "layout": {
          "annotationdefaults": {
           "arrowcolor": "#2a3f5f",
           "arrowhead": 0,
           "arrowwidth": 1
          },
          "autotypenumbers": "strict",
          "coloraxis": {
           "colorbar": {
            "outlinewidth": 0,
            "ticks": ""
           }
          },
          "colorscale": {
           "diverging": [
            [
             0,
             "#8e0152"
            ],
            [
             0.1,
             "#c51b7d"
            ],
            [
             0.2,
             "#de77ae"
            ],
            [
             0.3,
             "#f1b6da"
            ],
            [
             0.4,
             "#fde0ef"
            ],
            [
             0.5,
             "#f7f7f7"
            ],
            [
             0.6,
             "#e6f5d0"
            ],
            [
             0.7,
             "#b8e186"
            ],
            [
             0.8,
             "#7fbc41"
            ],
            [
             0.9,
             "#4d9221"
            ],
            [
             1,
             "#276419"
            ]
           ],
           "sequential": [
            [
             0,
             "#0d0887"
            ],
            [
             0.1111111111111111,
             "#46039f"
            ],
            [
             0.2222222222222222,
             "#7201a8"
            ],
            [
             0.3333333333333333,
             "#9c179e"
            ],
            [
             0.4444444444444444,
             "#bd3786"
            ],
            [
             0.5555555555555556,
             "#d8576b"
            ],
            [
             0.6666666666666666,
             "#ed7953"
            ],
            [
             0.7777777777777778,
             "#fb9f3a"
            ],
            [
             0.8888888888888888,
             "#fdca26"
            ],
            [
             1,
             "#f0f921"
            ]
           ],
           "sequentialminus": [
            [
             0,
             "#0d0887"
            ],
            [
             0.1111111111111111,
             "#46039f"
            ],
            [
             0.2222222222222222,
             "#7201a8"
            ],
            [
             0.3333333333333333,
             "#9c179e"
            ],
            [
             0.4444444444444444,
             "#bd3786"
            ],
            [
             0.5555555555555556,
             "#d8576b"
            ],
            [
             0.6666666666666666,
             "#ed7953"
            ],
            [
             0.7777777777777778,
             "#fb9f3a"
            ],
            [
             0.8888888888888888,
             "#fdca26"
            ],
            [
             1,
             "#f0f921"
            ]
           ]
          },
          "colorway": [
           "#636efa",
           "#EF553B",
           "#00cc96",
           "#ab63fa",
           "#FFA15A",
           "#19d3f3",
           "#FF6692",
           "#B6E880",
           "#FF97FF",
           "#FECB52"
          ],
          "font": {
           "color": "#2a3f5f"
          },
          "geo": {
           "bgcolor": "white",
           "lakecolor": "white",
           "landcolor": "#E5ECF6",
           "showlakes": true,
           "showland": true,
           "subunitcolor": "white"
          },
          "hoverlabel": {
           "align": "left"
          },
          "hovermode": "closest",
          "mapbox": {
           "style": "light"
          },
          "paper_bgcolor": "white",
          "plot_bgcolor": "#E5ECF6",
          "polar": {
           "angularaxis": {
            "gridcolor": "white",
            "linecolor": "white",
            "ticks": ""
           },
           "bgcolor": "#E5ECF6",
           "radialaxis": {
            "gridcolor": "white",
            "linecolor": "white",
            "ticks": ""
           }
          },
          "scene": {
           "xaxis": {
            "backgroundcolor": "#E5ECF6",
            "gridcolor": "white",
            "gridwidth": 2,
            "linecolor": "white",
            "showbackground": true,
            "ticks": "",
            "zerolinecolor": "white"
           },
           "yaxis": {
            "backgroundcolor": "#E5ECF6",
            "gridcolor": "white",
            "gridwidth": 2,
            "linecolor": "white",
            "showbackground": true,
            "ticks": "",
            "zerolinecolor": "white"
           },
           "zaxis": {
            "backgroundcolor": "#E5ECF6",
            "gridcolor": "white",
            "gridwidth": 2,
            "linecolor": "white",
            "showbackground": true,
            "ticks": "",
            "zerolinecolor": "white"
           }
          },
          "shapedefaults": {
           "line": {
            "color": "#2a3f5f"
           }
          },
          "ternary": {
           "aaxis": {
            "gridcolor": "white",
            "linecolor": "white",
            "ticks": ""
           },
           "baxis": {
            "gridcolor": "white",
            "linecolor": "white",
            "ticks": ""
           },
           "bgcolor": "#E5ECF6",
           "caxis": {
            "gridcolor": "white",
            "linecolor": "white",
            "ticks": ""
           }
          },
          "title": {
           "x": 0.05
          },
          "xaxis": {
           "automargin": true,
           "gridcolor": "white",
           "linecolor": "white",
           "ticks": "",
           "title": {
            "standoff": 15
           },
           "zerolinecolor": "white",
           "zerolinewidth": 2
          },
          "yaxis": {
           "automargin": true,
           "gridcolor": "white",
           "linecolor": "white",
           "ticks": "",
           "title": {
            "standoff": 15
           },
           "zerolinecolor": "white",
           "zerolinewidth": 2
          }
         }
        },
        "title": {
         "text": "2021 REGISTERED USER AND QUARTER"
        },
        "width": 1000,
        "xaxis": {
         "anchor": "y",
         "domain": [
          0,
          1
         ],
         "title": {
          "text": "state"
         }
        },
        "yaxis": {
         "anchor": "x",
         "domain": [
          0,
          1
         ],
         "title": {
          "text": "Registered_Users"
         }
        }
       }
      }
     },
     "metadata": {},
     "output_type": "display_data"
    }
   ],
   "source": [
    "Top_user_Y=Top_user_plot_1(Top_user, 2021)"
   ]
  },
  {
   "cell_type": "code",
   "execution_count": 23,
   "id": "5dfe934f",
   "metadata": {},
   "outputs": [
    {
     "data": {
      "text/html": [
       "<div>\n",
       "<style scoped>\n",
       "    .dataframe tbody tr th:only-of-type {\n",
       "        vertical-align: middle;\n",
       "    }\n",
       "\n",
       "    .dataframe tbody tr th {\n",
       "        vertical-align: top;\n",
       "    }\n",
       "\n",
       "    .dataframe thead th {\n",
       "        text-align: right;\n",
       "    }\n",
       "</style>\n",
       "<table border=\"1\" class=\"dataframe\">\n",
       "  <thead>\n",
       "    <tr style=\"text-align: right;\">\n",
       "      <th></th>\n",
       "      <th>state</th>\n",
       "      <th>year</th>\n",
       "      <th>Quarter</th>\n",
       "      <th>Pincodes</th>\n",
       "      <th>Registered_Users</th>\n",
       "    </tr>\n",
       "  </thead>\n",
       "  <tbody>\n",
       "    <tr>\n",
       "      <th>0</th>\n",
       "      <td>Andaman &amp; Nicobar</td>\n",
       "      <td>2021</td>\n",
       "      <td>1</td>\n",
       "      <td>744103</td>\n",
       "      <td>11416</td>\n",
       "    </tr>\n",
       "    <tr>\n",
       "      <th>1</th>\n",
       "      <td>Andaman &amp; Nicobar</td>\n",
       "      <td>2021</td>\n",
       "      <td>1</td>\n",
       "      <td>744105</td>\n",
       "      <td>9934</td>\n",
       "    </tr>\n",
       "    <tr>\n",
       "      <th>2</th>\n",
       "      <td>Andaman &amp; Nicobar</td>\n",
       "      <td>2021</td>\n",
       "      <td>1</td>\n",
       "      <td>744101</td>\n",
       "      <td>9457</td>\n",
       "    </tr>\n",
       "    <tr>\n",
       "      <th>3</th>\n",
       "      <td>Andaman &amp; Nicobar</td>\n",
       "      <td>2021</td>\n",
       "      <td>1</td>\n",
       "      <td>744102</td>\n",
       "      <td>6395</td>\n",
       "    </tr>\n",
       "    <tr>\n",
       "      <th>4</th>\n",
       "      <td>Andaman &amp; Nicobar</td>\n",
       "      <td>2021</td>\n",
       "      <td>1</td>\n",
       "      <td>744202</td>\n",
       "      <td>3005</td>\n",
       "    </tr>\n",
       "    <tr>\n",
       "      <th>...</th>\n",
       "      <td>...</td>\n",
       "      <td>...</td>\n",
       "      <td>...</td>\n",
       "      <td>...</td>\n",
       "      <td>...</td>\n",
       "    </tr>\n",
       "    <tr>\n",
       "      <th>1423</th>\n",
       "      <td>West Bengal</td>\n",
       "      <td>2021</td>\n",
       "      <td>4</td>\n",
       "      <td>700015</td>\n",
       "      <td>88070</td>\n",
       "    </tr>\n",
       "    <tr>\n",
       "      <th>1424</th>\n",
       "      <td>West Bengal</td>\n",
       "      <td>2021</td>\n",
       "      <td>4</td>\n",
       "      <td>742304</td>\n",
       "      <td>86045</td>\n",
       "    </tr>\n",
       "    <tr>\n",
       "      <th>1425</th>\n",
       "      <td>West Bengal</td>\n",
       "      <td>2021</td>\n",
       "      <td>4</td>\n",
       "      <td>721101</td>\n",
       "      <td>85333</td>\n",
       "    </tr>\n",
       "    <tr>\n",
       "      <th>1426</th>\n",
       "      <td>West Bengal</td>\n",
       "      <td>2021</td>\n",
       "      <td>4</td>\n",
       "      <td>700091</td>\n",
       "      <td>83634</td>\n",
       "    </tr>\n",
       "    <tr>\n",
       "      <th>1427</th>\n",
       "      <td>West Bengal</td>\n",
       "      <td>2021</td>\n",
       "      <td>4</td>\n",
       "      <td>700150</td>\n",
       "      <td>82669</td>\n",
       "    </tr>\n",
       "  </tbody>\n",
       "</table>\n",
       "<p>1428 rows × 5 columns</p>\n",
       "</div>"
      ],
      "text/plain": [
       "                  state  year  Quarter  Pincodes  Registered_Users\n",
       "0     Andaman & Nicobar  2021        1    744103             11416\n",
       "1     Andaman & Nicobar  2021        1    744105              9934\n",
       "2     Andaman & Nicobar  2021        1    744101              9457\n",
       "3     Andaman & Nicobar  2021        1    744102              6395\n",
       "4     Andaman & Nicobar  2021        1    744202              3005\n",
       "...                 ...   ...      ...       ...               ...\n",
       "1423        West Bengal  2021        4    700015             88070\n",
       "1424        West Bengal  2021        4    742304             86045\n",
       "1425        West Bengal  2021        4    721101             85333\n",
       "1426        West Bengal  2021        4    700091             83634\n",
       "1427        West Bengal  2021        4    700150             82669\n",
       "\n",
       "[1428 rows x 5 columns]"
      ]
     },
     "execution_count": 23,
     "metadata": {},
     "output_type": "execute_result"
    }
   ],
   "source": [
    "Top_user_Y"
   ]
  },
  {
   "cell_type": "code",
   "execution_count": 23,
   "id": "5f0113be",
   "metadata": {},
   "outputs": [
    {
     "data": {
      "application/vnd.plotly.v1+json": {
       "config": {
        "plotlyServerURL": "https://plot.ly"
       },
       "data": [
        {
         "customdata": {
          "bdata": "vdkKAGauCgDnrgoA/K4KAIeuCgBvrgoAoFMLAM0ACwC7rgoA9q4KAL3ZCgBmrgoA564KAPyuCgCHrgoAb64KAKBTCwDNAAsAu64KAPauCgC92QoAZq4KAOeuCgD8rgoAh64KAG+uCgCgUwsAzQALALuuCgD2rgoAvdkKAGauCgDnrgoA/K4KAIeuCgBvrgoAoFMLAM0ACwC7rgoA9q4KAA==",
          "dtype": "i4",
          "shape": "40, 1"
         },
         "hovertemplate": "Quarter=%{x}<br>Registered_Users=%{marker.color}<br>Pincodes=%{customdata[0]}<extra></extra>",
         "legendgroup": "",
         "marker": {
          "color": {
           "bdata": "UacBAEtqAQBkQgEANi0BAM4bAQDtGgEAMhIBABESAQAWDgEAeQgBANvDAQBmggEAplgBANpAAQDoLgEA9S0BAKclAQBCJAEAjh8BAJsaAQBU4wEASJ0BAFlxAQDCVgEANUQBAOJCAQA6OwEA2DgBAAozAQC9LgEA0wMCACm4AQA2igEA/2wBAOJZAQAGWAEAHVABAFVNAQCyRgEA7UIBAA==",
           "dtype": "i4"
          },
          "coloraxis": "coloraxis",
          "pattern": {
           "shape": ""
          }
         },
         "name": "",
         "orientation": "v",
         "showlegend": false,
         "textposition": "auto",
         "type": "bar",
         "x": {
          "bdata": "AQEBAQEBAQEBAQICAgICAgICAgIDAwMDAwMDAwMDBAQEBAQEBAQEBA==",
          "dtype": "i1"
         },
         "xaxis": "x",
         "y": {
          "bdata": "UacBAEtqAQBkQgEANi0BAM4bAQDtGgEAMhIBABESAQAWDgEAeQgBANvDAQBmggEAplgBANpAAQDoLgEA9S0BAKclAQBCJAEAjh8BAJsaAQBU4wEASJ0BAFlxAQDCVgEANUQBAOJCAQA6OwEA2DgBAAozAQC9LgEA0wMCACm4AQA2igEA/2wBAOJZAQAGWAEAHVABAFVNAQCyRgEA7UIBAA==",
          "dtype": "i4"
         },
         "yaxis": "y"
        }
       ],
       "layout": {
        "barmode": "relative",
        "coloraxis": {
         "colorbar": {
          "title": {
           "text": "Registered_Users"
          }
         },
         "colorscale": [
          [
           0,
           "rgb(243, 203, 211)"
          ],
          [
           0.16666666666666666,
           "rgb(234, 169, 189)"
          ],
          [
           0.3333333333333333,
           "rgb(221, 136, 172)"
          ],
          [
           0.5,
           "rgb(202, 105, 157)"
          ],
          [
           0.6666666666666666,
           "rgb(177, 77, 142)"
          ],
          [
           0.8333333333333334,
           "rgb(145, 53, 125)"
          ],
          [
           1,
           "rgb(108, 33, 103)"
          ]
         ]
        },
        "height": 800,
        "legend": {
         "tracegroupgap": 0
        },
        "template": {
         "data": {
          "bar": [
           {
            "error_x": {
             "color": "#2a3f5f"
            },
            "error_y": {
             "color": "#2a3f5f"
            },
            "marker": {
             "line": {
              "color": "#E5ECF6",
              "width": 0.5
             },
             "pattern": {
              "fillmode": "overlay",
              "size": 10,
              "solidity": 0.2
             }
            },
            "type": "bar"
           }
          ],
          "barpolar": [
           {
            "marker": {
             "line": {
              "color": "#E5ECF6",
              "width": 0.5
             },
             "pattern": {
              "fillmode": "overlay",
              "size": 10,
              "solidity": 0.2
             }
            },
            "type": "barpolar"
           }
          ],
          "carpet": [
           {
            "aaxis": {
             "endlinecolor": "#2a3f5f",
             "gridcolor": "white",
             "linecolor": "white",
             "minorgridcolor": "white",
             "startlinecolor": "#2a3f5f"
            },
            "baxis": {
             "endlinecolor": "#2a3f5f",
             "gridcolor": "white",
             "linecolor": "white",
             "minorgridcolor": "white",
             "startlinecolor": "#2a3f5f"
            },
            "type": "carpet"
           }
          ],
          "choropleth": [
           {
            "colorbar": {
             "outlinewidth": 0,
             "ticks": ""
            },
            "type": "choropleth"
           }
          ],
          "contour": [
           {
            "colorbar": {
             "outlinewidth": 0,
             "ticks": ""
            },
            "colorscale": [
             [
              0,
              "#0d0887"
             ],
             [
              0.1111111111111111,
              "#46039f"
             ],
             [
              0.2222222222222222,
              "#7201a8"
             ],
             [
              0.3333333333333333,
              "#9c179e"
             ],
             [
              0.4444444444444444,
              "#bd3786"
             ],
             [
              0.5555555555555556,
              "#d8576b"
             ],
             [
              0.6666666666666666,
              "#ed7953"
             ],
             [
              0.7777777777777778,
              "#fb9f3a"
             ],
             [
              0.8888888888888888,
              "#fdca26"
             ],
             [
              1,
              "#f0f921"
             ]
            ],
            "type": "contour"
           }
          ],
          "contourcarpet": [
           {
            "colorbar": {
             "outlinewidth": 0,
             "ticks": ""
            },
            "type": "contourcarpet"
           }
          ],
          "heatmap": [
           {
            "colorbar": {
             "outlinewidth": 0,
             "ticks": ""
            },
            "colorscale": [
             [
              0,
              "#0d0887"
             ],
             [
              0.1111111111111111,
              "#46039f"
             ],
             [
              0.2222222222222222,
              "#7201a8"
             ],
             [
              0.3333333333333333,
              "#9c179e"
             ],
             [
              0.4444444444444444,
              "#bd3786"
             ],
             [
              0.5555555555555556,
              "#d8576b"
             ],
             [
              0.6666666666666666,
              "#ed7953"
             ],
             [
              0.7777777777777778,
              "#fb9f3a"
             ],
             [
              0.8888888888888888,
              "#fdca26"
             ],
             [
              1,
              "#f0f921"
             ]
            ],
            "type": "heatmap"
           }
          ],
          "histogram": [
           {
            "marker": {
             "pattern": {
              "fillmode": "overlay",
              "size": 10,
              "solidity": 0.2
             }
            },
            "type": "histogram"
           }
          ],
          "histogram2d": [
           {
            "colorbar": {
             "outlinewidth": 0,
             "ticks": ""
            },
            "colorscale": [
             [
              0,
              "#0d0887"
             ],
             [
              0.1111111111111111,
              "#46039f"
             ],
             [
              0.2222222222222222,
              "#7201a8"
             ],
             [
              0.3333333333333333,
              "#9c179e"
             ],
             [
              0.4444444444444444,
              "#bd3786"
             ],
             [
              0.5555555555555556,
              "#d8576b"
             ],
             [
              0.6666666666666666,
              "#ed7953"
             ],
             [
              0.7777777777777778,
              "#fb9f3a"
             ],
             [
              0.8888888888888888,
              "#fdca26"
             ],
             [
              1,
              "#f0f921"
             ]
            ],
            "type": "histogram2d"
           }
          ],
          "histogram2dcontour": [
           {
            "colorbar": {
             "outlinewidth": 0,
             "ticks": ""
            },
            "colorscale": [
             [
              0,
              "#0d0887"
             ],
             [
              0.1111111111111111,
              "#46039f"
             ],
             [
              0.2222222222222222,
              "#7201a8"
             ],
             [
              0.3333333333333333,
              "#9c179e"
             ],
             [
              0.4444444444444444,
              "#bd3786"
             ],
             [
              0.5555555555555556,
              "#d8576b"
             ],
             [
              0.6666666666666666,
              "#ed7953"
             ],
             [
              0.7777777777777778,
              "#fb9f3a"
             ],
             [
              0.8888888888888888,
              "#fdca26"
             ],
             [
              1,
              "#f0f921"
             ]
            ],
            "type": "histogram2dcontour"
           }
          ],
          "mesh3d": [
           {
            "colorbar": {
             "outlinewidth": 0,
             "ticks": ""
            },
            "type": "mesh3d"
           }
          ],
          "parcoords": [
           {
            "line": {
             "colorbar": {
              "outlinewidth": 0,
              "ticks": ""
             }
            },
            "type": "parcoords"
           }
          ],
          "pie": [
           {
            "automargin": true,
            "type": "pie"
           }
          ],
          "scatter": [
           {
            "fillpattern": {
             "fillmode": "overlay",
             "size": 10,
             "solidity": 0.2
            },
            "type": "scatter"
           }
          ],
          "scatter3d": [
           {
            "line": {
             "colorbar": {
              "outlinewidth": 0,
              "ticks": ""
             }
            },
            "marker": {
             "colorbar": {
              "outlinewidth": 0,
              "ticks": ""
             }
            },
            "type": "scatter3d"
           }
          ],
          "scattercarpet": [
           {
            "marker": {
             "colorbar": {
              "outlinewidth": 0,
              "ticks": ""
             }
            },
            "type": "scattercarpet"
           }
          ],
          "scattergeo": [
           {
            "marker": {
             "colorbar": {
              "outlinewidth": 0,
              "ticks": ""
             }
            },
            "type": "scattergeo"
           }
          ],
          "scattergl": [
           {
            "marker": {
             "colorbar": {
              "outlinewidth": 0,
              "ticks": ""
             }
            },
            "type": "scattergl"
           }
          ],
          "scattermap": [
           {
            "marker": {
             "colorbar": {
              "outlinewidth": 0,
              "ticks": ""
             }
            },
            "type": "scattermap"
           }
          ],
          "scattermapbox": [
           {
            "marker": {
             "colorbar": {
              "outlinewidth": 0,
              "ticks": ""
             }
            },
            "type": "scattermapbox"
           }
          ],
          "scatterpolar": [
           {
            "marker": {
             "colorbar": {
              "outlinewidth": 0,
              "ticks": ""
             }
            },
            "type": "scatterpolar"
           }
          ],
          "scatterpolargl": [
           {
            "marker": {
             "colorbar": {
              "outlinewidth": 0,
              "ticks": ""
             }
            },
            "type": "scatterpolargl"
           }
          ],
          "scatterternary": [
           {
            "marker": {
             "colorbar": {
              "outlinewidth": 0,
              "ticks": ""
             }
            },
            "type": "scatterternary"
           }
          ],
          "surface": [
           {
            "colorbar": {
             "outlinewidth": 0,
             "ticks": ""
            },
            "colorscale": [
             [
              0,
              "#0d0887"
             ],
             [
              0.1111111111111111,
              "#46039f"
             ],
             [
              0.2222222222222222,
              "#7201a8"
             ],
             [
              0.3333333333333333,
              "#9c179e"
             ],
             [
              0.4444444444444444,
              "#bd3786"
             ],
             [
              0.5555555555555556,
              "#d8576b"
             ],
             [
              0.6666666666666666,
              "#ed7953"
             ],
             [
              0.7777777777777778,
              "#fb9f3a"
             ],
             [
              0.8888888888888888,
              "#fdca26"
             ],
             [
              1,
              "#f0f921"
             ]
            ],
            "type": "surface"
           }
          ],
          "table": [
           {
            "cells": {
             "fill": {
              "color": "#EBF0F8"
             },
             "line": {
              "color": "white"
             }
            },
            "header": {
             "fill": {
              "color": "#C8D4E3"
             },
             "line": {
              "color": "white"
             }
            },
            "type": "table"
           }
          ]
         },
         "layout": {
          "annotationdefaults": {
           "arrowcolor": "#2a3f5f",
           "arrowhead": 0,
           "arrowwidth": 1
          },
          "autotypenumbers": "strict",
          "coloraxis": {
           "colorbar": {
            "outlinewidth": 0,
            "ticks": ""
           }
          },
          "colorscale": {
           "diverging": [
            [
             0,
             "#8e0152"
            ],
            [
             0.1,
             "#c51b7d"
            ],
            [
             0.2,
             "#de77ae"
            ],
            [
             0.3,
             "#f1b6da"
            ],
            [
             0.4,
             "#fde0ef"
            ],
            [
             0.5,
             "#f7f7f7"
            ],
            [
             0.6,
             "#e6f5d0"
            ],
            [
             0.7,
             "#b8e186"
            ],
            [
             0.8,
             "#7fbc41"
            ],
            [
             0.9,
             "#4d9221"
            ],
            [
             1,
             "#276419"
            ]
           ],
           "sequential": [
            [
             0,
             "#0d0887"
            ],
            [
             0.1111111111111111,
             "#46039f"
            ],
            [
             0.2222222222222222,
             "#7201a8"
            ],
            [
             0.3333333333333333,
             "#9c179e"
            ],
            [
             0.4444444444444444,
             "#bd3786"
            ],
            [
             0.5555555555555556,
             "#d8576b"
            ],
            [
             0.6666666666666666,
             "#ed7953"
            ],
            [
             0.7777777777777778,
             "#fb9f3a"
            ],
            [
             0.8888888888888888,
             "#fdca26"
            ],
            [
             1,
             "#f0f921"
            ]
           ],
           "sequentialminus": [
            [
             0,
             "#0d0887"
            ],
            [
             0.1111111111111111,
             "#46039f"
            ],
            [
             0.2222222222222222,
             "#7201a8"
            ],
            [
             0.3333333333333333,
             "#9c179e"
            ],
            [
             0.4444444444444444,
             "#bd3786"
            ],
            [
             0.5555555555555556,
             "#d8576b"
            ],
            [
             0.6666666666666666,
             "#ed7953"
            ],
            [
             0.7777777777777778,
             "#fb9f3a"
            ],
            [
             0.8888888888888888,
             "#fdca26"
            ],
            [
             1,
             "#f0f921"
            ]
           ]
          },
          "colorway": [
           "#636efa",
           "#EF553B",
           "#00cc96",
           "#ab63fa",
           "#FFA15A",
           "#19d3f3",
           "#FF6692",
           "#B6E880",
           "#FF97FF",
           "#FECB52"
          ],
          "font": {
           "color": "#2a3f5f"
          },
          "geo": {
           "bgcolor": "white",
           "lakecolor": "white",
           "landcolor": "#E5ECF6",
           "showlakes": true,
           "showland": true,
           "subunitcolor": "white"
          },
          "hoverlabel": {
           "align": "left"
          },
          "hovermode": "closest",
          "mapbox": {
           "style": "light"
          },
          "paper_bgcolor": "white",
          "plot_bgcolor": "#E5ECF6",
          "polar": {
           "angularaxis": {
            "gridcolor": "white",
            "linecolor": "white",
            "ticks": ""
           },
           "bgcolor": "#E5ECF6",
           "radialaxis": {
            "gridcolor": "white",
            "linecolor": "white",
            "ticks": ""
           }
          },
          "scene": {
           "xaxis": {
            "backgroundcolor": "#E5ECF6",
            "gridcolor": "white",
            "gridwidth": 2,
            "linecolor": "white",
            "showbackground": true,
            "ticks": "",
            "zerolinecolor": "white"
           },
           "yaxis": {
            "backgroundcolor": "#E5ECF6",
            "gridcolor": "white",
            "gridwidth": 2,
            "linecolor": "white",
            "showbackground": true,
            "ticks": "",
            "zerolinecolor": "white"
           },
           "zaxis": {
            "backgroundcolor": "#E5ECF6",
            "gridcolor": "white",
            "gridwidth": 2,
            "linecolor": "white",
            "showbackground": true,
            "ticks": "",
            "zerolinecolor": "white"
           }
          },
          "shapedefaults": {
           "line": {
            "color": "#2a3f5f"
           }
          },
          "ternary": {
           "aaxis": {
            "gridcolor": "white",
            "linecolor": "white",
            "ticks": ""
           },
           "baxis": {
            "gridcolor": "white",
            "linecolor": "white",
            "ticks": ""
           },
           "bgcolor": "#E5ECF6",
           "caxis": {
            "gridcolor": "white",
            "linecolor": "white",
            "ticks": ""
           }
          },
          "title": {
           "x": 0.05
          },
          "xaxis": {
           "automargin": true,
           "gridcolor": "white",
           "linecolor": "white",
           "ticks": "",
           "title": {
            "standoff": 15
           },
           "zerolinecolor": "white",
           "zerolinewidth": 2
          },
          "yaxis": {
           "automargin": true,
           "gridcolor": "white",
           "linecolor": "white",
           "ticks": "",
           "title": {
            "standoff": 15
           },
           "zerolinecolor": "white",
           "zerolinewidth": 2
          }
         }
        },
        "title": {
         "text": "WEST BENGAL PINCODES AND REGISTERED USER"
        },
        "width": 1000,
        "xaxis": {
         "anchor": "y",
         "domain": [
          0,
          1
         ],
         "title": {
          "text": "Quarter"
         }
        },
        "yaxis": {
         "anchor": "x",
         "domain": [
          0,
          1
         ],
         "title": {
          "text": "Registered_Users"
         }
        }
       }
      }
     },
     "metadata": {},
     "output_type": "display_data"
    }
   ],
   "source": [
    "Top_user_plot_2(Top_user_Y, \"West Bengal\")"
   ]
  },
  {
   "cell_type": "code",
   "execution_count": 46,
   "id": "9fb626ce",
   "metadata": {},
   "outputs": [
    {
     "data": {
      "text/html": [
       "<div>\n",
       "<style scoped>\n",
       "    .dataframe tbody tr th:only-of-type {\n",
       "        vertical-align: middle;\n",
       "    }\n",
       "\n",
       "    .dataframe tbody tr th {\n",
       "        vertical-align: top;\n",
       "    }\n",
       "\n",
       "    .dataframe thead th {\n",
       "        text-align: right;\n",
       "    }\n",
       "</style>\n",
       "<table border=\"1\" class=\"dataframe\">\n",
       "  <thead>\n",
       "    <tr style=\"text-align: right;\">\n",
       "      <th></th>\n",
       "      <th>state</th>\n",
       "      <th>year</th>\n",
       "      <th>Quarter</th>\n",
       "      <th>Districts</th>\n",
       "      <th>Registered_Users</th>\n",
       "      <th>App_Opens</th>\n",
       "    </tr>\n",
       "  </thead>\n",
       "  <tbody>\n",
       "    <tr>\n",
       "      <th>0</th>\n",
       "      <td>Andaman &amp; Nicobar</td>\n",
       "      <td>2018</td>\n",
       "      <td>1</td>\n",
       "      <td>north and middle andaman district</td>\n",
       "      <td>632</td>\n",
       "      <td>0</td>\n",
       "    </tr>\n",
       "    <tr>\n",
       "      <th>1</th>\n",
       "      <td>Andaman &amp; Nicobar</td>\n",
       "      <td>2018</td>\n",
       "      <td>1</td>\n",
       "      <td>south andaman district</td>\n",
       "      <td>5846</td>\n",
       "      <td>0</td>\n",
       "    </tr>\n",
       "    <tr>\n",
       "      <th>2</th>\n",
       "      <td>Andaman &amp; Nicobar</td>\n",
       "      <td>2018</td>\n",
       "      <td>1</td>\n",
       "      <td>nicobars district</td>\n",
       "      <td>262</td>\n",
       "      <td>0</td>\n",
       "    </tr>\n",
       "    <tr>\n",
       "      <th>3</th>\n",
       "      <td>Andaman &amp; Nicobar</td>\n",
       "      <td>2018</td>\n",
       "      <td>2</td>\n",
       "      <td>north and middle andaman district</td>\n",
       "      <td>911</td>\n",
       "      <td>0</td>\n",
       "    </tr>\n",
       "    <tr>\n",
       "      <th>4</th>\n",
       "      <td>Andaman &amp; Nicobar</td>\n",
       "      <td>2018</td>\n",
       "      <td>2</td>\n",
       "      <td>south andaman district</td>\n",
       "      <td>8143</td>\n",
       "      <td>0</td>\n",
       "    </tr>\n",
       "    <tr>\n",
       "      <th>...</th>\n",
       "      <td>...</td>\n",
       "      <td>...</td>\n",
       "      <td>...</td>\n",
       "      <td>...</td>\n",
       "      <td>...</td>\n",
       "      <td>...</td>\n",
       "    </tr>\n",
       "    <tr>\n",
       "      <th>20603</th>\n",
       "      <td>West Bengal</td>\n",
       "      <td>2024</td>\n",
       "      <td>4</td>\n",
       "      <td>alipurduar district</td>\n",
       "      <td>475688</td>\n",
       "      <td>31842355</td>\n",
       "    </tr>\n",
       "    <tr>\n",
       "      <th>20604</th>\n",
       "      <td>West Bengal</td>\n",
       "      <td>2024</td>\n",
       "      <td>4</td>\n",
       "      <td>paschim bardhaman district</td>\n",
       "      <td>1468252</td>\n",
       "      <td>80543469</td>\n",
       "    </tr>\n",
       "    <tr>\n",
       "      <th>20605</th>\n",
       "      <td>West Bengal</td>\n",
       "      <td>2024</td>\n",
       "      <td>4</td>\n",
       "      <td>nadia district</td>\n",
       "      <td>1861738</td>\n",
       "      <td>98740305</td>\n",
       "    </tr>\n",
       "    <tr>\n",
       "      <th>20606</th>\n",
       "      <td>West Bengal</td>\n",
       "      <td>2024</td>\n",
       "      <td>4</td>\n",
       "      <td>birbhum district</td>\n",
       "      <td>1114220</td>\n",
       "      <td>73465525</td>\n",
       "    </tr>\n",
       "    <tr>\n",
       "      <th>20607</th>\n",
       "      <td>West Bengal</td>\n",
       "      <td>2024</td>\n",
       "      <td>4</td>\n",
       "      <td>purba medinipur district</td>\n",
       "      <td>1717074</td>\n",
       "      <td>108350777</td>\n",
       "    </tr>\n",
       "  </tbody>\n",
       "</table>\n",
       "<p>20608 rows × 6 columns</p>\n",
       "</div>"
      ],
      "text/plain": [
       "                   state  year  Quarter                          Districts  \\\n",
       "0      Andaman & Nicobar  2018        1  north and middle andaman district   \n",
       "1      Andaman & Nicobar  2018        1             south andaman district   \n",
       "2      Andaman & Nicobar  2018        1                  nicobars district   \n",
       "3      Andaman & Nicobar  2018        2  north and middle andaman district   \n",
       "4      Andaman & Nicobar  2018        2             south andaman district   \n",
       "...                  ...   ...      ...                                ...   \n",
       "20603        West Bengal  2024        4                alipurduar district   \n",
       "20604        West Bengal  2024        4         paschim bardhaman district   \n",
       "20605        West Bengal  2024        4                     nadia district   \n",
       "20606        West Bengal  2024        4                   birbhum district   \n",
       "20607        West Bengal  2024        4           purba medinipur district   \n",
       "\n",
       "       Registered_Users  App_Opens  \n",
       "0                   632          0  \n",
       "1                  5846          0  \n",
       "2                   262          0  \n",
       "3                   911          0  \n",
       "4                  8143          0  \n",
       "...                 ...        ...  \n",
       "20603            475688   31842355  \n",
       "20604           1468252   80543469  \n",
       "20605           1861738   98740305  \n",
       "20606           1114220   73465525  \n",
       "20607           1717074  108350777  \n",
       "\n",
       "[20608 rows x 6 columns]"
      ]
     },
     "execution_count": 46,
     "metadata": {},
     "output_type": "execute_result"
    }
   ],
   "source": [
    "Map_user"
   ]
  },
  {
   "cell_type": "code",
   "execution_count": null,
   "id": "c9ac8ded",
   "metadata": {},
   "outputs": [],
   "source": []
  }
 ],
 "metadata": {
  "kernelspec": {
   "display_name": ".venv",
   "language": "python",
   "name": "python3"
  },
  "language_info": {
   "codemirror_mode": {
    "name": "ipython",
    "version": 3
   },
   "file_extension": ".py",
   "mimetype": "text/x-python",
   "name": "python",
   "nbconvert_exporter": "python",
   "pygments_lexer": "ipython3",
   "version": "3.13.3"
  }
 },
 "nbformat": 4,
 "nbformat_minor": 5
}
